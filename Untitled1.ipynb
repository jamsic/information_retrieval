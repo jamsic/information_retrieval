{
 "cells": [
  {
   "cell_type": "code",
   "execution_count": 1,
   "metadata": {
    "collapsed": true
   },
   "outputs": [],
   "source": [
    "from gensim.models import Word2Vec\n"
   ]
  },
  {
   "cell_type": "code",
   "execution_count": 2,
   "metadata": {
    "collapsed": true
   },
   "outputs": [],
   "source": [
    "def get_tags(filename='tags.txt'):\n",
    "    tags = set()\n",
    "    handle = open(filename)\n",
    "    for line in handle:\n",
    "        tag = line.strip()\n",
    "        if tag:\n",
    "            tags.add(tag)\n",
    "    return tags\n"
   ]
  },
  {
   "cell_type": "code",
   "execution_count": 3,
   "metadata": {
    "collapsed": false
   },
   "outputs": [],
   "source": [
    "#path = 'tag_vectors.bin'\n",
    "#path = 'tagsdata.bin'\n",
    "path = 'data_50_2.bin'\n",
    "\n",
    "model = Word2Vec.load_word2vec_format(path, binary=True)\n"
   ]
  },
  {
   "cell_type": "code",
   "execution_count": 4,
   "metadata": {
    "collapsed": true
   },
   "outputs": [],
   "source": [
    "#tags_filename = 'tags_v.txt'\n",
    "tags_filename = 'tags_50_2.txt'\n",
    "tags = get_tags(tags_filename)"
   ]
  },
  {
   "cell_type": "code",
   "execution_count": 5,
   "metadata": {
    "collapsed": false
   },
   "outputs": [],
   "source": [
    "tags_in_model = set()\n",
    "for tag in tags:\n",
    "    if tag in model:\n",
    "        tags_in_model.add(tag)"
   ]
  },
  {
   "cell_type": "code",
   "execution_count": 6,
   "metadata": {
    "collapsed": false
   },
   "outputs": [],
   "source": [
    "tags_in_model_lst = list(tags_in_model)"
   ]
  },
  {
   "cell_type": "code",
   "execution_count": 7,
   "metadata": {
    "collapsed": true
   },
   "outputs": [],
   "source": [
    "def empty_matrix(n):\n",
    "    matrix = []\n",
    "    for i in range(0, n):\n",
    "        l = []\n",
    "        for j in range(0,n):\n",
    "            l.append(0)\n",
    "        matrix.append(l)\n",
    "    return matrix\n",
    "\n",
    "def co_table(lst):\n",
    "    global model\n",
    "    n = len(lst)\n",
    "    g = empty_matrix(n)\n",
    "    for i in range(0, n):\n",
    "        for j in range(0, n):\n",
    "            if i != j:\n",
    "                g[i][j] = (1 - model.similarity(lst[i], lst[j]))\n",
    "    return g\n"
   ]
  },
  {
   "cell_type": "code",
   "execution_count": 8,
   "metadata": {
    "collapsed": true
   },
   "outputs": [],
   "source": [
    "import scipy.spatial.distance as ssd\n",
    "from matplotlib import pyplot as plt\n",
    "from scipy.cluster.hierarchy import dendrogram, linkage, fcluster\n",
    "import numpy as np"
   ]
  },
  {
   "cell_type": "code",
   "execution_count": 9,
   "metadata": {
    "collapsed": false
   },
   "outputs": [
    {
     "data": {
      "text/plain": [
       "2872"
      ]
     },
     "execution_count": 9,
     "metadata": {},
     "output_type": "execute_result"
    }
   ],
   "source": [
    "len(tags_in_model_lst)"
   ]
  },
  {
   "cell_type": "code",
   "execution_count": 10,
   "metadata": {
    "collapsed": true
   },
   "outputs": [],
   "source": [
    "co_tabl = co_table(tags_in_model_lst)"
   ]
  },
  {
   "cell_type": "code",
   "execution_count": 14,
   "metadata": {
    "collapsed": true
   },
   "outputs": [],
   "source": [
    "distArray = ssd.squareform(co_tabl)"
   ]
  },
  {
   "cell_type": "code",
   "execution_count": 15,
   "metadata": {
    "collapsed": true
   },
   "outputs": [],
   "source": [
    "Z = linkage(distArray, 'average')"
   ]
  },
  {
   "cell_type": "code",
   "execution_count": 16,
   "metadata": {
    "collapsed": true
   },
   "outputs": [],
   "source": [
    "%matplotlib inline"
   ]
  },
  {
   "cell_type": "code",
   "execution_count": 17,
   "metadata": {
    "collapsed": false
   },
   "outputs": [
    {
     "name": "stderr",
     "output_type": "stream",
     "text": [
      "/usr/lib/python3/dist-packages/matplotlib/collections.py:549: FutureWarning: elementwise comparison failed; returning scalar instead, but in the future will perform elementwise comparison\n",
      "  if self._edgecolors == 'face':\n"
     ]
    },
    {
     "data": {
      "image/png": "[encoded data removed]",
      "text/plain": [
       "<matplotlib.figure.Figure at 0x7f4e7640ad68>"
      ]
     },
     "metadata": {},
     "output_type": "display_data"
    }
   ],
   "source": [
    "plt.title('Hierarchical Clustering Dendrogram (truncated)')\n",
    "plt.xlabel('sample index')\n",
    "plt.ylabel('distance')\n",
    "dendrogram(\n",
    "    Z,\n",
    "    truncate_mode='lastp',\n",
    "    p=12,\n",
    "    show_leaf_counts=False,\n",
    "    leaf_rotation=90.,\n",
    "    leaf_font_size=12.,\n",
    "    show_contracted=True,\n",
    ")\n",
    "plt.show()"
   ]
  },
  {
   "cell_type": "code",
   "execution_count": 18,
   "metadata": {
    "collapsed": true
   },
   "outputs": [],
   "source": [
    "def retrieve_class(i, lst_words, lst_clusters):\n",
    "    cluster_words = set()\n",
    "    for word, cluster in zip(lst_words, lst_clusters):\n",
    "        #print()\n",
    "        if cluster == i:\n",
    "            cluster_words.add(word)\n",
    "    return cluster_words"
   ]
  },
  {
   "cell_type": "code",
   "execution_count": 19,
   "metadata": {
    "collapsed": true
   },
   "outputs": [],
   "source": [
    "def find_class_of_tag(tag, lst_words, lst_clusters):\n",
    "    for word, cluster in zip(lst_words, lst_clusters):\n",
    "        if word == tag:\n",
    "            return cluster\n",
    "    return 0"
   ]
  },
  {
   "cell_type": "code",
   "execution_count": 76,
   "metadata": {
    "collapsed": false
   },
   "outputs": [
    {
     "name": "stdout",
     "output_type": "stream",
     "text": [
      "clusters: 1446\n"
     ]
    }
   ],
   "source": [
    "max_d = 0.6 #525\n",
    "clusters = fcluster(Z, max_d, criterion='distance')\n",
    "number_of_clusters = len(set(clusters))\n",
    "print('clusters:', number_of_clusters)"
   ]
  },
  {
   "cell_type": "code",
   "execution_count": 77,
   "metadata": {
    "collapsed": false
   },
   "outputs": [],
   "source": [
    "p = retrieve_class(1, tags_in_model_lst, list(clusters))"
   ]
  },
  {
   "cell_type": "code",
   "execution_count": 78,
   "metadata": {
    "collapsed": false
   },
   "outputs": [
    {
     "data": {
      "text/plain": [
       "{'пиво'}"
      ]
     },
     "execution_count": 78,
     "metadata": {},
     "output_type": "execute_result"
    }
   ],
   "source": [
    "p"
   ]
  },
  {
   "cell_type": "code",
   "execution_count": 79,
   "metadata": {
    "collapsed": false
   },
   "outputs": [
    {
     "name": "stdout",
     "output_type": "stream",
     "text": [
      "1267\n"
     ]
    },
    {
     "data": {
      "text/plain": [
       "{'власть', 'государство', 'народ', 'политика', 'революция'}"
      ]
     },
     "execution_count": 79,
     "metadata": {},
     "output_type": "execute_result"
    }
   ],
   "source": [
    "class_of = find_class_of_tag('политика', tags_in_model_lst, list(clusters))\n",
    "print(class_of)\n",
    "if class_of:\n",
    "    pp = retrieve_class(class_of, tags_in_model_lst, list(clusters))\n",
    "pp"
   ]
  },
  {
   "cell_type": "code",
   "execution_count": 80,
   "metadata": {
    "collapsed": true
   },
   "outputs": [],
   "source": [
    "def get_class_of_word(word, tags_in_model_lst, clusters):\n",
    "    p = {}\n",
    "    class_of = find_class_of_tag(word, tags_in_model_lst, clusters)\n",
    "    if class_of:\n",
    "        p = retrieve_class(class_of, tags_in_model_lst, clusters)\n",
    "    return p"
   ]
  },
  {
   "cell_type": "code",
   "execution_count": 81,
   "metadata": {
    "collapsed": false
   },
   "outputs": [
    {
     "name": "stdout",
     "output_type": "stream",
     "text": [
      "word: фото\n",
      "cluster: {'фотография', 'фотографии', 'фото'}\n",
      "word: политика\n",
      "cluster: {'народ', 'политика', 'власть', 'революция', 'государство'}\n",
      "word: война\n",
      "cluster: {'гражданская#@###@#война', 'россия', 'война', 'сепаратизм'}\n",
      "word: сирия\n",
      "cluster: {'сирия', 'йемен', 'ближний#@###@#восток', 'пакистан', 'саудовская#@###@#аравия', 'холодная#@###@#война', 'мид', 'сша', 'оон', 'внешняя#@###@#политика', 'запад', 'иран', 'нато', 'геополитика', 'игил', 'обама', 'ирак', 'ядерное#@###@#оружие', 'дипломатия'}\n",
      "word: актер\n",
      "cluster: {'перестройка', 'оформление', 'слово', 'вднх', 'спектакль', 'мать', 'разум', 'костюм', 'рай', 'скульптура', 'актер', 'журналист', 'путь', 'писатель', 'благодарность', 'мастерская', 'шекспир', 'актриса', 'ад', 'галерея', 'поэт', 'крест', 'дерево'}\n",
      "word: зима\n",
      "cluster: {'мороз', 'первый#@###@#снег', 'снег', 'холод', 'снегопад', 'лед', 'зима', 'холодно'}\n",
      "word: новый#@###@#год\n",
      "cluster: {'новый#@###@#год', 'нг'}\n",
      "word: сентябрь\n",
      "cluster: {'июнь', 'сентябрь', 'август', 'июль'}\n"
     ]
    }
   ],
   "source": [
    "# фото\n",
    "# политика\n",
    "# война\n",
    "# сирия\n",
    "# актер\n",
    "# зима\n",
    "# новый#@###@#год\n",
    "# сентябрь\n",
    "test_words = ['фото', 'политика', 'война', 'сирия', 'актер', 'зима', 'новый#@###@#год', 'сентябрь']\n",
    "for test_word in test_words:\n",
    "    print('word: {0}\\ncluster: {1}'.format(test_word, get_class_of_word(test_word, tags_in_model_lst, list(clusters))))\n"
   ]
  },
  {
   "cell_type": "markdown",
   "metadata": {},
   "source": [
    "Автоматический выбор количества кластеров"
   ]
  },
  {
   "cell_type": "markdown",
   "metadata": {},
   "source": [
    "Inconsistency Method"
   ]
  },
  {
   "cell_type": "code",
   "execution_count": 84,
   "metadata": {
    "collapsed": false
   },
   "outputs": [
    {
     "name": "stdout",
     "output_type": "stream",
     "text": [
      "clusters: 958\n"
     ]
    }
   ],
   "source": [
    "clusters2 = fcluster(Z, t=1, criterion='inconsistent')\n",
    "number_of_clusters2 = len(set(clusters2))\n",
    "print('clusters:', number_of_clusters2)"
   ]
  },
  {
   "cell_type": "code",
   "execution_count": 85,
   "metadata": {
    "collapsed": false
   },
   "outputs": [
    {
     "name": "stdout",
     "output_type": "stream",
     "text": [
      "word: фото\n",
      "cluster: {'мои#@###@#фото', 'фотография', 'фотографии', 'фото'}\n",
      "word: политика\n",
      "cluster: {'политика', 'революция'}\n",
      "word: война\n",
      "cluster: {'гражданская#@###@#война', 'война'}\n",
      "word: сирия\n",
      "cluster: {'сирия', 'иран', 'ирак', 'саудовская#@###@#аравия'}\n",
      "word: актер\n",
      "cluster: {'мать', 'перестройка', 'актер', 'писатель', 'поэт', 'крест', 'костюм', 'шекспир', 'актриса'}\n",
      "word: зима\n",
      "cluster: {'мороз', 'первый#@###@#снег', 'снег', 'снегопад', 'лед', 'зима'}\n",
      "word: новый#@###@#год\n",
      "cluster: {'новый#@###@#год', 'нг'}\n",
      "word: сентябрь\n",
      "cluster: {'сентябрь', 'август'}\n"
     ]
    }
   ],
   "source": [
    "test_words = ['фото', 'политика', 'война', 'сирия', 'актер', 'зима', 'новый#@###@#год', 'сентябрь']\n",
    "for test_word in test_words:\n",
    "    print('word: {0}\\ncluster: {1}'.format(test_word, get_class_of_word(test_word, tags_in_model_lst, list(clusters2))))\n"
   ]
  },
  {
   "cell_type": "markdown",
   "metadata": {},
   "source": [
    "Elbow Method"
   ]
  },
  {
   "cell_type": "code",
   "execution_count": 86,
   "metadata": {
    "collapsed": false
   },
   "outputs": [
    {
     "data": {
      "image/png": "[encoded data removed]",
      "text/plain": [
       "<matplotlib.figure.Figure at 0x7f4e75891438>"
      ]
     },
     "metadata": {},
     "output_type": "display_data"
    },
    {
     "name": "stdout",
     "output_type": "stream",
     "text": [
      "clusters: 2866\n"
     ]
    }
   ],
   "source": [
    "clust_distances = Z[:,2]\n",
    "clust_distances_rev = Z[::-1]\n",
    "idxs = np.arange(1, len(clust_distances) + 1)\n",
    "plt.plot(idxs, clust_distances)\n",
    "\n",
    "acceleration = np.diff(clust_distances, 2) # типа производной\n",
    "acceleration_rev = acceleration[::-1]\n",
    "plt.plot(idxs[:-2] + 1, acceleration_rev)\n",
    "plt.show()\n",
    "k = acceleration.argmax()\n",
    "print(\"clusters:\", k)"
   ]
  },
  {
   "cell_type": "code",
   "execution_count": 69,
   "metadata": {
    "collapsed": false
   },
   "outputs": [],
   "source": [
    "clusters_elbow = fcluster(Z, k, criterion='maxclust')"
   ]
  },
  {
   "cell_type": "code",
   "execution_count": 70,
   "metadata": {
    "collapsed": false
   },
   "outputs": [
    {
     "name": "stdout",
     "output_type": "stream",
     "text": [
      "word: фото\n",
      "cluster: {'фото'}\n",
      "word: политика\n",
      "cluster: {'политика'}\n",
      "word: война\n",
      "cluster: {'война'}\n",
      "word: сирия\n",
      "cluster: {'сирия'}\n",
      "word: актер\n",
      "cluster: {'актер'}\n",
      "word: зима\n",
      "cluster: {'зима'}\n",
      "word: новый#@###@#год\n",
      "cluster: {'новый#@###@#год'}\n",
      "word: сентябрь\n",
      "cluster: {'сентябрь'}\n"
     ]
    }
   ],
   "source": [
    "test_words = ['фото', 'политика', 'война', 'сирия', 'актер', 'зима', 'новый#@###@#год', 'сентябрь']\n",
    "for test_word in test_words:\n",
    "    print('word: {0}\\ncluster: {1}'.format(test_word, get_class_of_word(test_word, tags_in_model_lst, list(clusters_elbow))))\n"
   ]
  },
  {
   "cell_type": "markdown",
   "metadata": {},
   "source": [
    "Конец, дальше ничего интересного"
   ]
  },
  {
   "cell_type": "code",
   "execution_count": 28,
   "metadata": {
    "collapsed": false
   },
   "outputs": [
    {
     "data": {
      "text/plain": [
       "<gensim.models.word2vec.Word2Vec at 0x7f4e89860f60>"
      ]
     },
     "execution_count": 28,
     "metadata": {},
     "output_type": "execute_result"
    }
   ],
   "source": [
    "model"
   ]
  },
  {
   "cell_type": "code",
   "execution_count": 11,
   "metadata": {
    "collapsed": false
   },
   "outputs": [
    {
     "data": {
      "text/plain": [
       "2872"
      ]
     },
     "execution_count": 11,
     "metadata": {},
     "output_type": "execute_result"
    }
   ],
   "source": [
    "len(tags_in_model_lst)"
   ]
  },
  {
   "cell_type": "code",
   "execution_count": 17,
   "metadata": {
    "collapsed": false
   },
   "outputs": [
    {
     "data": {
      "text/plain": [
       "2872"
      ]
     },
     "execution_count": 17,
     "metadata": {},
     "output_type": "execute_result"
    }
   ],
   "source": [
    "len(co_tabl)"
   ]
  },
  {
   "cell_type": "code",
   "execution_count": 20,
   "metadata": {
    "collapsed": false
   },
   "outputs": [
    {
     "data": {
      "text/plain": [
       "array([[  2.10700000e+03,   2.33800000e+03,   1.48283082e-01,\n",
       "          2.00000000e+00],\n",
       "       [  7.00000000e+01,   1.00600000e+03,   1.66346556e-01,\n",
       "          2.00000000e+00],\n",
       "       [  1.73000000e+02,   2.61200000e+03,   1.94727165e-01,\n",
       "          2.00000000e+00],\n",
       "       ..., \n",
       "       [  5.73800000e+03,   5.73900000e+03,   1.00093145e+00,\n",
       "          1.64600000e+03],\n",
       "       [  5.72400000e+03,   5.73100000e+03,   1.00847308e+00,\n",
       "          1.22600000e+03],\n",
       "       [  5.74000000e+03,   5.74100000e+03,   1.01987516e+00,\n",
       "          2.87200000e+03]])"
      ]
     },
     "execution_count": 20,
     "metadata": {},
     "output_type": "execute_result"
    }
   ],
   "source": [
    "Z"
   ]
  },
  {
   "cell_type": "code",
   "execution_count": 21,
   "metadata": {
    "collapsed": false
   },
   "outputs": [
    {
     "data": {
      "text/plain": [
       "array([  2.10700000e+03,   2.33800000e+03,   1.48283082e-01,\n",
       "         2.00000000e+00])"
      ]
     },
     "execution_count": 21,
     "metadata": {},
     "output_type": "execute_result"
    }
   ],
   "source": [
    "Z[0]"
   ]
  },
  {
   "cell_type": "code",
   "execution_count": 22,
   "metadata": {
    "collapsed": false
   },
   "outputs": [
    {
     "data": {
      "text/plain": [
       "array([  7.00000000e+01,   1.00600000e+03,   1.66346556e-01,\n",
       "         2.00000000e+00])"
      ]
     },
     "execution_count": 22,
     "metadata": {},
     "output_type": "execute_result"
    }
   ],
   "source": [
    "Z[1]"
   ]
  },
  {
   "cell_type": "code",
   "execution_count": 23,
   "metadata": {
    "collapsed": false
   },
   "outputs": [
    {
     "data": {
      "text/plain": [
       "2871"
      ]
     },
     "execution_count": 23,
     "metadata": {},
     "output_type": "execute_result"
    }
   ],
   "source": [
    "len(Z)"
   ]
  },
  {
   "cell_type": "code",
   "execution_count": 26,
   "metadata": {
    "collapsed": false
   },
   "outputs": [
    {
     "data": {
      "text/plain": [
       "array([  5.72400000e+03,   5.73100000e+03,   1.00847308e+00,\n",
       "         1.22600000e+03])"
      ]
     },
     "execution_count": 26,
     "metadata": {},
     "output_type": "execute_result"
    }
   ],
   "source": [
    "Z[2869]"
   ]
  },
  {
   "cell_type": "code",
   "execution_count": 27,
   "metadata": {
    "collapsed": false
   },
   "outputs": [
    {
     "data": {
      "text/plain": [
       "array([  5.45100000e+03,   5.72800000e+03,   9.68023947e-01,\n",
       "         2.57000000e+02])"
      ]
     },
     "execution_count": 27,
     "metadata": {},
     "output_type": "execute_result"
    }
   ],
   "source": [
    "Z[2860]"
   ]
  },
  {
   "cell_type": "code",
   "execution_count": 49,
   "metadata": {
    "collapsed": true
   },
   "outputs": [],
   "source": [
    "def write_tree(Z, filename='tree.txt'):\n",
    "    handle = open(filename, 'w')\n",
    "    for step in Z:\n",
    "        handle.write('{0[0]}\\t{0[1]}\\t{0[2]}\\t{0[3]}\\n'.format(list(step)))\n",
    "    handle.close()"
   ]
  },
  {
   "cell_type": "code",
   "execution_count": 48,
   "metadata": {
    "collapsed": false
   },
   "outputs": [
    {
     "data": {
      "text/plain": [
       "'2107.0\\t2338.0\\t0.14828308196383833\\t2.0\\n'"
      ]
     },
     "execution_count": 48,
     "metadata": {},
     "output_type": "execute_result"
    }
   ],
   "source": [
    "'{0[0]}\\t{0[1]}\\t{0[2]}\\t{0[3]}\\n'.format(list(Z[0]))"
   ]
  },
  {
   "cell_type": "code",
   "execution_count": 37,
   "metadata": {
    "collapsed": false
   },
   "outputs": [
    {
     "data": {
      "text/plain": [
       "[2107.0, 2338.0, 0.14828308196383833, 2.0]"
      ]
     },
     "execution_count": 37,
     "metadata": {},
     "output_type": "execute_result"
    }
   ],
   "source": [
    "list(Z[0])"
   ]
  },
  {
   "cell_type": "code",
   "execution_count": 50,
   "metadata": {
    "collapsed": true
   },
   "outputs": [],
   "source": [
    "write_tree(Z)"
   ]
  },
  {
   "cell_type": "code",
   "execution_count": 51,
   "metadata": {
    "collapsed": false
   },
   "outputs": [
    {
     "data": {
      "text/plain": [
       "2871"
      ]
     },
     "execution_count": 51,
     "metadata": {},
     "output_type": "execute_result"
    }
   ],
   "source": [
    "len(Z)"
   ]
  },
  {
   "cell_type": "code",
   "execution_count": 73,
   "metadata": {
    "collapsed": false
   },
   "outputs": [
    {
     "data": {
      "text/plain": [
       "array([[  2.10700000e+03,   2.33800000e+03,   1.48283082e-01,\n",
       "          2.00000000e+00],\n",
       "       [  7.00000000e+01,   1.00600000e+03,   1.66346556e-01,\n",
       "          2.00000000e+00],\n",
       "       [  1.73000000e+02,   2.61200000e+03,   1.94727165e-01,\n",
       "          2.00000000e+00],\n",
       "       ..., \n",
       "       [  5.73800000e+03,   5.73900000e+03,   1.00093145e+00,\n",
       "          1.64600000e+03],\n",
       "       [  5.72400000e+03,   5.73100000e+03,   1.00847308e+00,\n",
       "          1.22600000e+03],\n",
       "       [  5.74000000e+03,   5.74100000e+03,   1.01987516e+00,\n",
       "          2.87200000e+03]])"
      ]
     },
     "execution_count": 73,
     "metadata": {},
     "output_type": "execute_result"
    }
   ],
   "source": [
    "Z"
   ]
  },
  {
   "cell_type": "code",
   "execution_count": 161,
   "metadata": {
    "collapsed": false
   },
   "outputs": [
    {
     "data": {
      "text/plain": [
       "4122756"
      ]
     },
     "execution_count": 161,
     "metadata": {},
     "output_type": "execute_result"
    }
   ],
   "source": [
    "len(distArray)"
   ]
  },
  {
   "cell_type": "code",
   "execution_count": null,
   "metadata": {
    "collapsed": true
   },
   "outputs": [],
   "source": []
  }
 ],
 "metadata": {
  "kernelspec": {
   "display_name": "Python 3",
   "language": "python",
   "name": "python3"
  },
  "language_info": {
   "codemirror_mode": {
    "name": "ipython",
    "version": 3
   },
   "file_extension": ".py",
   "mimetype": "text/x-python",
   "name": "python",
   "nbconvert_exporter": "python",
   "pygments_lexer": "ipython3",
   "version": "3.4.3"
  }
 },
 "nbformat": 4,
 "nbformat_minor": 0
}
