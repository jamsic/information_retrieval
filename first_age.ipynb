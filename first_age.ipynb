{
 "metadata": {
  "name": "",
  "signature": "sha256:0af792ae913f78eabe46846bfb3bebad2ce5ce9a59a0254ed523b39f22a8488a"
 },
 "nbformat": 3,
 "nbformat_minor": 0,
 "worksheets": [
  {
   "cells": [
    {
     "cell_type": "code",
     "collapsed": false,
     "input": [
      "name = '7'\n",
      "dir_ = '/home/jamsic/python2/vk_data'"
     ],
     "language": "python",
     "metadata": {},
     "outputs": [],
     "prompt_number": 1
    },
    {
     "cell_type": "code",
     "collapsed": false,
     "input": [
      "import networkx as nx\n",
      "\n",
      "\n",
      "def open_adj(dir_, name):\n",
      "    #graph = defaultdict(list)\n",
      "    G=nx.Graph()\n",
      "    handle = open('{}/adj/egonet_{}.csv'.format(dir_, name))\n",
      "    first_seen = True\n",
      "    for line in handle:\n",
      "        a,j = line.split()\n",
      "        if (a == name or j == name):\n",
      "            G.add_edge(a,j)\n",
      "        #graph[int(a)].append(int(j))\n",
      "    return G\n"
     ],
     "language": "python",
     "metadata": {},
     "outputs": [],
     "prompt_number": 2
    },
    {
     "cell_type": "code",
     "collapsed": false,
     "input": [
      "import codecs\n",
      "import json\n",
      "import os\n",
      " \n",
      "def read(dir_, name):\n",
      "        with codecs.open('{}/profiles/egonet_{}.json'.format(dir_, name), 'r', 'utf-8') as f:\n",
      "            data = json.load(f)\n",
      "            return data\n",
      " "
     ],
     "language": "python",
     "metadata": {},
     "outputs": [],
     "prompt_number": 3
    },
    {
     "cell_type": "code",
     "collapsed": false,
     "input": [
      "def get_age(data, nodd):\n",
      "    bdate = data[nodd].get('bdate', None)\n",
      "    if bdate:\n",
      "        if len(bdate.split('.')) == 3:\n",
      "            return 2014 - int(bdate.split('.')[2])\n",
      "    univ = data[nodd].get('universities', [])\n",
      "    for uni in univ:\n",
      "        grad_year = uni.get('graduation', None)\n",
      "        if grad_year:\n",
      "            return 2014 - int(grad_year) + 22\n",
      "    schools = data[nodd].get('schools', [])\n",
      "    for school in schools:\n",
      "        grad_year = school.get('year_graduated', None)\n",
      "        if grad_year:\n",
      "            return 2014 - int(grad_year) + 18\n",
      "   # return 'unknown'\n",
      "    return ''"
     ],
     "language": "python",
     "metadata": {},
     "outputs": [],
     "prompt_number": 4
    },
    {
     "cell_type": "code",
     "collapsed": false,
     "input": [
      "import matplotlib.pyplot as plt\n",
      "import numpy as np\n",
      "%matplotlib inline\n",
      "\n",
      "\n",
      "def find_age(name, dir_, see=False):\n",
      "    data = read(dir_, name)\n",
      "    true_age = get_age(data, name)\n",
      "#for id_ in data:\n",
      "#    print(data[id_].get('bdate', 'unknown'))\n",
      "    s = open_adj(dir_, name)\n",
      "    #s.number_of_edges()\n",
      "    #nx.draw(s)\n",
      "    ages = {}\n",
      "    for nodd in s.nodes():\n",
      "        #p = data[nodd].get('bdate', 'unknown')\n",
      "        #p = p.split('.')\n",
      "        #if len(p) == 3:\n",
      "        #    p = 2014 - int(p[2])\n",
      "        #else:\n",
      "        #    p = 'unknown'\n",
      "        ages[nodd] = get_age(data, nodd)\n",
      "    #print(nodd, data[nodd].get('bdate', 'unknown'))\n",
      "    if see:\n",
      "        nx.draw_networkx(s, labels=ages)\n",
      "    if true_age == '':\n",
      "        true_age = 'unknown'\n",
      "        #print(true_age)\n",
      "    #print(ages)\n",
      "    #ages_ = [int(ag) for ag in ages.values() if ag != 'unknown']\n",
      "    ages_ = [int(ag) for ag in ages.values() if ag]\n",
      "    #sort(ages)\n",
      "#print(median_)\n",
      "    #print(ages_)\n",
      "    if not ages_:\n",
      "        #print(ages, name)\n",
      "        answer = 'unknown'\n",
      "    else:\n",
      "        mean_ = np.mean(ages_)\n",
      "        median_ = np.median(ages_)\n",
      "        \n",
      "        from collections import Counter\n",
      "        c = Counter(ages_)\n",
      "        #print('most common', c.most_common(1))\n",
      "        moda = c.most_common(1)[0][0]\n",
      "        #print(moda)\n",
      "        #answer = (moda, median_, mean_)\n",
      "        answer = median_\n",
      "        \n",
      "        #211, 43\n",
      "        #answer = (mean_ + median) / 2  #211, 43\n",
      "    #answer = median_ #(211, 79\n",
      "    #answer = mean_ # (211, 15)\n",
      "    \n",
      "    return answer, true_age \n"
     ],
     "language": "python",
     "metadata": {},
     "outputs": [],
     "prompt_number": 5
    },
    {
     "cell_type": "code",
     "collapsed": false,
     "input": [
      "def read_dir(dir_):\n",
      "    names = []\n",
      "    for file_ in os.listdir(dir_):\n",
      "        names.append(file_)\n",
      "    return names\n"
     ],
     "language": "python",
     "metadata": {},
     "outputs": [],
     "prompt_number": 6
    },
    {
     "cell_type": "code",
     "collapsed": false,
     "input": [
      "lst = read_dir(dir_+'/adj')"
     ],
     "language": "python",
     "metadata": {},
     "outputs": [],
     "prompt_number": 7
    },
    {
     "cell_type": "code",
     "collapsed": false,
     "input": [
      "lst= [l.split('.')[0][7:] for l in lst]"
     ],
     "language": "python",
     "metadata": {},
     "outputs": [],
     "prompt_number": 8
    },
    {
     "cell_type": "code",
     "collapsed": false,
     "input": [
      "total = 0\n",
      "predicted_true = 0\n",
      "pogr = 0 # 1 - 191, 2 - 121 0 - 78 - median 0 - 90 1 - 191 2 - 121 - moda \u0438\u0437 125\n",
      "for id_ in lst:\n",
      "    #print(id_ )\n",
      "    ans, true_age = find_age(id_ , dir_)\n",
      "    if true_age != 'unknown':\n",
      "        total += 1\n",
      "        predicted_true += abs(ans - true_age) <= pogr\n",
      "print(total, predicted_true)"
     ],
     "language": "python",
     "metadata": {},
     "outputs": [
      {
       "output_type": "stream",
       "stream": "stdout",
       "text": [
        "(130, 81)\n"
       ]
      }
     ],
     "prompt_number": 9
    },
    {
     "cell_type": "code",
     "collapsed": false,
     "input": [
      "predicted_true/1./total"
     ],
     "language": "python",
     "metadata": {},
     "outputs": [
      {
       "metadata": {},
       "output_type": "pyout",
       "prompt_number": 10,
       "text": [
        "0.62307692307692308"
       ]
      }
     ],
     "prompt_number": 10
    },
    {
     "cell_type": "code",
     "collapsed": false,
     "input": [
      "name = '7'\n",
      "dir_ = '/home/jamsic/python2/vk_data'\n",
      "find_age(name , dir_, see=True)\n",
      "# \u043c\u0435\u0434\u0438\u0430\u043d\u0430, \u0432\u043e\u0437\u0440\u0430\u0441\u0442"
     ],
     "language": "python",
     "metadata": {},
     "outputs": [
      {
       "metadata": {},
       "output_type": "pyout",
       "prompt_number": 11,
       "text": [
        "(30.0, 30)"
       ]
      },
      {
       "metadata": {},
       "output_type": "display_data",
       "png": "[encoded data removed]",
       "text": [
        "<matplotlib.figure.Figure at 0x121a3690>"
       ]
      }
     ],
     "prompt_number": 11
    },
    {
     "cell_type": "code",
     "collapsed": false,
     "input": [],
     "language": "python",
     "metadata": {},
     "outputs": [],
     "prompt_number": 11
    },
    {
     "cell_type": "code",
     "collapsed": false,
     "input": [],
     "language": "python",
     "metadata": {},
     "outputs": []
    }
   ],
   "metadata": {}
  }
 ]
}