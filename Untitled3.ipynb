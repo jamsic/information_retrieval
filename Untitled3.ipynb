{
 "cells": [
  {
   "cell_type": "code",
   "execution_count": 1,
   "metadata": {
    "collapsed": true
   },
   "outputs": [],
   "source": [
    "from gensim.models import Word2Vec\n"
   ]
  },
  {
   "cell_type": "code",
   "execution_count": 2,
   "metadata": {
    "collapsed": true
   },
   "outputs": [],
   "source": [
    "def get_tags(filename='tags.txt'):\n",
    "    tags = set()\n",
    "    handle = open(filename)\n",
    "    for line in handle:\n",
    "        tag = line.strip()\n",
    "        if tag:\n",
    "            tags.add(tag)\n",
    "    return tags\n"
   ]
  },
  {
   "cell_type": "code",
   "execution_count": 3,
   "metadata": {
    "collapsed": false
   },
   "outputs": [],
   "source": [
    "#path = 'tag_vectors.bin'\n",
    "#path = 'tagsdata.bin'\n",
    "path = 'data_50_2.bin'\n",
    "\n",
    "model = Word2Vec.load_word2vec_format(path, binary=True)\n"
   ]
  },
  {
   "cell_type": "code",
   "execution_count": 4,
   "metadata": {
    "collapsed": true
   },
   "outputs": [],
   "source": [
    "#tags_filename = 'tags_v.txt'\n",
    "tags_filename = 'tags_50_2.txt'\n",
    "tags = get_tags(tags_filename)"
   ]
  },
  {
   "cell_type": "code",
   "execution_count": 5,
   "metadata": {
    "collapsed": false
   },
   "outputs": [],
   "source": [
    "tags_in_model = set()\n",
    "for tag in tags:\n",
    "    if tag in model:\n",
    "        tags_in_model.add(tag)"
   ]
  },
  {
   "cell_type": "code",
   "execution_count": 6,
   "metadata": {
    "collapsed": false
   },
   "outputs": [],
   "source": [
    "tags_in_model_lst = list(tags_in_model)"
   ]
  },
  {
   "cell_type": "code",
   "execution_count": 7,
   "metadata": {
    "collapsed": true
   },
   "outputs": [],
   "source": [
    "def empty_matrix(n):\n",
    "    matrix = []\n",
    "    for i in range(0, n):\n",
    "        l = []\n",
    "        for j in range(0,n):\n",
    "            l.append(0)\n",
    "        matrix.append(l)\n",
    "    return matrix\n",
    "\n",
    "def co_table(lst):\n",
    "    global model\n",
    "    n = len(lst)\n",
    "    g = empty_matrix(n)\n",
    "    for i in range(0, n):\n",
    "        for j in range(0, n):\n",
    "            if i != j:\n",
    "                g[i][j] = (1 - model.similarity(lst[i], lst[j]))\n",
    "    return g\n"
   ]
  },
  {
   "cell_type": "code",
   "execution_count": 8,
   "metadata": {
    "collapsed": true
   },
   "outputs": [],
   "source": [
    "import scipy.spatial.distance as ssd\n",
    "from matplotlib import pyplot as plt\n",
    "from scipy.cluster.hierarchy import dendrogram, linkage, fcluster\n",
    "import numpy as np"
   ]
  },
  {
   "cell_type": "code",
   "execution_count": 9,
   "metadata": {
    "collapsed": false
   },
   "outputs": [
    {
     "data": {
      "text/plain": [
       "2872"
      ]
     },
     "execution_count": 9,
     "metadata": {},
     "output_type": "execute_result"
    }
   ],
   "source": [
    "len(tags_in_model_lst)"
   ]
  },
  {
   "cell_type": "code",
   "execution_count": 10,
   "metadata": {
    "collapsed": true
   },
   "outputs": [],
   "source": [
    "co_tabl = co_table(tags_in_model_lst)"
   ]
  },
  {
   "cell_type": "code",
   "execution_count": 11,
   "metadata": {
    "collapsed": true
   },
   "outputs": [],
   "source": [
    "distArray = ssd.squareform(co_tabl)"
   ]
  },
  {
   "cell_type": "code",
   "execution_count": 12,
   "metadata": {
    "collapsed": true
   },
   "outputs": [],
   "source": [
    "Z = linkage(distArray, 'average')"
   ]
  },
  {
   "cell_type": "code",
   "execution_count": 13,
   "metadata": {
    "collapsed": true
   },
   "outputs": [],
   "source": [
    "%matplotlib inline"
   ]
  },
  {
   "cell_type": "code",
   "execution_count": 14,
   "metadata": {
    "collapsed": false
   },
   "outputs": [
    {
     "name": "stderr",
     "output_type": "stream",
     "text": [
      "/usr/lib/python3/dist-packages/matplotlib/collections.py:549: FutureWarning: elementwise comparison failed; returning scalar instead, but in the future will perform elementwise comparison\n",
      "  if self._edgecolors == 'face':\n"
     ]
    },
    {
     "data": {
      "image/png": "[encoded data removed]",
      "text/plain": [
       "<matplotlib.figure.Figure at 0x7f1c3b9d5cf8>"
      ]
     },
     "metadata": {},
     "output_type": "display_data"
    }
   ],
   "source": [
    "plt.title('Hierarchical Clustering Dendrogram (truncated)')\n",
    "plt.xlabel('sample index')\n",
    "plt.ylabel('distance')\n",
    "dendrogram(\n",
    "    Z,\n",
    "    truncate_mode='lastp',\n",
    "    p=12,\n",
    "    show_leaf_counts=False,\n",
    "    leaf_rotation=90.,\n",
    "    leaf_font_size=12.,\n",
    "    show_contracted=True,\n",
    ")\n",
    "plt.show()"
   ]
  },
  {
   "cell_type": "code",
   "execution_count": 15,
   "metadata": {
    "collapsed": true
   },
   "outputs": [],
   "source": [
    "def retrieve_class(i, lst_words, lst_clusters):\n",
    "    cluster_words = set()\n",
    "    for word, cluster in zip(lst_words, lst_clusters):\n",
    "        #print()\n",
    "        if cluster == i:\n",
    "            cluster_words.add(word)\n",
    "    return cluster_words"
   ]
  },
  {
   "cell_type": "code",
   "execution_count": 16,
   "metadata": {
    "collapsed": true
   },
   "outputs": [],
   "source": [
    "def find_class_of_tag(tag, lst_words, lst_clusters):\n",
    "    for word, cluster in zip(lst_words, lst_clusters):\n",
    "        if word == tag:\n",
    "            return cluster\n",
    "    return 0"
   ]
  },
  {
   "cell_type": "code",
   "execution_count": 17,
   "metadata": {
    "collapsed": false
   },
   "outputs": [
    {
     "name": "stdout",
     "output_type": "stream",
     "text": [
      "clusters: 1446\n"
     ]
    }
   ],
   "source": [
    "max_d = 0.6 #525\n",
    "clusters = fcluster(Z, max_d, criterion='distance')\n",
    "number_of_clusters = len(set(clusters))\n",
    "print('clusters:', number_of_clusters)"
   ]
  },
  {
   "cell_type": "code",
   "execution_count": 18,
   "metadata": {
    "collapsed": false
   },
   "outputs": [],
   "source": [
    "p = retrieve_class(1, tags_in_model_lst, list(clusters))"
   ]
  },
  {
   "cell_type": "code",
   "execution_count": 19,
   "metadata": {
    "collapsed": false
   },
   "outputs": [
    {
     "data": {
      "text/plain": [
       "{'вино'}"
      ]
     },
     "execution_count": 19,
     "metadata": {},
     "output_type": "execute_result"
    }
   ],
   "source": [
    "p"
   ]
  },
  {
   "cell_type": "code",
   "execution_count": 20,
   "metadata": {
    "collapsed": false
   },
   "outputs": [
    {
     "name": "stdout",
     "output_type": "stream",
     "text": [
      "1267\n"
     ]
    },
    {
     "data": {
      "text/plain": [
       "{'власть', 'государство', 'народ', 'политика', 'революция'}"
      ]
     },
     "execution_count": 20,
     "metadata": {},
     "output_type": "execute_result"
    }
   ],
   "source": [
    "class_of = find_class_of_tag('политика', tags_in_model_lst, list(clusters))\n",
    "print(class_of)\n",
    "if class_of:\n",
    "    pp = retrieve_class(class_of, tags_in_model_lst, list(clusters))\n",
    "pp"
   ]
  },
  {
   "cell_type": "code",
   "execution_count": 21,
   "metadata": {
    "collapsed": true
   },
   "outputs": [],
   "source": [
    "def get_class_of_word(word, tags_in_model_lst, clusters):\n",
    "    p = {}\n",
    "    class_of = find_class_of_tag(word, tags_in_model_lst, clusters)\n",
    "    if class_of:\n",
    "        p = retrieve_class(class_of, tags_in_model_lst, clusters)\n",
    "    return p"
   ]
  },
  {
   "cell_type": "code",
   "execution_count": 22,
   "metadata": {
    "collapsed": false
   },
   "outputs": [
    {
     "name": "stdout",
     "output_type": "stream",
     "text": [
      "word: фото\n",
      "cluster: {'фотографии', 'фотография', 'фото'}\n",
      "word: политика\n",
      "cluster: {'политика', 'государство', 'народ', 'власть', 'революция'}\n",
      "word: война\n",
      "cluster: {'война', 'россия', 'гражданская#@###@#война', 'сепаратизм'}\n",
      "word: сирия\n",
      "cluster: {'йемен', 'сша', 'иран', 'оон', 'игил', 'обама', 'нато', 'ирак', 'ближний#@###@#восток', 'внешняя#@###@#политика', 'холодная#@###@#война', 'сирия', 'ядерное#@###@#оружие', 'мид', 'запад', 'дипломатия', 'геополитика', 'саудовская#@###@#аравия', 'пакистан'}\n",
      "word: актер\n",
      "cluster: {'рай', 'актриса', 'шекспир', 'оформление', 'перестройка', 'костюм', 'мастерская', 'скульптура', 'журналист', 'путь', 'слово', 'разум', 'мать', 'галерея', 'дерево', 'поэт', 'вднх', 'благодарность', 'ад', 'спектакль', 'крест', 'актер', 'писатель'}\n",
      "word: зима\n",
      "cluster: {'лед', 'первый#@###@#снег', 'мороз', 'холодно', 'зима', 'холод', 'снег', 'снегопад'}\n",
      "word: новый#@###@#год\n",
      "cluster: {'нг', 'новый#@###@#год'}\n",
      "word: сентябрь\n",
      "cluster: {'август', 'июль', 'июнь', 'сентябрь'}\n",
      "word: фотки\n",
      "cluster: {'фотки'}\n",
      "word: информационная#@###@#война\n",
      "cluster: {'сми', 'пропаганда', 'информационная#@###@#война'}\n"
     ]
    }
   ],
   "source": [
    "# фото\n",
    "# политика\n",
    "# война\n",
    "# сирия\n",
    "# актер\n",
    "# зима\n",
    "# новый#@###@#год\n",
    "# сентябрь\n",
    "test_words = ['фото', 'политика', 'война', 'сирия', 'актер', 'зима',\n",
    "              'новый#@###@#год', 'сентябрь','фотки','информационная#@###@#война']\n",
    "for test_word in test_words:\n",
    "    print('word: {0}\\ncluster: {1}'.format(test_word, get_class_of_word(test_word, tags_in_model_lst, list(clusters))))\n"
   ]
  },
  {
   "cell_type": "markdown",
   "metadata": {},
   "source": [
    "Автоматический выбор количества кластеров"
   ]
  },
  {
   "cell_type": "markdown",
   "metadata": {},
   "source": [
    "Inconsistency Method"
   ]
  },
  {
   "cell_type": "code",
   "execution_count": 23,
   "metadata": {
    "collapsed": false
   },
   "outputs": [
    {
     "name": "stdout",
     "output_type": "stream",
     "text": [
      "clusters: 958\n"
     ]
    }
   ],
   "source": [
    "clusters2 = fcluster(Z, t=1, criterion='inconsistent')\n",
    "number_of_clusters2 = len(set(clusters2))\n",
    "print('clusters:', number_of_clusters2)"
   ]
  },
  {
   "cell_type": "code",
   "execution_count": 24,
   "metadata": {
    "collapsed": false
   },
   "outputs": [
    {
     "name": "stdout",
     "output_type": "stream",
     "text": [
      "word: фото\n",
      "cluster: {'фотографии', 'фотография', 'фото', 'мои#@###@#фото'}\n",
      "word: политика\n",
      "cluster: {'политика', 'революция'}\n",
      "word: война\n",
      "cluster: {'война', 'гражданская#@###@#война'}\n",
      "word: сирия\n",
      "cluster: {'ирак', 'иран', 'саудовская#@###@#аравия', 'сирия'}\n",
      "word: актер\n",
      "cluster: {'поэт', 'актриса', 'шекспир', 'крест', 'мать', 'актер', 'писатель', 'перестройка', 'костюм'}\n",
      "word: зима\n",
      "cluster: {'лед', 'первый#@###@#снег', 'мороз', 'зима', 'снег', 'снегопад'}\n",
      "word: новый#@###@#год\n",
      "cluster: {'нг', 'новый#@###@#год'}\n",
      "word: сентябрь\n",
      "cluster: {'август', 'сентябрь'}\n",
      "word: фотки\n",
      "cluster: {'позитив', 'фотки'}\n",
      "word: информационная#@###@#война\n",
      "cluster: {'сми', 'пропаганда', 'информационная#@###@#война'}\n"
     ]
    }
   ],
   "source": [
    "test_words = ['фото', 'политика', 'война', 'сирия', 'актер', 'зима', 'новый#@###@#год',\n",
    "              'сентябрь','фотки','информационная#@###@#война']\n",
    "for test_word in test_words:\n",
    "    print('word: {0}\\ncluster: {1}'.format(test_word, get_class_of_word(test_word, tags_in_model_lst, list(clusters2))))\n"
   ]
  },
  {
   "cell_type": "markdown",
   "metadata": {},
   "source": [
    "Elbow Method"
   ]
  },
  {
   "cell_type": "code",
   "execution_count": 25,
   "metadata": {
    "collapsed": false
   },
   "outputs": [
    {
     "data": {
      "image/png": "[encoded data removed]",
      "text/plain": [
       "<matplotlib.figure.Figure at 0x7f1c3b8b2828>"
      ]
     },
     "metadata": {},
     "output_type": "display_data"
    },
    {
     "name": "stdout",
     "output_type": "stream",
     "text": [
      "clusters: 2866\n"
     ]
    }
   ],
   "source": [
    "clust_distances = Z[:,2]\n",
    "clust_distances_rev = Z[::-1]\n",
    "idxs = np.arange(1, len(clust_distances) + 1)\n",
    "plt.plot(idxs, clust_distances)\n",
    "\n",
    "acceleration = np.diff(clust_distances, 2) # типа производной\n",
    "acceleration_rev = acceleration[::-1]\n",
    "plt.plot(idxs[:-2] + 1, acceleration_rev)\n",
    "plt.show()\n",
    "k = acceleration.argmax()\n",
    "print(\"clusters:\", k)"
   ]
  },
  {
   "cell_type": "code",
   "execution_count": 26,
   "metadata": {
    "collapsed": false
   },
   "outputs": [],
   "source": [
    "clusters_elbow = fcluster(Z, k, criterion='maxclust')"
   ]
  },
  {
   "cell_type": "code",
   "execution_count": 27,
   "metadata": {
    "collapsed": false
   },
   "outputs": [
    {
     "name": "stdout",
     "output_type": "stream",
     "text": [
      "word: фото\n",
      "cluster: {'фото'}\n",
      "word: политика\n",
      "cluster: {'политика'}\n",
      "word: война\n",
      "cluster: {'война'}\n",
      "word: сирия\n",
      "cluster: {'сирия'}\n",
      "word: актер\n",
      "cluster: {'актер'}\n",
      "word: зима\n",
      "cluster: {'зима'}\n",
      "word: новый#@###@#год\n",
      "cluster: {'новый#@###@#год'}\n",
      "word: сентябрь\n",
      "cluster: {'сентябрь'}\n",
      "word: фотки\n",
      "cluster: {'фотки'}\n"
     ]
    }
   ],
   "source": [
    "test_words = ['фото', 'политика', 'война', 'сирия', 'актер', 'зима', 'новый#@###@#год', 'сентябрь','фотки']\n",
    "for test_word in test_words:\n",
    "    print('word: {0}\\ncluster: {1}'.format(test_word, get_class_of_word(test_word, tags_in_model_lst, list(clusters_elbow))))\n"
   ]
  },
  {
   "cell_type": "markdown",
   "metadata": {},
   "source": [
    "Конец, дальше ничего интересного"
   ]
  },
  {
   "cell_type": "code",
   "execution_count": 28,
   "metadata": {
    "collapsed": false
   },
   "outputs": [
    {
     "data": {
      "text/plain": [
       "<gensim.models.word2vec.Word2Vec at 0x7f1c4ee2af28>"
      ]
     },
     "execution_count": 28,
     "metadata": {},
     "output_type": "execute_result"
    }
   ],
   "source": [
    "model"
   ]
  },
  {
   "cell_type": "code",
   "execution_count": 29,
   "metadata": {
    "collapsed": false
   },
   "outputs": [
    {
     "data": {
      "text/plain": [
       "2872"
      ]
     },
     "execution_count": 29,
     "metadata": {},
     "output_type": "execute_result"
    }
   ],
   "source": [
    "len(tags_in_model_lst)"
   ]
  },
  {
   "cell_type": "code",
   "execution_count": 30,
   "metadata": {
    "collapsed": false
   },
   "outputs": [
    {
     "data": {
      "text/plain": [
       "2872"
      ]
     },
     "execution_count": 30,
     "metadata": {},
     "output_type": "execute_result"
    }
   ],
   "source": [
    "len(co_tabl)"
   ]
  },
  {
   "cell_type": "code",
   "execution_count": 31,
   "metadata": {
    "collapsed": false
   },
   "outputs": [
    {
     "data": {
      "text/plain": [
       "array([[  3.93000000e+02,   1.90000000e+03,   1.48283082e-01,\n",
       "          2.00000000e+00],\n",
       "       [  9.70000000e+01,   2.03400000e+03,   1.66346556e-01,\n",
       "          2.00000000e+00],\n",
       "       [  2.34700000e+03,   2.83900000e+03,   1.94727165e-01,\n",
       "          2.00000000e+00],\n",
       "       ..., \n",
       "       [  5.73800000e+03,   5.73900000e+03,   1.00093145e+00,\n",
       "          1.64600000e+03],\n",
       "       [  5.72400000e+03,   5.73100000e+03,   1.00847308e+00,\n",
       "          1.22600000e+03],\n",
       "       [  5.74000000e+03,   5.74100000e+03,   1.01987516e+00,\n",
       "          2.87200000e+03]])"
      ]
     },
     "execution_count": 31,
     "metadata": {},
     "output_type": "execute_result"
    }
   ],
   "source": [
    "Z"
   ]
  },
  {
   "cell_type": "code",
   "execution_count": 32,
   "metadata": {
    "collapsed": false
   },
   "outputs": [
    {
     "data": {
      "text/plain": [
       "array([  3.93000000e+02,   1.90000000e+03,   1.48283082e-01,\n",
       "         2.00000000e+00])"
      ]
     },
     "execution_count": 32,
     "metadata": {},
     "output_type": "execute_result"
    }
   ],
   "source": [
    "Z[0]"
   ]
  },
  {
   "cell_type": "code",
   "execution_count": 33,
   "metadata": {
    "collapsed": false
   },
   "outputs": [
    {
     "data": {
      "text/plain": [
       "array([  9.70000000e+01,   2.03400000e+03,   1.66346556e-01,\n",
       "         2.00000000e+00])"
      ]
     },
     "execution_count": 33,
     "metadata": {},
     "output_type": "execute_result"
    }
   ],
   "source": [
    "Z[1]"
   ]
  },
  {
   "cell_type": "code",
   "execution_count": 34,
   "metadata": {
    "collapsed": false
   },
   "outputs": [
    {
     "data": {
      "text/plain": [
       "2871"
      ]
     },
     "execution_count": 34,
     "metadata": {},
     "output_type": "execute_result"
    }
   ],
   "source": [
    "len(Z)"
   ]
  },
  {
   "cell_type": "code",
   "execution_count": 35,
   "metadata": {
    "collapsed": false
   },
   "outputs": [
    {
     "data": {
      "text/plain": [
       "array([  5.72400000e+03,   5.73100000e+03,   1.00847308e+00,\n",
       "         1.22600000e+03])"
      ]
     },
     "execution_count": 35,
     "metadata": {},
     "output_type": "execute_result"
    }
   ],
   "source": [
    "Z[2869]"
   ]
  },
  {
   "cell_type": "code",
   "execution_count": 36,
   "metadata": {
    "collapsed": false
   },
   "outputs": [
    {
     "data": {
      "text/plain": [
       "array([  5.45100000e+03,   5.72800000e+03,   9.68023947e-01,\n",
       "         2.57000000e+02])"
      ]
     },
     "execution_count": 36,
     "metadata": {},
     "output_type": "execute_result"
    }
   ],
   "source": [
    "Z[2860]"
   ]
  },
  {
   "cell_type": "code",
   "execution_count": 37,
   "metadata": {
    "collapsed": true
   },
   "outputs": [],
   "source": [
    "def write_tree(Z, filename='tree.txt'):\n",
    "    handle = open(filename, 'w')\n",
    "    for step in Z:\n",
    "        handle.write('{0[0]}\\t{0[1]}\\t{0[2]}\\t{0[3]}\\n'.format(list(step)))\n",
    "    handle.close()"
   ]
  },
  {
   "cell_type": "code",
   "execution_count": 38,
   "metadata": {
    "collapsed": false
   },
   "outputs": [
    {
     "data": {
      "text/plain": [
       "'393.0\\t1900.0\\t0.14828308196383833\\t2.0\\n'"
      ]
     },
     "execution_count": 38,
     "metadata": {},
     "output_type": "execute_result"
    }
   ],
   "source": [
    "'{0[0]}\\t{0[1]}\\t{0[2]}\\t{0[3]}\\n'.format(list(Z[0]))"
   ]
  },
  {
   "cell_type": "code",
   "execution_count": 39,
   "metadata": {
    "collapsed": false
   },
   "outputs": [
    {
     "data": {
      "text/plain": [
       "[393.0, 1900.0, 0.14828308196383833, 2.0]"
      ]
     },
     "execution_count": 39,
     "metadata": {},
     "output_type": "execute_result"
    }
   ],
   "source": [
    "list(Z[0])"
   ]
  },
  {
   "cell_type": "code",
   "execution_count": 40,
   "metadata": {
    "collapsed": true
   },
   "outputs": [],
   "source": [
    "write_tree(Z)"
   ]
  },
  {
   "cell_type": "code",
   "execution_count": 41,
   "metadata": {
    "collapsed": false
   },
   "outputs": [
    {
     "data": {
      "text/plain": [
       "2871"
      ]
     },
     "execution_count": 41,
     "metadata": {},
     "output_type": "execute_result"
    }
   ],
   "source": [
    "len(Z)"
   ]
  },
  {
   "cell_type": "code",
   "execution_count": 42,
   "metadata": {
    "collapsed": false
   },
   "outputs": [
    {
     "data": {
      "text/plain": [
       "array([[  3.93000000e+02,   1.90000000e+03,   1.48283082e-01,\n",
       "          2.00000000e+00],\n",
       "       [  9.70000000e+01,   2.03400000e+03,   1.66346556e-01,\n",
       "          2.00000000e+00],\n",
       "       [  2.34700000e+03,   2.83900000e+03,   1.94727165e-01,\n",
       "          2.00000000e+00],\n",
       "       ..., \n",
       "       [  5.73800000e+03,   5.73900000e+03,   1.00093145e+00,\n",
       "          1.64600000e+03],\n",
       "       [  5.72400000e+03,   5.73100000e+03,   1.00847308e+00,\n",
       "          1.22600000e+03],\n",
       "       [  5.74000000e+03,   5.74100000e+03,   1.01987516e+00,\n",
       "          2.87200000e+03]])"
      ]
     },
     "execution_count": 42,
     "metadata": {},
     "output_type": "execute_result"
    }
   ],
   "source": [
    "Z"
   ]
  },
  {
   "cell_type": "code",
   "execution_count": 43,
   "metadata": {
    "collapsed": false
   },
   "outputs": [
    {
     "data": {
      "text/plain": [
       "4122756"
      ]
     },
     "execution_count": 43,
     "metadata": {},
     "output_type": "execute_result"
    }
   ],
   "source": [
    "len(distArray)"
   ]
  },
  {
   "cell_type": "code",
   "execution_count": 44,
   "metadata": {
    "collapsed": false
   },
   "outputs": [
    {
     "data": {
      "text/plain": [
       "(2872, 2872)"
      ]
     },
     "execution_count": 44,
     "metadata": {},
     "output_type": "execute_result"
    }
   ],
   "source": [
    "len(list(clusters)), len(tags_in_model_lst)"
   ]
  },
  {
   "cell_type": "code",
   "execution_count": 45,
   "metadata": {
    "collapsed": true
   },
   "outputs": [],
   "source": [
    "def write_list(filename, lst):\n",
    "    handle = open(filename, 'w')\n",
    "    for item in lst:\n",
    "        handle.write('{0}\\n'.format(item))\n",
    "    handle.close()\n"
   ]
  },
  {
   "cell_type": "code",
   "execution_count": 46,
   "metadata": {
    "collapsed": true
   },
   "outputs": [],
   "source": [
    "def write_lists(filename, lst1, lst2):\n",
    "    handle = open(filename, 'w')\n",
    "    for item1, item2 in zip(lst1, lst2):\n",
    "        handle.write('{0}\\t{1}\\n'.format(item1, item2))\n",
    "    handle.close()"
   ]
  },
  {
   "cell_type": "code",
   "execution_count": 47,
   "metadata": {
    "collapsed": true
   },
   "outputs": [],
   "source": [
    "write_lists('clust_tags_50_2.txt', clusters2, tags_in_model_lst)"
   ]
  },
  {
   "cell_type": "code",
   "execution_count": 48,
   "metadata": {
    "collapsed": true
   },
   "outputs": [],
   "source": [
    "write_list('cluster.txt', clusters2)"
   ]
  },
  {
   "cell_type": "code",
   "execution_count": 49,
   "metadata": {
    "collapsed": true
   },
   "outputs": [],
   "source": [
    "write_list('tags_50_2_in_model.txt', tags_in_model_lst)"
   ]
  },
  {
   "cell_type": "code",
   "execution_count": 50,
   "metadata": {
    "collapsed": false
   },
   "outputs": [
    {
     "name": "stdout",
     "output_type": "stream",
     "text": [
      "clusters: 1073\n"
     ]
    }
   ],
   "source": [
    "max_d3 = 0.65 #525\n",
    "clusters3 = fcluster(Z, max_d3, criterion='distance')\n",
    "number_of_clusters3 = len(set(clusters3))\n",
    "print('clusters:', number_of_clusters3)"
   ]
  },
  {
   "cell_type": "code",
   "execution_count": 65,
   "metadata": {
    "collapsed": false
   },
   "outputs": [],
   "source": [
    "def get_main_item(whole_cluster, model):\n",
    "    #1 - model.similarity(lst[i], lst[j])\n",
    "    dist = {}\n",
    "    for item1 in whole_cluster:\n",
    "        dist[item1] = 0\n",
    "        #sum_dist = 0\n",
    "        for item2 in whole_cluster:\n",
    "            if item1 != item2:\n",
    "                dist[item1] += 1 - model.similarity(item1, item2)\n",
    "        #print(item1, dist[item1])\n",
    "    #print(dist)\n",
    "    min_item = min(dist, key=dist.get)\n",
    "    return min_item, (dist[min_item] / len(whole_cluster))"
   ]
  },
  {
   "cell_type": "code",
   "execution_count": 66,
   "metadata": {
    "collapsed": false
   },
   "outputs": [
    {
     "name": "stdout",
     "output_type": "stream",
     "text": [
      "\n",
      "word: фото\n",
      "cluster: {'фотографии', 'фотография', 'фото'}\n",
      "most close to everybody: ('фото', 0.35426178718140627)\n",
      "sum of everybody ('пейзаж', 0.5347439646720886)\n",
      "\n",
      "word: политика\n",
      "cluster: {'политика', 'государство', 'народ', 'власть', 'революция'}\n",
      "most close to everybody: ('власть', 0.40926792291277503)\n",
      "sum of everybody ('русские', 0.5908567905426025)\n",
      "\n",
      "word: война\n",
      "cluster: {'война', 'россия', 'гражданская#@###@#война', 'сепаратизм'}\n",
      "most close to everybody: ('сепаратизм', 0.40780681228595833)\n",
      "sum of everybody ('украина', 0.6151228547096252)\n",
      "\n",
      "word: сирия\n",
      "cluster: {'йемен', 'сша', 'иран', 'оон', 'игил', 'обама', 'нато', 'ирак', 'ближний#@###@#восток', 'внешняя#@###@#политика', 'холодная#@###@#война', 'сирия', 'ядерное#@###@#оружие', 'мид', 'запад', 'дипломатия', 'геополитика', 'саудовская#@###@#аравия', 'пакистан'}\n",
      "most close to everybody: ('ирак', 0.47708339740881694)\n",
      "sum of everybody ('афганистан', 0.6523701548576355)\n",
      "\n",
      "word: актер\n",
      "cluster: {'рай', 'актриса', 'шекспир', 'оформление', 'перестройка', 'костюм', 'мастерская', 'скульптура', 'журналист', 'путь', 'слово', 'разум', 'мать', 'галерея', 'дерево', 'поэт', 'вднх', 'благодарность', 'ад', 'спектакль', 'крест', 'актер', 'писатель'}\n",
      "most close to everybody: ('костюм', 0.387188872594184)\n",
      "sum of everybody ('современное#@###@#искусство', 0.6063865423202515)\n",
      "\n",
      "word: зима\n",
      "cluster: {'лед', 'первый#@###@#снег', 'мороз', 'холодно', 'зима', 'холод', 'снег', 'снегопад'}\n",
      "most close to everybody: ('мороз', 0.42508121162749335)\n",
      "sum of everybody ('январь', 0.5953232049942017)\n",
      "\n",
      "word: новый#@###@#год\n",
      "cluster: {'нг', 'новый#@###@#год'}\n",
      "most close to everybody: ('нг', 0.27825539440705666)\n",
      "sum of everybody ('с#@###@#новым#@###@#годом', 0.5099891424179077)\n",
      "\n",
      "word: сентябрь\n",
      "cluster: {'август', 'июль', 'июнь', 'сентябрь'}\n",
      "most close to everybody: ('июль', 0.39549101616076782)\n",
      "sum of everybody ('октябрь', 0.6033533811569214)\n",
      "\n",
      "word: фотки\n",
      "cluster: {'фотки'}\n",
      "most close to everybody: ('фотки', 0.0)\n",
      "sum of everybody ('путешествия', 0.3320278823375702)\n",
      "\n",
      "word: информационная#@###@#война\n",
      "cluster: {'сми', 'пропаганда', 'информационная#@###@#война'}\n",
      "most close to everybody: ('информационная#@###@#война', 0.3652408342320283)\n",
      "sum of everybody ('фашизм', 0.5336402654647827)\n",
      "\n",
      "word: с#@###@#новым#@###@#годом\n",
      "cluster: {'с#@###@#новым#@###@#годом', 'ёлка', 'елка', 'пожелания', 'дед#@###@#мороз'}\n",
      "most close to everybody: ('дед#@###@#мороз', 0.37904809625875069)\n",
      "sum of everybody ('новый#@###@#год', 0.52372807264328)\n",
      "\n",
      "word: счастье\n",
      "cluster: {'счастье', 'любовь', 'чувства', 'одиночество'}\n",
      "most close to everybody: ('любовь', 0.39772727892111026)\n",
      "sum of everybody ('ты', 0.519252359867096)\n",
      "\n",
      "word: работа\n",
      "cluster: {'работа'}\n",
      "most close to everybody: ('работа', 0.0)\n",
      "sum of everybody ('копирайтинг', 0.34697332978248596)\n",
      "\n",
      "word: отдых\n",
      "cluster: {'поездки', 'путешествие', 'отдых', 'отпуск', 'путешествия'}\n",
      "most close to everybody: ('путешествия', 0.36946628963747175)\n",
      "sum of everybody ('острова', 0.5094719529151917)\n",
      "\n",
      "word: праздник\n",
      "cluster: {'праздник', 'праздники'}\n",
      "most close to everybody: ('праздник', 0.27600781144798292)\n",
      "sum of everybody ('поздравления', 0.3936629295349121)\n",
      "\n",
      "word: путешествие\n",
      "cluster: {'поездки', 'путешествие', 'отдых', 'отпуск', 'путешествия'}\n",
      "most close to everybody: ('путешествия', 0.36946628963747175)\n",
      "sum of everybody ('острова', 0.5094719529151917)\n",
      "\n",
      "word: банк\n",
      "cluster: {'банк', 'сбербанк'}\n",
      "most close to everybody: ('банк', 0.28658634338511757)\n",
      "sum of everybody ('цб', 0.5156802535057068)\n",
      "\n",
      "word: экономика\n",
      "cluster: {'банки', 'экономика', 'финансы'}\n",
      "most close to everybody: ('финансы', 0.34324449918678951)\n",
      "sum of everybody ('цб', 0.6203089952468872)\n"
     ]
    }
   ],
   "source": [
    "test_words = ['фото', 'политика', 'война', 'сирия', 'актер', 'зима', 'новый#@###@#год',\n",
    "              'сентябрь','фотки','информационная#@###@#война','с#@###@#новым#@###@#годом',\n",
    "             'счастье','работа','отдых','праздник','путешествие','банк','экономика']\n",
    "#test_words = ['зима']\n",
    "for test_word in test_words:\n",
    "    all_cluster = get_class_of_word(test_word, tags_in_model_lst, list(clusters))\n",
    "    print('\\nword: {0}\\ncluster: {1}'.format(test_word, all_cluster))\n",
    "    #1 - model.similarity(lst[i], lst[j])\n",
    "    print('most close to everybody: {0}'.format(get_main_item(all_cluster, model)))\n",
    "    #print(model.most_similar(positive=['новый#@###@#год', 'лето'], negative=['январь']))\n",
    "    print('sum of everybody',model.most_similar(positive=all_cluster)[0])"
   ]
  },
  {
   "cell_type": "code",
   "execution_count": 53,
   "metadata": {
    "collapsed": false
   },
   "outputs": [
    {
     "data": {
      "text/plain": [
       "0.48586093670498437"
      ]
     },
     "execution_count": 53,
     "metadata": {},
     "output_type": "execute_result"
    }
   ],
   "source": [
    "model.similarity('новый#@###@#год', 'с#@###@#новым#@###@#годом')"
   ]
  },
  {
   "cell_type": "code",
   "execution_count": 54,
   "metadata": {
    "collapsed": false,
    "scrolled": true
   },
   "outputs": [
    {
     "data": {
      "text/plain": [
       "['книга',\n",
       " 'книги',\n",
       " 'стругацкие',\n",
       " 'литература',\n",
       " 'роман',\n",
       " 'толстой',\n",
       " 'чехов',\n",
       " 'гоголь',\n",
       " 'достоевский',\n",
       " 'пелевин',\n",
       " 'акунин',\n",
       " 'быков',\n",
       " 'солженицын',\n",
       " 'есенин',\n",
       " 'булгаков',\n",
       " 'бродский',\n",
       " 'маяковский',\n",
       " 'лермонтов',\n",
       " 'поэт',\n",
       " 'соловьев',\n",
       " 'писатель',\n",
       " 'шекспир',\n",
       " 'пушкин',\n",
       " 'писатели',\n",
       " 'жзл',\n",
       " 'перестройка',\n",
       " 'актриса',\n",
       " 'актер',\n",
       " 'эссе',\n",
       " 'гайдар',\n",
       " 'поэзия',\n",
       " 'высоцкий',\n",
       " 'стихи',\n",
       " 'гений',\n",
       " 'цитата',\n",
       " 'интеллигенция',\n",
       " 'познер',\n",
       " 'шендерович',\n",
       " 'масс-медиа',\n",
       " 'лимонов',\n",
       " 'михалков',\n",
       " 'горбачев',\n",
       " 'каспаров',\n",
       " 'ельцин',\n",
       " 'макаревич',\n",
       " 'собчак',\n",
       " 'кашин',\n",
       " 'березовский',\n",
       " 'удальцов',\n",
       " 'миронов',\n",
       " 'чубайс']"
      ]
     },
     "execution_count": 54,
     "metadata": {},
     "output_type": "execute_result"
    }
   ],
   "source": [
    "start_word = 'книга'\n",
    "cluster = [start_word]\n",
    "n = 50\n",
    "dist = []\n",
    "for i in range(0, n):\n",
    "    most_close = model.most_similar(positive=cluster)[0]\n",
    "    cluster.append(most_close[0])\n",
    "    dist.append(most_close[1])\n",
    "cluster"
   ]
  },
  {
   "cell_type": "code",
   "execution_count": 133,
   "metadata": {
    "collapsed": false
   },
   "outputs": [
    {
     "data": {
      "text/plain": [
       "[<matplotlib.lines.Line2D at 0x7fc27d5bf080>]"
      ]
     },
     "execution_count": 133,
     "metadata": {},
     "output_type": "execute_result"
    },
    {
     "data": {
      "image/png": "[encoded data removed]",
      "text/plain": [
       "<matplotlib.figure.Figure at 0x7fc27d611fd0>"
      ]
     },
     "metadata": {},
     "output_type": "display_data"
    }
   ],
   "source": [
    "plt.plot(dist)"
   ]
  },
  {
   "cell_type": "code",
   "execution_count": 59,
   "metadata": {
    "collapsed": false
   },
   "outputs": [
    {
     "name": "stdout",
     "output_type": "stream",
     "text": [
      "clusters: 50\n"
     ]
    }
   ],
   "source": [
    "max_d3 = 0.65 #525\n",
    "k = 50\n",
    "clusters4 = fcluster(Z, k, criterion='maxclust')\n",
    "number_of_clusters4 = len(set(clusters4))\n",
    "print('clusters:', number_of_clusters4)"
   ]
  },
  {
   "cell_type": "code",
   "execution_count": 61,
   "metadata": {
    "collapsed": true
   },
   "outputs": [],
   "source": [
    "def get_item_from_each_cluster(tags_in_model_lst, clusters4):\n",
    "    dict_clust = {}\n",
    "    for tag, cluster in zip(tags_in_model_lst, clusters4):\n",
    "        dict_clust[cluster] = tag\n",
    "    return dict_clust"
   ]
  },
  {
   "cell_type": "code",
   "execution_count": 63,
   "metadata": {
    "collapsed": false
   },
   "outputs": [
    {
     "data": {
      "text/plain": [
       "{1: 'сумерки',\n",
       " 2: 'кошка',\n",
       " 3: 'лицо',\n",
       " 4: 'инструкция',\n",
       " 5: 'рис',\n",
       " 6: 'наркомания',\n",
       " 7: 'блюз',\n",
       " 8: 'кинотеатр',\n",
       " 9: 'й',\n",
       " 10: 'прикольно',\n",
       " 11: 'мемуары',\n",
       " 12: 'политическое',\n",
       " 13: 'загадки',\n",
       " 14: 'галерея',\n",
       " 15: 'тексты',\n",
       " 16: 'публикации',\n",
       " 17: 'на#@###@#память',\n",
       " 18: 'иллюзия',\n",
       " 19: 'знания',\n",
       " 20: 'пожелания',\n",
       " 21: ':)',\n",
       " 22: 'улыбнуло',\n",
       " 23: 'мужики',\n",
       " 24: 'сестра',\n",
       " 25: 'сегодня',\n",
       " 26: 'ваз',\n",
       " 27: 'имя',\n",
       " 28: 'events',\n",
       " 29: 'заметки',\n",
       " 30: 'гаджет',\n",
       " 31: 'опыт',\n",
       " 32: 'слава',\n",
       " 33: 'новое',\n",
       " 34: 'объявления',\n",
       " 35: 'образование',\n",
       " 36: 'расписание',\n",
       " 37: 'биатлон',\n",
       " 38: 'холодно',\n",
       " 39: 'разное',\n",
       " 40: 'крым#@###@#россия',\n",
       " 41: 'ато',\n",
       " 42: 'ингушетия',\n",
       " 43: 'голос',\n",
       " 44: 'воровство',\n",
       " 45: 'за#@###@#жизнь',\n",
       " 46: 'спор',\n",
       " 47: 'мошенничество',\n",
       " 48: 'рекорды',\n",
       " 49: 'ураган',\n",
       " 50: 'апокалипсис'}"
      ]
     },
     "execution_count": 63,
     "metadata": {},
     "output_type": "execute_result"
    }
   ],
   "source": [
    "different_tags = get_item_from_each_cluster(tags_in_model_lst, clusters4)\n",
    "different_tags"
   ]
  },
  {
   "cell_type": "code",
   "execution_count": 80,
   "metadata": {
    "collapsed": false
   },
   "outputs": [
    {
     "name": "stdout",
     "output_type": "stream",
     "text": [
      "сумерки 194\n",
      "most close to everybody: ('ромашки', 0.58706654495678123)\n",
      "sum of everybody ('сноуборд', 0.5195558667182922)\n",
      "кошка 42\n",
      "most close to everybody: ('белка', 0.66058478299489298)\n",
      "sum of everybody ('мишка', 0.5438017845153809)\n",
      "лицо 143\n",
      "most close to everybody: ('аксессуары', 0.72502242439599618)\n",
      "sum of everybody ('украшения', 0.5780221819877625)\n",
      "инструкция 12\n",
      "most close to everybody: ('инструкция', 0.67119546633701976)\n",
      "sum of everybody ('review', 0.49141910672187805)\n",
      "рис 91\n",
      "most close to everybody: ('пирог', 0.5850533063341905)\n",
      "sum of everybody ('простуда', 0.5632541179656982)\n",
      "наркомания 45\n",
      "most close to everybody: ('психиатрия', 0.63645060295528211)\n",
      "sum of everybody ('стресс', 0.5946939587593079)\n",
      "блюз 39\n",
      "most close to everybody: ('сплин', 0.70436179006453881)\n",
      "sum of everybody ('рок', 0.4851475954055786)\n",
      "кинотеатр 45\n",
      "most close to everybody: ('фильм', 0.71641716084278972)\n",
      "sum of everybody ('стругацкие', 0.4387846887111664)\n",
      "й 4\n",
      "most close to everybody: ('нанотехнологии', 0.50199353869289354)\n",
      "sum of everybody ('правительство#@###@#рф', 0.41291800141334534)\n",
      "прикольно 57\n",
      "most close to everybody: ('ржач', 0.69767391850237181)\n",
      "sum of everybody ('пародия', 0.5152167081832886)\n",
      "мемуары 4\n",
      "most close to everybody: ('даты', 0.57939541660505933)\n",
      "sum of everybody ('солженицын', 0.32187163829803467)\n",
      "политическое 5\n",
      "most close to everybody: ('былое', 0.66106130999251478)\n",
      "sum of everybody ('гайдар', 0.4187730550765991)\n",
      "загадки 17\n",
      "most close to everybody: ('тибет', 0.64494260030153916)\n",
      "sum of everybody ('камбоджа', 0.4437072277069092)\n",
      "галерея 80\n",
      "most close to everybody: ('костюм', 0.65318803159522165)\n",
      "sum of everybody ('ангел', 0.4360925257205963)\n",
      "тексты 4\n",
      "most close to everybody: ('переводы', 0.51426485264360311)\n",
      "sum of everybody ('копирайтинг', 0.4431227147579193)\n",
      "публикации 35\n",
      "most close to everybody: ('толстой', 0.66903773829597735)\n",
      "sum of everybody ('солженицын', 0.5743502974510193)\n",
      "на#@###@#память 8\n",
      "most close to everybody: ('цивилизация', 0.60257678037165308)\n",
      "sum of everybody ('идеология', 0.5359826683998108)\n",
      "иллюзия 109\n",
      "most close to everybody: ('истина', 0.68023042622333951)\n",
      "sum of everybody ('любовь', 0.5430360436439514)\n",
      "знания 19\n",
      "most close to everybody: ('гадания', 0.6765409696139022)\n",
      "sum of everybody ('мышление', 0.43495848774909973)\n",
      "пожелания 33\n",
      "most close to everybody: ('с#@###@#новым#@###@#годом', 0.66083891980523068)\n",
      "sum of everybody ('день#@###@#рождения', 0.44812944531440735)\n",
      ":) 2\n",
      "most close to everybody: ('байки', 0.4031278682748704)\n",
      "sum of everybody ('родня', 0.3225577771663666)\n",
      "улыбнуло 87\n",
      "most close to everybody: ('о#@###@#рекламе', 0.74803221097868977)\n",
      "sum of everybody ('девочковое', 0.4617755711078644)\n",
      "мужики 3\n",
      "most close to everybody: ('из#@###@#жизни', 0.51645055797629502)\n",
      "sum of everybody ('отношения', 0.35932743549346924)\n",
      "сестра 130\n",
      "most close to everybody: ('нервы', 0.77297236827022742)\n",
      "sum of everybody ('обида', 0.5060112476348877)\n",
      "сегодня 1\n",
      "most close to everybody: ('сегодня', 0.0)\n",
      "sum of everybody ('состояние', 0.24802185595035553)\n",
      "ваз 22\n",
      "most close to everybody: ('toyota', 0.51820936502088299)\n",
      "sum of everybody ('страховка', 0.5181310772895813)\n",
      "имя 3\n",
      "most close to everybody: ('history', 0.49832411062633425)\n",
      "sum of everybody ('religion', 0.3539062440395355)\n",
      "events 155\n",
      "most close to everybody: ('sick', 0.54617150121304414)\n",
      "sum of everybody ('car', 0.6481092572212219)\n",
      "заметки 6\n",
      "most close to everybody: ('интерес', 0.54934670005709174)\n",
      "sum of everybody ('php', 0.42751064896583557)\n",
      "гаджет 165\n",
      "most close to everybody: ('контакты', 0.70858318894155226)\n",
      "sum of everybody ('почта', 0.503405749797821)\n",
      "опыт 12\n",
      "most close to everybody: ('сравнение', 0.58798678993112075)\n",
      "sum of everybody ('водитель', 0.47949954867362976)\n",
      "слава 5\n",
      "most close to everybody: ('первый', 0.59391475822523265)\n",
      "sum of everybody ('учитель', 0.3673973083496094)\n",
      "новое 1\n",
      "most close to everybody: ('новое', 0.0)\n",
      "sum of everybody ('инструменты', 0.24594981968402863)\n",
      "объявления 2\n",
      "most close to everybody: ('объявления', 0.37695431430491239)\n",
      "sum of everybody ('карикатуры', 0.31562092900276184)\n",
      "образование 33\n",
      "most close to everybody: ('день#@###@#знаний', 0.63261004121439257)\n",
      "sum of everybody ('фурсенко', 0.4522448778152466)\n",
      "расписание 33\n",
      "most close to everybody: ('семинары', 0.66404427326131266)\n",
      "sum of everybody ('стартап', 0.5177733898162842)\n",
      "биатлон 27\n",
      "most close to everybody: ('матч', 0.57060220064525147)\n",
      "sum of everybody ('хоккей', 0.5203061103820801)\n",
      "холодно 219\n",
      "most close to everybody: ('набережная', 0.73562324184756134)\n",
      "sum of everybody ('фото', 0.515688419342041)\n",
      "разное 3\n",
      "most close to everybody: ('быт', 0.55547279549792095)\n",
      "sum of everybody ('токио', 0.3768351078033447)\n",
      "крым#@###@#россия 146\n",
      "most close to everybody: ('оаэ', 0.69025645974722505)\n",
      "sum of everybody ('яхты', 0.6031343936920166)\n",
      "ато 176\n",
      "most close to everybody: ('нато', 0.69328267732409476)\n",
      "sum of everybody ('провокации', 0.565053403377533)\n",
      "ингушетия 10\n",
      "most close to everybody: ('дагестан', 0.61243229217657014)\n",
      "sum of everybody ('боевики', 0.468904048204422)\n",
      "голос 3\n",
      "most close to everybody: ('голос', 0.50933212870874334)\n",
      "sum of everybody ('правое#@###@#дело', 0.3934095501899719)\n",
      "воровство 359\n",
      "most close to everybody: ('власть', 0.71115701093516481)\n",
      "sum of everybody ('конспирология', 0.5249942541122437)\n",
      "за#@###@#жизнь 5\n",
      "most close to everybody: ('список', 0.64562415142155116)\n",
      "sum of everybody ('эффективность', 0.31169193983078003)\n",
      "спор 88\n",
      "most close to everybody: ('возможности', 0.72310330873771533)\n",
      "sum of everybody ('борьба#@###@#с#@###@#коррупцией', 0.5308069586753845)\n",
      "мошенничество 109\n",
      "most close to everybody: ('безработица', 0.6954864451242494)\n",
      "sum of everybody ('воровство', 0.5614358186721802)\n",
      "рекорды 10\n",
      "most close to everybody: ('рекорды', 0.72212508255344965)\n",
      "sum of everybody ('изобретения', 0.37232205271720886)\n",
      "ураган 35\n",
      "most close to everybody: ('радиация', 0.67898933055300104)\n",
      "sum of everybody ('климат', 0.48760223388671875)\n",
      "апокалипсис 36\n",
      "most close to everybody: ('наса', 0.64752411387604303)\n",
      "sum of everybody ('вселенная', 0.5573802590370178)\n",
      "2872\n"
     ]
    }
   ],
   "source": [
    "most_different_tags = []\n",
    "cluster_lens = []\n",
    "for cluster in different_tags:\n",
    "    tag = different_tags[cluster]\n",
    "    whole_cluster = get_class_of_word(tag, tags_in_model_lst, list(clusters4))\n",
    "    print(tag, len(whole_cluster))\n",
    "    cluster_lens.append(len(whole_cluster))\n",
    "    main_item = get_main_item(whole_cluster, model)\n",
    "    print('most close to everybody: {0}'.format(main_item))\n",
    "    print('sum of everybody',model.most_similar(positive=whole_cluster)[0])\n",
    "    most_different_tags.append(main_item[0])\n",
    "print(sum(cluster_lens))"
   ]
  },
  {
   "cell_type": "code",
   "execution_count": 84,
   "metadata": {
    "collapsed": false
   },
   "outputs": [
    {
     "data": {
      "text/plain": [
       "(array([ 30.,   5.,   4.,   4.,   4.,   1.,   1.,   0.,   0.,   1.]),\n",
       " array([   1. ,   36.8,   72.6,  108.4,  144.2,  180. ,  215.8,  251.6,\n",
       "         287.4,  323.2,  359. ]),\n",
       " <a list of 10 Patch objects>)"
      ]
     },
     "execution_count": 84,
     "metadata": {},
     "output_type": "execute_result"
    },
    {
     "data": {
      "image/png": "[encoded data removed]",
      "text/plain": [
       "<matplotlib.figure.Figure at 0x7f1c3b849f60>"
      ]
     },
     "metadata": {},
     "output_type": "display_data"
    }
   ],
   "source": [
    "plt.hist(cluster_lens)"
   ]
  },
  {
   "cell_type": "code",
   "execution_count": 75,
   "metadata": {
    "collapsed": false
   },
   "outputs": [
    {
     "data": {
      "text/plain": [
       "['ромашки',\n",
       " 'белка',\n",
       " 'аксессуары',\n",
       " 'инструкция',\n",
       " 'пирог',\n",
       " 'психиатрия',\n",
       " 'сплин',\n",
       " 'фильм',\n",
       " 'нанотехнологии',\n",
       " 'ржач',\n",
       " 'даты',\n",
       " 'былое',\n",
       " 'тибет',\n",
       " 'костюм',\n",
       " 'переводы',\n",
       " 'толстой',\n",
       " 'цивилизация',\n",
       " 'истина',\n",
       " 'гадания',\n",
       " 'с#@###@#новым#@###@#годом',\n",
       " 'байки',\n",
       " 'о#@###@#рекламе',\n",
       " 'из#@###@#жизни',\n",
       " 'нервы',\n",
       " 'сегодня',\n",
       " 'toyota',\n",
       " 'history',\n",
       " 'sick',\n",
       " 'интерес',\n",
       " 'контакты',\n",
       " 'сравнение',\n",
       " 'первый',\n",
       " 'новое',\n",
       " 'объявления',\n",
       " 'день#@###@#знаний',\n",
       " 'семинары',\n",
       " 'матч',\n",
       " 'набережная',\n",
       " 'быт',\n",
       " 'оаэ',\n",
       " 'нато',\n",
       " 'дагестан',\n",
       " 'голос',\n",
       " 'власть',\n",
       " 'список',\n",
       " 'возможности',\n",
       " 'безработица',\n",
       " 'рекорды',\n",
       " 'радиация',\n",
       " 'наса']"
      ]
     },
     "execution_count": 75,
     "metadata": {},
     "output_type": "execute_result"
    }
   ],
   "source": [
    "most_different_tags"
   ]
  },
  {
   "cell_type": "code",
   "execution_count": 91,
   "metadata": {
    "collapsed": false
   },
   "outputs": [],
   "source": [
    "\n",
    "def test_clusters(test_words, clusters, tags_in_model_lst, model):\n",
    "    for test_word in test_words:\n",
    "        whole_cluster = get_class_of_word(test_word, tags_in_model_lst, list(clusters))\n",
    "        print('\\nword: {0}\\ncluster: {1}'.format(test_word, whole_cluster))\n",
    "        print('most close to everybody: {0}'.format(get_main_item(whole_cluster, model)))\n",
    "        print('sum of everybody',model.most_similar(positive=whole_cluster)[0])\n"
   ]
  },
  {
   "cell_type": "code",
   "execution_count": 103,
   "metadata": {
    "collapsed": false
   },
   "outputs": [
    {
     "name": "stdout",
     "output_type": "stream",
     "text": [
      "\n",
      "word: ромашки\n",
      "cluster: {'психи', 'bleach', 'парни', 'anime', 'бильярд', 'свечи', 'пирсинг', 'адреналин', 'оригами', 'манга', 'ария', 'флирт', 'компьютерные#@###@#игры', 'hip-hop', 'кеды', 'поцелуи', 'кальян', 'боулинг', 'ромашки', 'аська', 'пение', 'все', 'south#@###@#park', 'мальчики', 'manga', 'искренность', 'татуировки', 'шарики', 'клубы', 'жить', 'средневековье', 'спать', 'коньки', 'rap'}\n",
      "most close to everybody: ('south#@###@#park', 0.44366375896237731)\n",
      "sum of everybody ('панк', 0.6943450570106506)\n",
      "\n",
      "word: белка\n",
      "cluster: {'белка'}\n",
      "most close to everybody: ('белка', 0.0)\n",
      "sum of everybody ('щенки', 0.5103911757469177)\n",
      "\n",
      "word: аксессуары\n",
      "cluster: {'аксессуары', 'продаю', 'продам'}\n",
      "most close to everybody: ('продаю', 0.25468782442491489)\n",
      "sum of everybody ('продается', 0.6661807298660278)\n",
      "\n",
      "word: инструкция\n",
      "cluster: {'инструкция'}\n",
      "most close to everybody: ('инструкция', 0.0)\n",
      "sum of everybody ('обзор', 0.451728492975235)\n",
      "\n",
      "word: пирог\n",
      "cluster: {'мясо', 'лимон', 'курица', 'картофель', 'паста', 'яйца', 'пирожки', 'вишня', 'капуста', 'яблоки', 'рецепт', 'мед', 'овощи', 'помидоры', 'картошка', 'рис', 'сыр', 'выпечка', 'виноград', 'салат', 'творог', 'десерт', 'пирог', 'тыква', 'орехи', 'ягоды', 'суп'}\n",
      "most close to everybody: ('пирог', 0.34644515082218824)\n",
      "sum of everybody ('печенье', 0.6246606707572937)\n",
      "\n",
      "word: психиатрия\n",
      "cluster: {'психиатрия', 'наркомания', 'самоубийство', 'зависимость', 'психотерапия'}\n",
      "most close to everybody: ('психиатрия', 0.34079953230192828)\n",
      "sum of everybody ('алкоголизм', 0.6580958366394043)\n",
      "\n",
      "word: сплин\n",
      "cluster: {'сплин'}\n",
      "most close to everybody: ('сплин', 0.0)\n",
      "sum of everybody ('ддт', 0.4901237189769745)\n",
      "\n",
      "word: фильм\n",
      "cluster: {'фильм'}\n",
      "most close to everybody: ('фильм', 0.0)\n",
      "sum of everybody ('мультфильм', 0.4670007824897766)\n",
      "\n",
      "word: нанотехнологии\n",
      "cluster: {'нанотехнологии'}\n",
      "most close to everybody: ('нанотехнологии', 0.0)\n",
      "sum of everybody ('правительство#@###@#рф', 0.3742115795612335)\n",
      "\n",
      "word: ржач\n",
      "cluster: {'шок', 'гаи', 'аварии', 'авария', 'ржач'}\n",
      "most close to everybody: ('аварии', 0.34708368594491895)\n",
      "sum of everybody ('кличко', 0.6951385736465454)\n",
      "\n",
      "word: даты\n",
      "cluster: {'даты'}\n",
      "most close to everybody: ('даты', 0.0)\n",
      "sum of everybody ('солженицын', 0.30755674839019775)\n",
      "\n",
      "word: былое\n",
      "cluster: {'былое'}\n",
      "most close to everybody: ('былое', 0.0)\n",
      "sum of everybody ('притчи', 0.3292902112007141)\n",
      "\n",
      "word: тибет\n",
      "cluster: {'непал', 'тибет'}\n",
      "most close to everybody: ('непал', 0.2109944520964257)\n",
      "sum of everybody ('индия', 0.4673425853252411)\n",
      "\n",
      "word: костюм\n",
      "cluster: {'слово', 'мастерская', 'поэт', 'рай', 'вднх', 'актриса', 'ад', 'благодарность', 'спектакль', 'разум', 'крест', 'мать', 'актер', 'писатель', 'шекспир', 'оформление', 'перестройка', 'галерея', 'костюм', 'путь'}\n",
      "most close to everybody: ('шекспир', 0.37364657823927411)\n",
      "sum of everybody ('скульптура', 0.6304717063903809)\n",
      "\n",
      "word: переводы\n",
      "cluster: {'переводы'}\n",
      "most close to everybody: ('переводы', 0.0)\n",
      "sum of everybody ('перевод', 0.38933584094047546)\n",
      "\n",
      "word: толстой\n",
      "cluster: {'толстой', 'гоголь', 'чехов'}\n",
      "most close to everybody: ('чехов', 0.29009406498735124)\n",
      "sum of everybody ('достоевский', 0.6158583760261536)\n",
      "\n",
      "word: цивилизация\n",
      "cluster: {'цивилизация'}\n",
      "most close to everybody: ('цивилизация', 0.0)\n",
      "sum of everybody ('идеология', 0.505147397518158)\n",
      "\n",
      "word: истина\n",
      "cluster: {'бог', 'истина', 'философия', 'мудрость', 'душа'}\n",
      "most close to everybody: ('бог', 0.38280449202810563)\n",
      "sum of everybody ('афоризмы', 0.5856314301490784)\n",
      "\n",
      "word: гадания\n",
      "cluster: {'предсказания', 'гадание', 'предсказание', 'гадания', 'гороскопы'}\n",
      "most close to everybody: ('гадания', 0.33572768815201759)\n",
      "sum of everybody ('таро', 0.47834348678588867)\n",
      "\n",
      "word: с#@###@#новым#@###@#годом\n",
      "cluster: {'с#@###@#новым#@###@#годом', 'ёлка', 'елка', 'дед#@###@#мороз'}\n",
      "most close to everybody: ('дед#@###@#мороз', 0.33249193388591747)\n",
      "sum of everybody ('новый#@###@#год', 0.5443685054779053)\n",
      "\n",
      "word: байки\n",
      "cluster: {'байки'}\n",
      "most close to everybody: ('байки', 0.0)\n",
      "sum of everybody ('дельфины', 0.3180723488330841)\n",
      "\n",
      "word: о#@###@#рекламе\n",
      "cluster: {'о#@###@#рекламе', 'вовочка'}\n",
      "most close to everybody: ('о#@###@#рекламе', 0.2483535717882851)\n",
      "sum of everybody ('умные#@###@#мысли', 0.5162272453308105)\n",
      "\n",
      "word: из#@###@#жизни\n",
      "cluster: {'из#@###@#жизни'}\n",
      "most close to everybody: ('из#@###@#жизни', 0.0)\n",
      "sum of everybody ('отношения', 0.2771235704421997)\n",
      "\n",
      "word: нервы\n",
      "cluster: {'страхи', 'нервы', 'стресс'}\n",
      "most close to everybody: ('стресс', 0.31316833614815925)\n",
      "sum of everybody ('психотерапия', 0.612265944480896)\n",
      "\n",
      "word: сегодня\n",
      "cluster: {'сегодня'}\n",
      "most close to everybody: ('сегодня', 0.0)\n",
      "sum of everybody ('состояние', 0.24802185595035553)\n",
      "\n",
      "word: toyota\n",
      "cluster: {'auto', 'cars', 'toyota', 'car'}\n",
      "most close to everybody: ('car', 0.24219211722280265)\n",
      "sum of everybody ('audi', 0.5961135625839233)\n",
      "\n",
      "word: history\n",
      "cluster: {'history'}\n",
      "most close to everybody: ('history', 0.0)\n",
      "sum of everybody ('interesting', 0.4289886951446533)\n",
      "\n",
      "word: sick\n",
      "cluster: {'writing', 'fic', 'random', 'films', 'comics', 'death', 'essay', 'school', 'ooc', 'icons', 'supernatural', 'doctor#@###@#who', 'fanfiction', 'lost', 'sick', 'movies', 'quiz', 'rant', 'meme', 'books', 'harry#@###@#potter'}\n",
      "most close to everybody: ('sick', 0.31628131316274444)\n",
      "sum of everybody ('birthday', 0.6914351582527161)\n",
      "\n",
      "word: интерес\n",
      "cluster: {'интерес'}\n",
      "most close to everybody: ('интерес', 0.0)\n",
      "sum of everybody ('правила', 0.4405916631221771)\n",
      "\n",
      "word: контакты\n",
      "cluster: {'группа', 'контакты', 'регистрация', 'социальная#@###@#сеть'}\n",
      "most close to everybody: ('контакты', 0.32796331115567418)\n",
      "sum of everybody ('почта', 0.5372267365455627)\n",
      "\n",
      "word: сравнение\n",
      "cluster: {'резюме', 'биография', 'сравнение'}\n",
      "most close to everybody: ('резюме', 0.27659518546192285)\n",
      "sum of everybody ('водитель', 0.51537024974823)\n",
      "\n",
      "word: первый\n",
      "cluster: {'первый'}\n",
      "most close to everybody: ('первый', 0.0)\n",
      "sum of everybody ('молитва', 0.4200810194015503)\n",
      "\n",
      "word: новое\n",
      "cluster: {'новое'}\n",
      "most close to everybody: ('новое', 0.0)\n",
      "sum of everybody ('инструменты', 0.24594981968402863)\n",
      "\n",
      "word: объявления\n",
      "cluster: {'объявления'}\n",
      "most close to everybody: ('объявления', 0.0)\n",
      "sum of everybody ('копирайтинг', 0.267682284116745)\n",
      "\n",
      "word: день#@###@#знаний\n",
      "cluster: {'день#@###@#знаний', '1#@###@#сентября'}\n",
      "most close to everybody: ('день#@###@#знаний', 0.21732705409798703)\n",
      "sum of everybody ('последний#@###@#звонок', 0.5701730847358704)\n",
      "\n",
      "word: семинары\n",
      "cluster: {'семинары', 'семинар', 'курсы'}\n",
      "most close to everybody: ('семинар', 0.30984700473494126)\n",
      "sum of everybody ('тренинги', 0.5913529992103577)\n",
      "\n",
      "word: матч\n",
      "cluster: {'локомотив', 'лига#@###@#чемпионов', 'матч', 'химки', 'цска', 'стадион', 'спартак', 'динамо'}\n",
      "most close to everybody: ('динамо', 0.34928379750783378)\n",
      "sum of everybody ('зенит', 0.5712398886680603)\n",
      "\n",
      "word: набережная\n",
      "cluster: {'фонтан', 'набережная'}\n",
      "most close to everybody: ('фонтан', 0.25903204322611084)\n",
      "sum of everybody ('день#@###@#города', 0.5093578696250916)\n",
      "\n",
      "word: быт\n",
      "cluster: {'быт'}\n",
      "most close to everybody: ('быт', 0.0)\n",
      "sum of everybody ('стройка', 0.29510635137557983)\n",
      "\n",
      "word: оаэ\n",
      "cluster: {'кипр', 'куба', 'острова', 'крит', 'вьетнам', 'мальдивы', 'оаэ', 'сицилия'}\n",
      "most close to everybody: ('мальдивы', 0.31560795869180142)\n",
      "sum of everybody ('шри-ланка', 0.6243485808372498)\n",
      "\n",
      "word: нато\n",
      "cluster: {'оон', 'нато', 'внешняя#@###@#политика', 'мид', 'дипломатия', 'геополитика'}\n",
      "most close to everybody: ('внешняя#@###@#политика', 0.37045684446324351)\n",
      "sum of everybody ('ирак', 0.615021288394928)\n",
      "\n",
      "word: дагестан\n",
      "cluster: {'дагестан', 'ингушетия'}\n",
      "most close to everybody: ('дагестан', 0.23829464997888317)\n",
      "sum of everybody ('кавказ', 0.4915675222873688)\n",
      "\n",
      "word: голос\n",
      "cluster: {'голос'}\n",
      "most close to everybody: ('голос', 0.0)\n",
      "sum of everybody ('правое#@###@#дело', 0.3434988856315613)\n",
      "\n",
      "word: власть\n",
      "cluster: {'государство', 'народ', 'власть'}\n",
      "most close to everybody: ('государство', 0.32162815620912483)\n",
      "sum of everybody ('элита', 0.542123019695282)\n",
      "\n",
      "word: список\n",
      "cluster: {'список'}\n",
      "most close to everybody: ('список', 0.0)\n",
      "sum of everybody ('оптимизация', 0.2931657135486603)\n",
      "\n",
      "word: возможности\n",
      "cluster: {'возможности', 'успех'}\n",
      "most close to everybody: ('возможности', 0.2443879984731217)\n",
      "sum of everybody ('эффективность', 0.5521485805511475)\n",
      "\n",
      "word: безработица\n",
      "cluster: {'мвф', 'экономика#@###@#украины', 'экономический#@###@#кризис', 'безработица', 'кризис', 'дефолт', 'долг'}\n",
      "most close to everybody: ('мвф', 0.33017783228182751)\n",
      "sum of everybody ('инфляция', 0.5998141765594482)\n",
      "\n",
      "word: рекорды\n",
      "cluster: {'рекорды'}\n",
      "most close to everybody: ('рекорды', 0.0)\n",
      "sum of everybody ('страхование', 0.34086114168167114)\n",
      "\n",
      "word: радиация\n",
      "cluster: {'цунами', 'землетрясение', 'аэс', 'фукусима', 'чернобыль', 'радиация'}\n",
      "most close to everybody: ('фукусима', 0.28419310403442272)\n",
      "sum of everybody ('курилы', 0.5601609945297241)\n",
      "\n",
      "word: наса\n",
      "cluster: {'наса', 'роскосмос', 'спутник', 'мкс', 'гагарин', 'марс', 'день#@###@#космонавтики'}\n",
      "most close to everybody: ('мкс', 0.32053845400565312)\n",
      "sum of everybody ('космос', 0.5248124599456787)\n"
     ]
    }
   ],
   "source": [
    "test_words = most_different_tags\n",
    "test_clusters(test_words, list(clusters5), tags_in_model_lst, model)"
   ]
  },
  {
   "cell_type": "code",
   "execution_count": 104,
   "metadata": {
    "collapsed": false
   },
   "outputs": [
    {
     "name": "stdout",
     "output_type": "stream",
     "text": [
      "clusters: 2041\n"
     ]
    }
   ],
   "source": [
    "max_d3 = 0.525\n",
    "clusters5 = fcluster(Z, max_d3, criterion='distance')\n",
    "number_of_clusters5 = len(set(clusters5))\n",
    "print('clusters:', number_of_clusters5)"
   ]
  },
  {
   "cell_type": "code",
   "execution_count": 102,
   "metadata": {
    "collapsed": false
   },
   "outputs": [
    {
     "name": "stdout",
     "output_type": "stream",
     "text": [
      "\n",
      "word: ромашки\n",
      "cluster: {'психи', 'bleach', 'гроза', 'парни', 'земфира', 'бильярд', 'anime', 'свечи', 'сумерки', 'электроника', 'пирсинг', 'суши', 'адреналин', 'оригами', 'волки', 'ангелы', 'манга', 'ария', 'панк', 'флирт', 'компьютерные#@###@#игры', 'hip-hop', 'комп', 'кеды', 'мифология', 'поцелуи', 'кальян', 'боулинг', 'ромашки', 'полнолуние', 'аська', 'пение', 'косплей', 'фэнтези', 'rock', 'все', 'гламур', 'шопинг', 'south#@###@#park', 'джинсы', 'мальчики', 'manga', 'искренность', 'татуировки', 'эмо', 'шарики', 'клубы', 'жить', 'вокал', 'духи', 'эльфы', 'спать', 'бабочки', 'тусовки', 'средневековье', 'метал', 'драконы', 'готика', 'коньки', 'сакура', 'позитифф', 'вампиры', 'rap'}\n",
      "most close to everybody: ('ромашки', 0.4759111653847668)\n",
      "sum of everybody ('мишки', 0.6393173336982727)\n",
      "\n",
      "word: белка\n",
      "cluster: {'щенки', 'белка', 'хаски', 'живность'}\n",
      "most close to everybody: ('щенки', 0.36991239712173318)\n",
      "sum of everybody ('мило', 0.4495130479335785)\n",
      "\n",
      "word: аксессуары\n",
      "cluster: {'платье', 'ярмарка#@###@#мастеров', 'войлок', 'валяние', 'сумка', 'шерсть', 'продаю', 'ручная#@###@#работа', 'handmade', 'мишка', 'аксессуары', 'продам'}\n",
      "most close to everybody: ('валяние', 0.45476551569549545)\n",
      "sum of everybody ('продается', 0.7062118649482727)\n",
      "\n",
      "word: инструкция\n",
      "cluster: {'инструкция', 'обзор'}\n",
      "most close to everybody: ('инструкция', 0.27413564393551371)\n",
      "sum of everybody ('review', 0.4869152009487152)\n",
      "\n",
      "word: пирог\n",
      "cluster: {'мясо', 'лимон', 'курица', 'картофель', 'паста', 'печенье', 'яйца', 'пирожки', 'вишня', 'капуста', 'хлеб', 'рецепты', 'яблоки', 'рецепт', 'мед', 'овощи', 'помидоры', 'картошка', 'рис', 'торт', 'сыр', 'выпечка', 'виноград', 'салат', 'творог', 'зелень', 'блины', 'мак', 'десерт', 'пирог', 'тыква', 'орехи', 'ягоды', 'грибы', 'суп'}\n",
      "most close to everybody: ('пирог', 0.37074550049795363)\n",
      "sum of everybody ('лук', 0.6051192283630371)\n",
      "\n",
      "word: психиатрия\n",
      "cluster: {'психиатрия', 'наркомания', 'самоубийство', 'психотерапия', 'вред', 'пьянство', 'похмелье', 'алкоголизм', 'водка', 'зависимость', 'врачи', 'врач'}\n",
      "most close to everybody: ('психиатрия', 0.40115420025485032)\n",
      "sum of everybody ('лекарства', 0.5864824056625366)\n",
      "\n",
      "word: сплин\n",
      "cluster: {'цой', 'сплин'}\n",
      "most close to everybody: ('сплин', 0.28760980152631666)\n",
      "sum of everybody ('ддт', 0.603330135345459)\n",
      "\n",
      "word: фильм\n",
      "cluster: {'песня', 'фильм'}\n",
      "most close to everybody: ('песня', 0.28703003523389781)\n",
      "sum of everybody ('мультфильм', 0.53535395860672)\n",
      "\n",
      "word: нанотехнологии\n",
      "cluster: {'нанотехнологии'}\n",
      "most close to everybody: ('нанотехнологии', 0.0)\n",
      "sum of everybody ('правительство#@###@#рф', 0.3742115795612335)\n",
      "\n",
      "word: ржач\n",
      "cluster: {'кадыров', 'янукович', 'гаи', 'яценюк', 'жириновский', 'русский', 'кличко', 'лукашенко', 'шок', 'порно', 'евромайдан', 'жертвы', 'авария', 'ржач', 'аварии'}\n",
      "most close to everybody: ('кличко', 0.41602977858050871)\n",
      "sum of everybody ('bmw', 0.5738195776939392)\n",
      "\n",
      "word: даты\n",
      "cluster: {'даты'}\n",
      "most close to everybody: ('даты', 0.0)\n",
      "sum of everybody ('солженицын', 0.30755674839019775)\n",
      "\n",
      "word: былое\n",
      "cluster: {'былое'}\n",
      "most close to everybody: ('былое', 0.0)\n",
      "sum of everybody ('притчи', 0.3292902112007141)\n",
      "\n",
      "word: тибет\n",
      "cluster: {'непал', 'индия', 'тибет'}\n",
      "most close to everybody: ('тибет', 0.33091964733092)\n",
      "sum of everybody ('шри-ланка', 0.5027526021003723)\n",
      "\n",
      "word: костюм\n",
      "cluster: {'рай', 'актриса', 'шекспир', 'оформление', 'перестройка', 'костюм', 'мастерская', 'скульптура', 'журналист', 'путь', 'слово', 'разум', 'мать', 'галерея', 'дерево', 'поэт', 'вднх', 'благодарность', 'ад', 'спектакль', 'крест', 'актер', 'писатель'}\n",
      "most close to everybody: ('костюм', 0.387188872594184)\n",
      "sum of everybody ('современное#@###@#искусство', 0.6063865423202515)\n",
      "\n",
      "word: переводы\n",
      "cluster: {'переводы'}\n",
      "most close to everybody: ('переводы', 0.0)\n",
      "sum of everybody ('перевод', 0.38933584094047546)\n",
      "\n",
      "word: толстой\n",
      "cluster: {'достоевский', 'пелевин', 'толстой', 'гоголь', 'чехов'}\n",
      "most close to everybody: ('достоевский', 0.38340019779537793)\n",
      "sum of everybody ('солженицын', 0.5495235919952393)\n",
      "\n",
      "word: цивилизация\n",
      "cluster: {'цивилизация', 'на#@###@#память'}\n",
      "most close to everybody: ('цивилизация', 0.28161179266259417)\n",
      "sum of everybody ('техническое', 0.5041647553443909)\n",
      "\n",
      "word: истина\n",
      "cluster: {'бог', 'мудрость', 'человек', 'истина', 'философия', 'душа'}\n",
      "most close to everybody: ('истина', 0.40532111426494771)\n",
      "sum of everybody ('афоризмы', 0.5865456461906433)\n",
      "\n",
      "word: гадания\n",
      "cluster: {'предсказания', 'гадание', 'предсказание', 'гадания', 'гороскопы'}\n",
      "most close to everybody: ('гадания', 0.33572768815201759)\n",
      "sum of everybody ('таро', 0.47834348678588867)\n",
      "\n",
      "word: с#@###@#новым#@###@#годом\n",
      "cluster: {'с#@###@#новым#@###@#годом', 'ёлка', 'елка', 'пожелания', 'дед#@###@#мороз'}\n",
      "most close to everybody: ('дед#@###@#мороз', 0.37904809625875069)\n",
      "sum of everybody ('новый#@###@#год', 0.52372807264328)\n",
      "\n",
      "word: байки\n",
      "cluster: {'байки'}\n",
      "most close to everybody: ('байки', 0.0)\n",
      "sum of everybody ('дельфины', 0.3180723488330841)\n",
      "\n",
      "word: о#@###@#рекламе\n",
      "cluster: {'о#@###@#рекламе', 'вовочка', 'соционика'}\n",
      "most close to everybody: ('вовочка', 0.34686038764201887)\n",
      "sum of everybody ('умные#@###@#мысли', 0.49986839294433594)\n",
      "\n",
      "word: из#@###@#жизни\n",
      "cluster: {'из#@###@#жизни'}\n",
      "most close to everybody: ('из#@###@#жизни', 0.0)\n",
      "sum of everybody ('отношения', 0.2771235704421997)\n",
      "\n",
      "word: нервы\n",
      "cluster: {'бессонница', 'усталость', 'страхи', 'нервы', 'стресс'}\n",
      "most close to everybody: ('нервы', 0.39961729308613103)\n",
      "sum of everybody ('зависимость', 0.5617308020591736)\n",
      "\n",
      "word: сегодня\n",
      "cluster: {'сегодня'}\n",
      "most close to everybody: ('сегодня', 0.0)\n",
      "sum of everybody ('состояние', 0.24802185595035553)\n",
      "\n",
      "word: toyota\n",
      "cluster: {'bmw', 'cars', 'car', 'auto', 'toyota', 'volkswagen', 'nissan', 'honda', 'audi'}\n",
      "most close to everybody: ('audi', 0.34069780937574068)\n",
      "sum of everybody ('лада', 0.47010502219200134)\n",
      "\n",
      "word: history\n",
      "cluster: {'history'}\n",
      "most close to everybody: ('history', 0.0)\n",
      "sum of everybody ('interesting', 0.4289886951446533)\n",
      "\n",
      "word: sick\n",
      "cluster: {'lj', 'random', 'comics', 'icons', 'religion', 'supernatural', 'movie', 'pics', 'humor', 'quotes', 'movies', 'weather', 'family', 'birthday', 'harry#@###@#potter', 'fic', 'films', 'home', 'sick', 'school', 'holiday', 'work', 'friends', 'book', 'spam', 'rant', 'books', 'writing', 'food', 'death', 'fanfiction', 'shopping', 'holidays', 'doctor#@###@#who', 'lyrics', 'lost', 'cinema', 'interesting', 'meme', 'other', 'links', 'kids', 'cooking', 'health', 'essay', 'ooc', 'coffee', 'money', 'quiz', 'pictures', 'poetry', 'quote'}\n",
      "most close to everybody: ('sick', 0.3963339533869859)\n",
      "sum of everybody ('sports', 0.6879956126213074)\n",
      "\n",
      "word: интерес\n",
      "cluster: {'интерес', 'правила'}\n",
      "most close to everybody: ('интерес', 0.27970433890683954)\n",
      "sum of everybody ('заметки', 0.39217469096183777)\n",
      "\n",
      "word: контакты\n",
      "cluster: {'сеть', 'группа', 'контакты', 'регистрация', 'социальная#@###@#сеть'}\n",
      "most close to everybody: ('контакты', 0.36458141021657875)\n",
      "sum of everybody ('почта', 0.5664003491401672)\n",
      "\n",
      "word: сравнение\n",
      "cluster: {'реальность', 'резюме', 'биография', 'сравнение'}\n",
      "most close to everybody: ('сравнение', 0.35343309724229954)\n",
      "sum of everybody ('водитель', 0.499148964881897)\n",
      "\n",
      "word: первый\n",
      "cluster: {'первый'}\n",
      "most close to everybody: ('первый', 0.0)\n",
      "sum of everybody ('молитва', 0.4200810194015503)\n",
      "\n",
      "word: новое\n",
      "cluster: {'новое'}\n",
      "most close to everybody: ('новое', 0.0)\n",
      "sum of everybody ('инструменты', 0.24594981968402863)\n",
      "\n",
      "word: объявления\n",
      "cluster: {'объявления'}\n",
      "most close to everybody: ('объявления', 0.0)\n",
      "sum of everybody ('копирайтинг', 0.267682284116745)\n",
      "\n",
      "word: день#@###@#знаний\n",
      "cluster: {'школа', 'день#@###@#знаний', '1#@###@#сентября', 'последний#@###@#звонок', 'выпускной'}\n",
      "most close to everybody: ('последний#@###@#звонок', 0.40396743221780429)\n",
      "sum of everybody ('егэ', 0.5587823987007141)\n",
      "\n",
      "word: семинары\n",
      "cluster: {'семинары', 'вебинар', 'семинар', 'курсы', 'тренинги', 'тренинг'}\n",
      "most close to everybody: ('вебинар', 0.40432579144224118)\n",
      "sum of everybody ('презентация', 0.5230762362480164)\n",
      "\n",
      "word: матч\n",
      "cluster: {'локомотив', 'лига#@###@#чемпионов', 'матч', 'футбол', 'химки', 'зенит', 'цска', 'стадион', 'спартак', 'динамо', 'финал'}\n",
      "most close to everybody: ('динамо', 0.39917364381292886)\n",
      "sum of everybody ('сборная', 0.5650544762611389)\n",
      "\n",
      "word: набережная\n",
      "cluster: {'день#@###@#города', 'фонтан', 'набережная'}\n",
      "most close to everybody: ('набережная', 0.35399071090024797)\n",
      "sum of everybody ('салют', 0.4952743947505951)\n",
      "\n",
      "word: быт\n",
      "cluster: {'быт'}\n",
      "most close to everybody: ('быт', 0.0)\n",
      "sum of everybody ('стройка', 0.29510635137557983)\n",
      "\n",
      "word: оаэ\n",
      "cluster: {'кипр', 'отель', 'чехия', 'куба', 'острова', 'турция', 'крит', 'тунис', 'египет', 'черногория', 'мальдивы', 'виза', 'хорватия', 'болгария', 'вьетнам', 'оаэ', 'греция', 'сицилия', 'визы', 'отели'}\n",
      "most close to everybody: ('оаэ', 0.43829712755664774)\n",
      "sum of everybody ('таиланд', 0.6143057346343994)\n",
      "\n",
      "word: нато\n",
      "cluster: {'йемен', 'сша', 'иран', 'оон', 'игил', 'обама', 'нато', 'ирак', 'ближний#@###@#восток', 'внешняя#@###@#политика', 'холодная#@###@#война', 'сирия', 'ядерное#@###@#оружие', 'мид', 'запад', 'дипломатия', 'геополитика', 'саудовская#@###@#аравия', 'пакистан'}\n",
      "most close to everybody: ('ирак', 0.47708339740881694)\n",
      "sum of everybody ('афганистан', 0.6523701548576355)\n",
      "\n",
      "word: дагестан\n",
      "cluster: {'чечня', 'дагестан', 'осетия', 'кавказ', 'ингушетия'}\n",
      "most close to everybody: ('дагестан', 0.43836429609162142)\n",
      "sum of everybody ('боевики', 0.5400096774101257)\n",
      "\n",
      "word: голос\n",
      "cluster: {'голос'}\n",
      "most close to everybody: ('голос', 0.0)\n",
      "sum of everybody ('правое#@###@#дело', 0.3434988856315613)\n",
      "\n",
      "word: власть\n",
      "cluster: {'политика', 'государство', 'народ', 'власть', 'революция'}\n",
      "most close to everybody: ('власть', 0.40926792291277503)\n",
      "sum of everybody ('русские', 0.5908567905426025)\n",
      "\n",
      "word: список\n",
      "cluster: {'список'}\n",
      "most close to everybody: ('список', 0.0)\n",
      "sum of everybody ('оптимизация', 0.2931657135486603)\n",
      "\n",
      "word: возможности\n",
      "cluster: {'прибыль', 'секрет', 'эффективность', 'результат', 'успех', 'планирование', 'цели', 'цель', 'менеджмент', 'рост', 'возможности'}\n",
      "most close to everybody: ('эффективность', 0.4565860813984845)\n",
      "sum of everybody ('задача', 0.5569583773612976)\n",
      "\n",
      "word: безработица\n",
      "cluster: {'кредиты', 'мвф', 'экономика#@###@#украины', 'кредит', 'экономический#@###@#кризис', 'безработица', 'кризис', 'дефолт', 'долг'}\n",
      "most close to everybody: ('мвф', 0.37319607359038504)\n",
      "sum of everybody ('инфляция', 0.625004231929779)\n",
      "\n",
      "word: рекорды\n",
      "cluster: {'рекорды'}\n",
      "most close to everybody: ('рекорды', 0.0)\n",
      "sum of everybody ('страхование', 0.34086114168167114)\n",
      "\n",
      "word: радиация\n",
      "cluster: {'цунами', 'землетрясение', 'аэс', 'курилы', 'фукусима', 'чернобыль', 'радиация'}\n",
      "most close to everybody: ('фукусима', 0.30978258635146577)\n",
      "sum of everybody ('катастрофа', 0.5525609850883484)\n",
      "\n",
      "word: наса\n",
      "cluster: {'наса', 'роскосмос', 'спутник', 'мкс', 'гагарин', 'космос', 'марс', 'день#@###@#космонавтики'}\n",
      "most close to everybody: ('мкс', 0.35236992988049054)\n",
      "sum of everybody ('планета', 0.5065656304359436)\n"
     ]
    }
   ],
   "source": [
    "test_clusters(test_words, list(clusters), tags_in_model_lst, model)"
   ]
  },
  {
   "cell_type": "code",
   "execution_count": null,
   "metadata": {
    "collapsed": false
   },
   "outputs": [],
   "source": []
  },
  {
   "cell_type": "code",
   "execution_count": null,
   "metadata": {
    "collapsed": true
   },
   "outputs": [],
   "source": []
  }
 ],
 "metadata": {
  "kernelspec": {
   "display_name": "Python 3",
   "language": "python",
   "name": "python3"
  },
  "language_info": {
   "codemirror_mode": {
    "name": "ipython",
    "version": 3
   },
   "file_extension": ".py",
   "mimetype": "text/x-python",
   "name": "python",
   "nbconvert_exporter": "python",
   "pygments_lexer": "ipython3",
   "version": "3.4.3"
  }
 },
 "nbformat": 4,
 "nbformat_minor": 0
}
