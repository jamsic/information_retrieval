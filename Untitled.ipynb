{
 "cells": [
  {
   "cell_type": "code",
   "execution_count": 1,
   "metadata": {
    "collapsed": true
   },
   "outputs": [],
   "source": [
    "filename = 'weekly-tag-statistic_20.txt'"
   ]
  },
  {
   "cell_type": "code",
   "execution_count": 2,
   "metadata": {
    "collapsed": true
   },
   "outputs": [],
   "source": [
    "def read(filename):\n",
    "    handle = open(filename)\n",
    "    header = handle.readline().strip().split('\\t')\n",
    "    data = []\n",
    "    header\n",
    "    for line in handle:\n",
    "        data.append([a for a in line.split('\\t') if a != '\\n'])\n",
    "    return header, data"
   ]
  },
  {
   "cell_type": "code",
   "execution_count": 3,
   "metadata": {
    "collapsed": true
   },
   "outputs": [],
   "source": [
    "def get_data_indexes_of_tags(all_data):\n",
    "    data_indexes = {}\n",
    "    for i in range(len(all_data)):\n",
    "        data_indexes[all_data[i][0]] = i\n",
    "    return data_indexes"
   ]
  },
  {
   "cell_type": "code",
   "execution_count": 4,
   "metadata": {
    "collapsed": true
   },
   "outputs": [],
   "source": [
    "header, s = read(filename)"
   ]
  },
  {
   "cell_type": "code",
   "execution_count": 5,
   "metadata": {
    "collapsed": false
   },
   "outputs": [
    {
     "data": {
      "text/plain": [
       "(61, 61)"
      ]
     },
     "execution_count": 5,
     "metadata": {},
     "output_type": "execute_result"
    }
   ],
   "source": [
    "len(s[0]), len(header)"
   ]
  },
  {
   "cell_type": "code",
   "execution_count": 6,
   "metadata": {
    "collapsed": false
   },
   "outputs": [],
   "source": [
    "indexes_of_tags = get_data_indexes_of_tags(s)"
   ]
  },
  {
   "cell_type": "code",
   "execution_count": 7,
   "metadata": {
    "collapsed": false
   },
   "outputs": [],
   "source": [
    "import numpy as np\n",
    "import matplotlib.pyplot as plt\n",
    "%matplotlib inline"
   ]
  },
  {
   "cell_type": "code",
   "execution_count": 8,
   "metadata": {
    "collapsed": false
   },
   "outputs": [
    {
     "data": {
      "image/png": "[encoded data removed]",
      "text/plain": [
       "<matplotlib.figure.Figure at 0x7f965b13e358>"
      ]
     },
     "metadata": {},
     "output_type": "display_data"
    }
   ],
   "source": [
    "k = 0\n",
    "plt.plot(s[k][1:])\n",
    "plt.xlabel(s[k][0])\n",
    "ss = s[k][1:]"
   ]
  },
  {
   "cell_type": "code",
   "execution_count": 9,
   "metadata": {
    "collapsed": false
   },
   "outputs": [],
   "source": [
    "def analyse_row(row):\n",
    "    # [(start, end, max_point)]\n",
    "    a = []\n",
    "    i = 0\n",
    "    pred = row[i]\n",
    "    i += 1\n",
    "    diff = row[i] - pred\n",
    "    new_start = 0\n",
    "    max_point = row[0]\n",
    "    while i < (len(row) - 1):\n",
    "        i += 1\n",
    "        if diff <= 0 and row[i] - pred >= 0 and diff < row[i] - pred:\n",
    "            #new_end = i\n",
    "            print('{1} <= 0 and {2} >= 0 and {1} < {2} so it`s endpoint {0}'.format(i, diff, row[i] - pred))\n",
    "            a.append((new_start, i, max_point),)\n",
    "            #new_start = i\n",
    "            #print('рост')\n",
    "        if diff >= 0 and row[i] - pred <= 0 and diff > row[i] - pred:\n",
    "            max_point = i - 1\n",
    "        if diff >= 0 and row[i] - pred >= 0 and diff < row[i] - pred:\n",
    "            new_start = i\n",
    "            print('{1} >= 0 and {2} >= 0 and {1} < {2} so it`s startpoint {0}'.format(i, diff, row[i] - pred))\n",
    "        #else:\n",
    "        #    print('спад')\n",
    "        diff = row[i] - pred\n",
    "        print('i {0} diff {1} row[{0}] {2}'.format(i, diff, row[i]))\n",
    "        pred = row[i]\n",
    "    return a"
   ]
  },
  {
   "cell_type": "code",
   "execution_count": 16,
   "metadata": {
    "collapsed": false
   },
   "outputs": [],
   "source": [
    "to_int = lambda x: list(map(int, x))"
   ]
  },
  {
   "cell_type": "code",
   "execution_count": 77,
   "metadata": {
    "collapsed": false
   },
   "outputs": [
    {
     "name": "stdout",
     "output_type": "stream",
     "text": [
      "i 2 diff 0 row[2] 0\n",
      "i 3 diff 0 row[3] 0\n",
      "0 <= 0 and 1 >= 0 and 0 < 1 so it`s endpoint 4\n",
      "i 4 diff 1 row[4] 1\n",
      "i 5 diff -1 row[5] 0\n",
      "-1 <= 0 and 0 >= 0 and -1 < 0 so it`s endpoint 6\n",
      "i 6 diff 0 row[6] 0\n",
      "i 7 diff 0 row[7] 0\n",
      "0 <= 0 and 1 >= 0 and 0 < 1 so it`s endpoint 8\n",
      "i 8 diff 1 row[8] 1\n",
      "i 9 diff 0 row[9] 1\n",
      "i 10 diff 0 row[10] 1\n",
      "i 11 diff -1 row[11] 0\n",
      "-1 <= 0 and 0 >= 0 and -1 < 0 so it`s endpoint 12\n",
      "i 12 diff 0 row[12] 0\n",
      "i 13 diff 0 row[13] 0\n",
      "i 14 diff 0 row[14] 0\n",
      "0 <= 0 and 1 >= 0 and 0 < 1 so it`s endpoint 15\n",
      "i 15 diff 1 row[15] 1\n",
      "i 16 diff -1 row[16] 0\n",
      "-1 <= 0 and 0 >= 0 and -1 < 0 so it`s endpoint 17\n",
      "i 17 diff 0 row[17] 0\n",
      "i 18 diff 0 row[18] 0\n",
      "0 <= 0 and 2 >= 0 and 0 < 2 so it`s endpoint 19\n",
      "i 19 diff 2 row[19] 2\n",
      "i 20 diff -2 row[20] 0\n",
      "-2 <= 0 and 1 >= 0 and -2 < 1 so it`s endpoint 21\n",
      "i 21 diff 1 row[21] 1\n",
      "i 22 diff -1 row[22] 0\n",
      "-1 <= 0 and 4 >= 0 and -1 < 4 so it`s endpoint 23\n",
      "i 23 diff 4 row[23] 4\n",
      "i 24 diff 49 row[24] 53\n",
      "i 25 diff -41 row[25] 12\n",
      "i 26 diff -12 row[26] 0\n",
      "-12 <= 0 and 0 >= 0 and -12 < 0 so it`s endpoint 27\n",
      "i 27 diff 0 row[27] 0\n",
      "i 28 diff 0 row[28] 0\n",
      "i 29 diff 0 row[29] 0\n",
      "i 30 diff 0 row[30] 0\n",
      "i 31 diff 0 row[31] 0\n",
      "i 32 diff 0 row[32] 0\n",
      "i 33 diff 0 row[33] 0\n",
      "0 <= 0 and 1 >= 0 and 0 < 1 so it`s endpoint 34\n",
      "i 34 diff 1 row[34] 1\n",
      "i 35 diff -1 row[35] 0\n",
      "-1 <= 0 and 0 >= 0 and -1 < 0 so it`s endpoint 36\n",
      "i 36 diff 0 row[36] 0\n",
      "i 37 diff 0 row[37] 0\n",
      "i 38 diff 0 row[38] 0\n",
      "i 39 diff 0 row[39] 0\n",
      "i 40 diff 0 row[40] 0\n",
      "i 41 diff 0 row[41] 0\n",
      "i 42 diff 0 row[42] 0\n",
      "i 43 diff 0 row[43] 0\n",
      "i 44 diff 0 row[44] 0\n",
      "i 45 diff 0 row[45] 0\n",
      "i 46 diff 0 row[46] 0\n",
      "i 47 diff 0 row[47] 0\n",
      "i 48 diff 0 row[48] 0\n",
      "i 49 diff 0 row[49] 0\n",
      "i 50 diff 0 row[50] 0\n",
      "i 51 diff 0 row[51] 0\n",
      "i 52 diff 0 row[52] 0\n",
      "i 53 diff 0 row[53] 0\n",
      "i 54 diff 0 row[54] 0\n",
      "i 55 diff 0 row[55] 0\n",
      "i 56 diff 0 row[56] 0\n",
      "i 57 diff 0 row[57] 0\n",
      "i 58 diff 0 row[58] 0\n",
      "i 59 diff 0 row[59] 0\n"
     ]
    },
    {
     "data": {
      "text/plain": [
       "[(0, 4, 0),\n",
       " (4, 6, 4),\n",
       " (6, 8, 4),\n",
       " (8, 12, 10),\n",
       " (12, 15, 10),\n",
       " (15, 17, 15),\n",
       " (17, 19, 15),\n",
       " (19, 21, 19),\n",
       " (21, 23, 21),\n",
       " (23, 27, 24),\n",
       " (27, 34, 24),\n",
       " (34, 36, 34)]"
      ]
     },
     "execution_count": 77,
     "metadata": {},
     "output_type": "execute_result"
    }
   ],
   "source": [
    "p = analyse_row(to_int(s[0][1:]))\n",
    "#to_int(s[0][1:])\n",
    "p"
   ]
  },
  {
   "cell_type": "code",
   "execution_count": 55,
   "metadata": {
    "collapsed": false
   },
   "outputs": [
    {
     "name": "stdout",
     "output_type": "stream",
     "text": [
      "0 4 0\n",
      "4 6 1\n",
      "6 8 1\n",
      "8 12 1\n",
      "12 15 1\n",
      "15 17 1\n",
      "17 19 1\n",
      "19 21 2\n",
      "21 23 1\n",
      "23 27 53\n",
      "27 34 53\n",
      "34 36 1\n"
     ]
    }
   ],
   "source": [
    "for a in p:\n",
    "    print(a[0], a[1], ss[a[2]])"
   ]
  },
  {
   "cell_type": "code",
   "execution_count": 11,
   "metadata": {
    "collapsed": false
   },
   "outputs": [],
   "source": [
    "def argmax(row):\n",
    "    max_ = max(row)\n",
    "    argmaxes = [i for i in range(len(row)) if row[i] == max_]\n",
    "    return int(sum(argmaxes) / len(argmaxes))"
   ]
  },
  {
   "cell_type": "code",
   "execution_count": 13,
   "metadata": {
    "collapsed": false
   },
   "outputs": [],
   "source": [
    "def an(row):\n",
    "    a = []\n",
    "    diff = [row[i] - row[i-1] for i in range(1,len(row))]\n",
    "    opened = False\n",
    "    for i in range(len(diff)):\n",
    "        if diff[i] > 0:\n",
    "            if not opened:\n",
    "                opened = True\n",
    "                start = i\n",
    "        if ((i + 1 < len(diff)) and diff[i] < 0 and diff[i+1] >= 0) or i == len(diff) - 1:\n",
    "            if opened:\n",
    "                opened = False\n",
    "                argmax_ = start + argmax(row[start:i+2])\n",
    "                a.append((start, i+1, argmax_),)\n",
    "    return diff, a"
   ]
  },
  {
   "cell_type": "code",
   "execution_count": 14,
   "metadata": {
    "collapsed": true
   },
   "outputs": [],
   "source": [
    "def ann(jumps, row):\n",
    "    a = []\n",
    "    for left, right, argmax_ in jumps:\n",
    "        max_ = row[argmax_]\n",
    "        vert = max_ - row[left]\n",
    "        hor = argmax_ - left\n",
    "        tan = vert / hor\n",
    "        width = right - left\n",
    "        a.append((tan, width),)\n",
    "    return a"
   ]
  },
  {
   "cell_type": "code",
   "execution_count": 15,
   "metadata": {
    "collapsed": true
   },
   "outputs": [],
   "source": [
    "def annn(row):\n",
    "    diff, pp = an(row)\n",
    "    return ann(pp, row)"
   ]
  },
  {
   "cell_type": "code",
   "execution_count": 219,
   "metadata": {
    "collapsed": false
   },
   "outputs": [],
   "source": [
    "d, a = an(to_int(ss))"
   ]
  },
  {
   "cell_type": "code",
   "execution_count": 220,
   "metadata": {
    "collapsed": false
   },
   "outputs": [
    {
     "data": {
      "text/plain": [
       "(59, 60)"
      ]
     },
     "execution_count": 220,
     "metadata": {},
     "output_type": "execute_result"
    }
   ],
   "source": [
    "len(d), len(ss)"
   ]
  },
  {
   "cell_type": "code",
   "execution_count": 221,
   "metadata": {
    "collapsed": false
   },
   "outputs": [],
   "source": [
    "#list(zip(enumerate(to_int(ss)), d))"
   ]
  },
  {
   "cell_type": "code",
   "execution_count": 222,
   "metadata": {
    "collapsed": false
   },
   "outputs": [
    {
     "data": {
      "text/plain": [
       "[(3, 5, 4),\n",
       " (7, 11, 9),\n",
       " (14, 16, 15),\n",
       " (18, 20, 19),\n",
       " (20, 22, 21),\n",
       " (22, 26, 24),\n",
       " (33, 35, 34)]"
      ]
     },
     "execution_count": 222,
     "metadata": {},
     "output_type": "execute_result"
    }
   ],
   "source": [
    "a"
   ]
  },
  {
   "cell_type": "code",
   "execution_count": 223,
   "metadata": {
    "collapsed": false
   },
   "outputs": [],
   "source": [
    "#max([1,2,3,4])"
   ]
  },
  {
   "cell_type": "code",
   "execution_count": 224,
   "metadata": {
    "collapsed": false
   },
   "outputs": [],
   "source": [
    "#argmax([1,1,1,2,2,1,1])"
   ]
  },
  {
   "cell_type": "code",
   "execution_count": 225,
   "metadata": {
    "collapsed": false
   },
   "outputs": [
    {
     "data": {
      "text/plain": [
       "[(1.0, 2), (0.5, 4), (1.0, 2), (2.0, 2), (1.0, 2), (26.5, 4), (1.0, 2)]"
      ]
     },
     "execution_count": 225,
     "metadata": {},
     "output_type": "execute_result"
    }
   ],
   "source": [
    "ann(a, to_int(ss))"
   ]
  },
  {
   "cell_type": "code",
   "execution_count": 226,
   "metadata": {
    "collapsed": false
   },
   "outputs": [
    {
     "data": {
      "text/plain": [
       "[(1.0, 2), (0.5, 4), (1.0, 2), (2.0, 2), (1.0, 2), (26.5, 4), (1.0, 2)]"
      ]
     },
     "execution_count": 226,
     "metadata": {},
     "output_type": "execute_result"
    }
   ],
   "source": [
    "annn(to_int(ss))"
   ]
  },
  {
   "cell_type": "code",
   "execution_count": 17,
   "metadata": {
    "collapsed": false
   },
   "outputs": [],
   "source": [
    "waves = []\n",
    "for dat in s:\n",
    "    dd = to_int(dat[1:])\n",
    "    waves.extend(annn(dd))"
   ]
  },
  {
   "cell_type": "code",
   "execution_count": 18,
   "metadata": {
    "collapsed": true
   },
   "outputs": [],
   "source": [
    "x = []\n",
    "y = []\n",
    "for tan, width in waves:\n",
    "    x.append(tan)\n",
    "    y.append(width)"
   ]
  },
  {
   "cell_type": "code",
   "execution_count": 19,
   "metadata": {
    "collapsed": false
   },
   "outputs": [
    {
     "data": {
      "text/plain": [
       "[<matplotlib.lines.Line2D at 0x7f965a584dd8>]"
      ]
     },
     "execution_count": 19,
     "metadata": {},
     "output_type": "execute_result"
    },
    {
     "data": {
      "image/png": "[encoded data removed]",
      "text/plain": [
       "<matplotlib.figure.Figure at 0x7f965b132f28>"
      ]
     },
     "metadata": {},
     "output_type": "display_data"
    }
   ],
   "source": [
    "plt.plot(x,y, 'ro')"
   ]
  },
  {
   "cell_type": "code",
   "execution_count": 20,
   "metadata": {
    "collapsed": false
   },
   "outputs": [
    {
     "data": {
      "text/plain": [
       "(array([  1.04231000e+05,   1.04000000e+02,   1.70000000e+01,\n",
       "          8.00000000e+00,   2.00000000e+00,   2.00000000e+00,\n",
       "          2.00000000e+00,   3.00000000e+00,   0.00000000e+00,\n",
       "          1.00000000e+00]),\n",
       " array([  2.22222222e-01,   1.01300000e+02,   2.02377778e+02,\n",
       "          3.03455556e+02,   4.04533333e+02,   5.05611111e+02,\n",
       "          6.06688889e+02,   7.07766667e+02,   8.08844444e+02,\n",
       "          9.09922222e+02,   1.01100000e+03]),\n",
       " <a list of 10 Patch objects>)"
      ]
     },
     "execution_count": 20,
     "metadata": {},
     "output_type": "execute_result"
    },
    {
     "data": {
      "image/png": "[encoded data removed]",
      "text/plain": [
       "<matplotlib.figure.Figure at 0x7f965a6cc208>"
      ]
     },
     "metadata": {},
     "output_type": "display_data"
    }
   ],
   "source": [
    "plt.hist(x)\n",
    "#plt.axis([0,50, 0, 80000])"
   ]
  },
  {
   "cell_type": "code",
   "execution_count": 21,
   "metadata": {
    "collapsed": false
   },
   "outputs": [
    {
     "data": {
      "text/plain": [
       "(array([  5.13340000e+04,   2.97250000e+04,   1.38880000e+04,\n",
       "          8.15700000e+03,   8.41000000e+02,   2.81000000e+02,\n",
       "          1.37000000e+02,   4.00000000e+00,   0.00000000e+00,\n",
       "          3.00000000e+00]),\n",
       " array([  1. ,   2.3,   3.6,   4.9,   6.2,   7.5,   8.8,  10.1,  11.4,\n",
       "         12.7,  14. ]),\n",
       " <a list of 10 Patch objects>)"
      ]
     },
     "execution_count": 21,
     "metadata": {},
     "output_type": "execute_result"
    },
    {
     "data": {
      "image/png": "[encoded data removed]",
      "text/plain": [
       "<matplotlib.figure.Figure at 0x7f965afaa048>"
      ]
     },
     "metadata": {},
     "output_type": "display_data"
    }
   ],
   "source": [
    "plt.hist(y)"
   ]
  },
  {
   "cell_type": "code",
   "execution_count": 22,
   "metadata": {
    "collapsed": true
   },
   "outputs": [],
   "source": [
    "interests = []\n",
    "for i in range(len(s)):\n",
    "    dd = to_int(s[i][1:])\n",
    "    p = [(tan, width, i) for tan, width in annn(dd)]\n",
    "    interests.extend(p)"
   ]
  },
  {
   "cell_type": "code",
   "execution_count": 23,
   "metadata": {
    "collapsed": false
   },
   "outputs": [],
   "source": [
    "tans = {}\n",
    "widths = {}\n",
    "for tan, width, tag in interests:\n",
    "    if tag in tans:\n",
    "        tans[tag].append(tan)\n",
    "    else:\n",
    "        tans[tag] = [tan]\n",
    "    if tag in widths:\n",
    "        widths[tag].append(width)\n",
    "    else:\n",
    "        widths[tag] = [width]"
   ]
  },
  {
   "cell_type": "code",
   "execution_count": 24,
   "metadata": {
    "collapsed": false
   },
   "outputs": [],
   "source": [
    "tags = []\n",
    "for tag in tans:\n",
    "    tags.append((len(tans[tag]), sum(tans[tag]) / len(tans[tag]), sum(widths[tag]) / len(widths[tag])),)"
   ]
  },
  {
   "cell_type": "code",
   "execution_count": 25,
   "metadata": {
    "collapsed": false
   },
   "outputs": [
    {
     "data": {
      "text/plain": [
       "([1.0, 0.5, 1.0, 2.0, 1.0, 26.5, 1.0], 4.714285714285714)"
      ]
     },
     "execution_count": 25,
     "metadata": {},
     "output_type": "execute_result"
    }
   ],
   "source": [
    "tans[0], sum(tans[0]) / len(tans[0])"
   ]
  },
  {
   "cell_type": "code",
   "execution_count": 26,
   "metadata": {
    "collapsed": false
   },
   "outputs": [
    {
     "data": {
      "text/plain": [
       "(7, 4.714285714285714, 2.5714285714285716)"
      ]
     },
     "execution_count": 26,
     "metadata": {},
     "output_type": "execute_result"
    }
   ],
   "source": [
    "tags[0]"
   ]
  },
  {
   "cell_type": "code",
   "execution_count": 27,
   "metadata": {
    "collapsed": true
   },
   "outputs": [],
   "source": [
    "waves_count = []\n",
    "mean_tan = []\n",
    "mean_width = []\n",
    "for a, b, c in tags:\n",
    "    waves_count.append(a)\n",
    "    mean_tan.append(b)\n",
    "    mean_width.append(c)"
   ]
  },
  {
   "cell_type": "code",
   "execution_count": 28,
   "metadata": {
    "collapsed": false
   },
   "outputs": [
    {
     "data": {
      "text/plain": [
       "[<matplotlib.lines.Line2D at 0x7f9659680208>]"
      ]
     },
     "execution_count": 28,
     "metadata": {},
     "output_type": "execute_result"
    },
    {
     "data": {
      "image/png": "[encoded data removed]",
      "text/plain": [
       "<matplotlib.figure.Figure at 0x7f965a4a9b70>"
      ]
     },
     "metadata": {},
     "output_type": "display_data"
    }
   ],
   "source": [
    "plt.plot(waves_count, mean_tan, 'ro')"
   ]
  },
  {
   "cell_type": "code",
   "execution_count": 29,
   "metadata": {
    "collapsed": false
   },
   "outputs": [
    {
     "data": {
      "text/plain": [
       "[<matplotlib.lines.Line2D at 0x7f96595e5198>]"
      ]
     },
     "execution_count": 29,
     "metadata": {},
     "output_type": "execute_result"
    },
    {
     "data": {
      "image/png": "[encoded data removed]",
      "text/plain": [
       "<matplotlib.figure.Figure at 0x7f965b0cb550>"
      ]
     },
     "metadata": {},
     "output_type": "display_data"
    }
   ],
   "source": [
    "plt.plot(mean_width, mean_tan, 'ro')"
   ]
  },
  {
   "cell_type": "code",
   "execution_count": 30,
   "metadata": {
    "collapsed": false,
    "scrolled": true
   },
   "outputs": [
    {
     "data": {
      "text/plain": [
       "[<matplotlib.lines.Line2D at 0x7f96595ce9e8>]"
      ]
     },
     "execution_count": 30,
     "metadata": {},
     "output_type": "execute_result"
    },
    {
     "data": {
      "image/png": "[encoded data removed]",
      "text/plain": [
       "<matplotlib.figure.Figure at 0x7f965a4ad780>"
      ]
     },
     "metadata": {},
     "output_type": "display_data"
    }
   ],
   "source": [
    "plt.plot(mean_width, waves_count, 'ro')"
   ]
  },
  {
   "cell_type": "code",
   "execution_count": 31,
   "metadata": {
    "collapsed": false
   },
   "outputs": [
    {
     "data": {
      "text/plain": [
       "1.3"
      ]
     },
     "execution_count": 31,
     "metadata": {},
     "output_type": "execute_result"
    }
   ],
   "source": [
    "sum(to_int(ss)) / len(to_int(ss))"
   ]
  },
  {
   "cell_type": "code",
   "execution_count": 154,
   "metadata": {
    "collapsed": true
   },
   "outputs": [],
   "source": [
    "def on(row):\n",
    "    waves = []\n",
    "    mean_interest_level = sum(row) / len(row)\n",
    "    opened = False\n",
    "    for i in range(len(row)):\n",
    "        if row[i] >= mean_interest_level:\n",
    "            if not opened:\n",
    "                opened = True\n",
    "                start = i - 1\n",
    "                if start < 0:\n",
    "                    start = 0\n",
    "        if row[i] < mean_interest_level:\n",
    "            if opened:\n",
    "                opened = False\n",
    "                if start < i:\n",
    "                    argmax_ = start + argmax(row[start:i+1])\n",
    "                    if argmax_ > start:\n",
    "                        waves.append((start, i, argmax_),)\n",
    "    return waves"
   ]
  },
  {
   "cell_type": "code",
   "execution_count": 155,
   "metadata": {
    "collapsed": false
   },
   "outputs": [
    {
     "data": {
      "text/plain": [
       "[(18, 20, 19), (22, 26, 24)]"
      ]
     },
     "execution_count": 155,
     "metadata": {},
     "output_type": "execute_result"
    }
   ],
   "source": [
    "on(to_int(ss))"
   ]
  },
  {
   "cell_type": "code",
   "execution_count": 156,
   "metadata": {
    "collapsed": true
   },
   "outputs": [],
   "source": [
    "def onnn(row):\n",
    "    return ann(on(row), row)"
   ]
  },
  {
   "cell_type": "code",
   "execution_count": 157,
   "metadata": {
    "collapsed": false
   },
   "outputs": [
    {
     "data": {
      "text/plain": [
       "[(2.0, 2), (26.5, 4)]"
      ]
     },
     "execution_count": 157,
     "metadata": {},
     "output_type": "execute_result"
    }
   ],
   "source": [
    "onnn(to_int(ss))"
   ]
  },
  {
   "cell_type": "code",
   "execution_count": 36,
   "metadata": {
    "collapsed": false
   },
   "outputs": [],
   "source": [
    "waves = []\n",
    "for dat in s:\n",
    "    dd = to_int(dat[1:])\n",
    "    waves.extend(onnn(dd))"
   ]
  },
  {
   "cell_type": "code",
   "execution_count": 37,
   "metadata": {
    "collapsed": true
   },
   "outputs": [],
   "source": [
    "x = []\n",
    "y = []\n",
    "for tan, width in waves:\n",
    "    x.append(tan)\n",
    "    y.append(width)"
   ]
  },
  {
   "cell_type": "code",
   "execution_count": 38,
   "metadata": {
    "collapsed": false
   },
   "outputs": [
    {
     "data": {
      "text/plain": [
       "[<matplotlib.lines.Line2D at 0x7f965aede6d8>]"
      ]
     },
     "execution_count": 38,
     "metadata": {},
     "output_type": "execute_result"
    },
    {
     "data": {
      "image/png": "[encoded data removed]",
      "text/plain": [
       "<matplotlib.figure.Figure at 0x7f96596135c0>"
      ]
     },
     "metadata": {},
     "output_type": "display_data"
    }
   ],
   "source": [
    "plt.plot(x, y, 'ro')"
   ]
  },
  {
   "cell_type": "code",
   "execution_count": 39,
   "metadata": {
    "collapsed": false
   },
   "outputs": [
    {
     "data": {
      "text/plain": [
       "(array([  6.85970000e+04,   8.90000000e+01,   1.80000000e+01,\n",
       "          9.00000000e+00,   2.00000000e+00,   1.00000000e+00,\n",
       "          3.00000000e+00,   2.00000000e+00,   0.00000000e+00,\n",
       "          2.00000000e+00]),\n",
       " array([  1.11111111e-01,   1.01200000e+02,   2.02288889e+02,\n",
       "          3.03377778e+02,   4.04466667e+02,   5.05555556e+02,\n",
       "          6.06644444e+02,   7.07733333e+02,   8.08822222e+02,\n",
       "          9.09911111e+02,   1.01100000e+03]),\n",
       " <a list of 10 Patch objects>)"
      ]
     },
     "execution_count": 39,
     "metadata": {},
     "output_type": "execute_result"
    },
    {
     "data": {
      "image/png": "[encoded data removed]",
      "text/plain": [
       "<matplotlib.figure.Figure at 0x7f965a428588>"
      ]
     },
     "metadata": {},
     "output_type": "display_data"
    }
   ],
   "source": [
    "plt.hist(x)"
   ]
  },
  {
   "cell_type": "code",
   "execution_count": 40,
   "metadata": {
    "collapsed": false
   },
   "outputs": [
    {
     "name": "stdout",
     "output_type": "stream",
     "text": [
      "4.38302835366 1011.0 0.111111111111 2.0 33.39\n"
     ]
    }
   ],
   "source": [
    "print(np.mean(x), np.max(x), np.min(x), np.median(x), np.percentile(x, 99))\n"
   ]
  },
  {
   "cell_type": "code",
   "execution_count": 41,
   "metadata": {
    "collapsed": false
   },
   "outputs": [],
   "source": [
    "#plt.hist(y)"
   ]
  },
  {
   "cell_type": "code",
   "execution_count": 42,
   "metadata": {
    "collapsed": true
   },
   "outputs": [],
   "source": [
    "interests = []\n",
    "for i in range(len(s)):\n",
    "    dd = to_int(s[i][1:])\n",
    "    p = [(tan, width, i) for tan, width in onnn(dd)]\n",
    "    interests.extend(p)"
   ]
  },
  {
   "cell_type": "code",
   "execution_count": 43,
   "metadata": {
    "collapsed": true
   },
   "outputs": [],
   "source": [
    "tans = {}\n",
    "widths = {}\n",
    "for tan, width, tag in interests:\n",
    "    if tag in tans:\n",
    "        tans[tag].append(tan)\n",
    "    else:\n",
    "        tans[tag] = [tan]\n",
    "    if tag in widths:\n",
    "        widths[tag].append(width)\n",
    "    else:\n",
    "        widths[tag] = [width]"
   ]
  },
  {
   "cell_type": "code",
   "execution_count": 44,
   "metadata": {
    "collapsed": true
   },
   "outputs": [],
   "source": [
    "waves_count = []\n",
    "mean_tan = []\n",
    "mean_width = []\n",
    "for a, b, c in tags:\n",
    "    waves_count.append(a)\n",
    "    mean_tan.append(b)\n",
    "    mean_width.append(c)"
   ]
  },
  {
   "cell_type": "code",
   "execution_count": 45,
   "metadata": {
    "collapsed": false
   },
   "outputs": [
    {
     "data": {
      "text/plain": [
       "[<matplotlib.lines.Line2D at 0x7f965a133080>]"
      ]
     },
     "execution_count": 45,
     "metadata": {},
     "output_type": "execute_result"
    },
    {
     "data": {
      "image/png": "[encoded data removed]",
      "text/plain": [
       "<matplotlib.figure.Figure at 0x7f965acb7b38>"
      ]
     },
     "metadata": {},
     "output_type": "display_data"
    }
   ],
   "source": [
    "plt.plot(waves_count, mean_tan, 'ro')"
   ]
  },
  {
   "cell_type": "code",
   "execution_count": 46,
   "metadata": {
    "collapsed": false
   },
   "outputs": [
    {
     "data": {
      "text/plain": [
       "[<matplotlib.lines.Line2D at 0x7f9659c31c18>]"
      ]
     },
     "execution_count": 46,
     "metadata": {},
     "output_type": "execute_result"
    },
    {
     "data": {
      "image/png": "[encoded data removed]",
      "text/plain": [
       "<matplotlib.figure.Figure at 0x7f965a1dadd8>"
      ]
     },
     "metadata": {},
     "output_type": "display_data"
    }
   ],
   "source": [
    "plt.plot(mean_width, mean_tan, 'ro')"
   ]
  },
  {
   "cell_type": "code",
   "execution_count": 47,
   "metadata": {
    "collapsed": false
   },
   "outputs": [
    {
     "data": {
      "text/plain": [
       "[<matplotlib.lines.Line2D at 0x7f965a1a86a0>]"
      ]
     },
     "execution_count": 47,
     "metadata": {},
     "output_type": "execute_result"
    },
    {
     "data": {
      "image/png": "[encoded data removed]",
      "text/plain": [
       "<matplotlib.figure.Figure at 0x7f9659f86e48>"
      ]
     },
     "metadata": {},
     "output_type": "display_data"
    }
   ],
   "source": [
    "plt.plot(mean_width, waves_count, 'ro')"
   ]
  },
  {
   "cell_type": "code",
   "execution_count": 101,
   "metadata": {
    "collapsed": true
   },
   "outputs": [],
   "source": [
    "stat = lambda x: (np.mean(x), np.median(x), np.max(x), np.min(x), np.percentile(x, 5))"
   ]
  },
  {
   "cell_type": "code",
   "execution_count": 102,
   "metadata": {
    "collapsed": false
   },
   "outputs": [
    {
     "data": {
      "text/plain": [
       "(2.874344355613466, 2.8333333333333335, 9.0, 2.0, 2.2666666666666666)"
      ]
     },
     "execution_count": 102,
     "metadata": {},
     "output_type": "execute_result"
    }
   ],
   "source": [
    "stat(mean_width) # средние ширины по тегам"
   ]
  },
  {
   "cell_type": "code",
   "execution_count": 103,
   "metadata": {
    "collapsed": false
   },
   "outputs": [
    {
     "data": {
      "text/plain": [
       "(13.705843729481288, 14.0, 23, 1, 6.0)"
      ]
     },
     "execution_count": 103,
     "metadata": {},
     "output_type": "execute_result"
    }
   ],
   "source": [
    "stat(waves_count)"
   ]
  },
  {
   "cell_type": "code",
   "execution_count": 104,
   "metadata": {
    "collapsed": false
   },
   "outputs": [
    {
     "data": {
      "text/plain": [
       "(4.2038651154460682, 2.4848484848484849, 433.0, 0.5, 1.25)"
      ]
     },
     "execution_count": 104,
     "metadata": {},
     "output_type": "execute_result"
    }
   ],
   "source": [
    "stat(mean_tan) # средние тангенсы по тегам"
   ]
  },
  {
   "cell_type": "code",
   "execution_count": 105,
   "metadata": {
    "collapsed": false
   },
   "outputs": [
    {
     "data": {
      "text/plain": [
       "(4.3830283536586139, 2.0, 1011.0, 0.1111111111111111, 1.0)"
      ]
     },
     "execution_count": 105,
     "metadata": {},
     "output_type": "execute_result"
    }
   ],
   "source": [
    "stat(x) # все тангенсы"
   ]
  },
  {
   "cell_type": "code",
   "execution_count": 106,
   "metadata": {
    "collapsed": false
   },
   "outputs": [
    {
     "data": {
      "text/plain": [
       "(3.1229137261178934, 2.0, 33, 2, 2.0)"
      ]
     },
     "execution_count": 106,
     "metadata": {},
     "output_type": "execute_result"
    }
   ],
   "source": [
    "stat(y) # все ширины"
   ]
  },
  {
   "cell_type": "code",
   "execution_count": 158,
   "metadata": {
    "collapsed": true
   },
   "outputs": [],
   "source": [
    "def is_(data, waves_count_median, tan_median, width_median):\n",
    "    dd = to_int(data[1:])\n",
    "    waves = onnn(dd)\n",
    "    if not waves:\n",
    "        return False\n",
    "    tans = []\n",
    "    widths = []\n",
    "    for tan, width in waves:\n",
    "        tans.append(tan)\n",
    "        widths.append(width)\n",
    "    median_tan = np.median(tans)\n",
    "    median_width = np.median(widths)\n",
    "    return median_tan > tan_median and median_width > width_median and len(waves) <= waves_count_median\n",
    "    return waves"
   ]
  },
  {
   "cell_type": "code",
   "execution_count": 159,
   "metadata": {
    "collapsed": false
   },
   "outputs": [],
   "source": [
    "#is_temporal_interest = lambda x: is_(x, np.median(waves_count), np.median(mean_tan), np.median(mean_width))\n",
    "is_temporal_interest = lambda x: is_(x, 6, np.median(mean_tan), np.median(mean_width))"
   ]
  },
  {
   "cell_type": "code",
   "execution_count": 160,
   "metadata": {
    "collapsed": false
   },
   "outputs": [
    {
     "data": {
      "text/plain": [
       "False"
      ]
     },
     "execution_count": 160,
     "metadata": {},
     "output_type": "execute_result"
    }
   ],
   "source": [
    "is_(s[2], 1,1,1)"
   ]
  },
  {
   "cell_type": "code",
   "execution_count": 161,
   "metadata": {
    "collapsed": false
   },
   "outputs": [
    {
     "data": {
      "text/plain": [
       "False"
      ]
     },
     "execution_count": 161,
     "metadata": {},
     "output_type": "execute_result"
    }
   ],
   "source": [
    "is_temporal_interest(s[2])"
   ]
  },
  {
   "cell_type": "code",
   "execution_count": 185,
   "metadata": {
    "collapsed": false
   },
   "outputs": [
    {
     "name": "stdout",
     "output_type": "stream",
     "text": [
      "\n",
      ":)\n",
      "14 февраля\n",
      "18+\n",
      "2012 год\n",
      "2013\n",
      "2014\n",
      "2014 год\n",
      "2015\n",
      "2015 год\n",
      "2016\n",
      "23 февраля\n",
      "30-е\n",
      "3 года\n",
      "50-е\n",
      "5 колонна\n",
      "70 лет победы\n",
      "alexander\n",
      "alex wuduki\n",
      "amatory\n",
      "animals\n",
      "anime\n",
      "arashi\n",
      "architecture\n",
      "army\n",
      "art\n",
      "ass\n",
      "audi\n",
      "auto\n",
      "awesome\n",
      "bleach\n",
      "bmw\n",
      "bmx\n",
      "business\n",
      "ca\n",
      "camera\n",
      "canvas\n",
      "cartoons\n",
      "cats\n",
      "celebrity\n",
      "challenge\n",
      "china glaze\n",
      "cinema bizarre\n",
      "comedy club\n",
      "cool\n",
      "crash\n",
      "creative\n",
      "cute\n",
      "daily\n",
      "dancing\n",
      "dog\n",
      "emo\n",
      "en\n",
      "epic\n",
      "evanescence\n",
      "fail\n",
      "faith\n",
      "fall out boy\n",
      "fashion\n",
      "fic\n",
      "friends\n",
      "g+\n",
      "games\n",
      "gifs\n",
      "goa\n",
      "golf\n",
      "google+\n",
      "gothic\n",
      "hip-hop\n",
      "http www odnoklassniki ru dk cmd anonyml\n",
      "http www odnoklassniki ru dk st cmd user\n",
      "icons\n",
      "icq\n",
      "image\n",
      "inspiration\n",
      "internet\n",
      "jane air\n",
      "jewelry\n",
      "life\n",
      "linkin park\n",
      "loveless\n",
      "manga\n",
      "me\n",
      "memes\n",
      "microsoft\n",
      "movies\n",
      "mpower\n",
      "music\n",
      "nagvali wuduki\n",
      "naruto\n",
      "nature\n",
      "nikon\n",
      "nw.lj.ru\n",
      "oil\n",
      "ouch\n",
      "party\n",
      "photo\n",
      "photography\n",
      "portugal\n",
      "project\n",
      "putin\n",
      "quiz\n",
      "rage\n",
      "rap\n",
      "rt\n",
      "russia\n",
      "school\n",
      "senorgif\n",
      "sexy\n",
      "ska\n",
      "sketches\n",
      "slash\n",
      "slipknot\n",
      "smm\n",
      "south park\n",
      "sports\n",
      "star trek\n",
      "steampunk\n",
      "still life\n",
      "summer\n",
      "technology\n",
      "#tobewoman\n",
      "tokio hotel\n",
      "traveling\n",
      "tv\n",
      "$tw\n",
      "twitter\n",
      "ufc\n",
      "ukraine\n",
      "via ljapp\n",
      "vintage\n",
      "vips\n",
      "vips.lj.ru\n",
      "war\n",
      "weird\n",
      "win\n",
      "winter\n",
      "writer's block\n",
      "wtf\n",
      "yaoi\n",
      "авангард\n",
      "авария\n",
      "август\n",
      "австралия\n",
      "﻿авто\n",
      "адреналин\n",
      "айкидо\n",
      "актуально\n",
      "акция протеста\n",
      "алексей\n",
      "альтернатива\n",
      "анастасия ракова\n",
      "анб\n",
      "анжи\n",
      "анимэ-арт\n",
      "антикризисные меры\n",
      "антикризисный план\n",
      "антироссийская пропаганда\n",
      "антироссийские санкции\n",
      "апельсины\n",
      "аренда\n",
      "ария\n",
      "армия россии\n",
      "армия рф\n",
      "армия украины\n",
      "ароматы\n",
      "архангельская область\n",
      "архив\n",
      "аська\n",
      "ато\n",
      "бабское\n",
      "барабаны\n",
      "барак обама\n",
      "баскетбол\n",
      "башар асад\n",
      "беженцы\n",
      "бездомные\n",
      "белые ночи\n",
      "бизнес центр\n",
      "бирюлево\n",
      "ближний восток\n",
      "блоги\n",
      "богословие\n",
      "боевики\n",
      "боевики в сирии\n",
      "боевики сирия\n",
      "бокс\n",
      "болотная площадь\n",
      "бомж\n",
      "борьба с иг\n",
      "борьба с терроризмом\n",
      "боулинг\n",
      "браслет\n",
      "бред\n",
      "брейвик\n",
      "брошь\n",
      "брянск\n",
      "б.ссср\n",
      "бумага\n",
      "бусы\n",
      "валюта\n",
      "валютный рынок\n",
      "вампиры\n",
      "вам слово\n",
      "ваше мнение\n",
      "вашингтон\n",
      "ведьмы\n",
      "вежливые люди\n",
      "великий пост\n",
      "веселиться\n",
      "весна\n",
      "вечер\n",
      "вечеринки\n",
      "видеорегистратор\n",
      "видеоролик\n",
      "винтаж\n",
      "владимир путин\n",
      "внешняя политика россии\n",
      "внутренняя политика россии\n",
      "военная техника\n",
      "военная техника россии\n",
      "военные преступления\n",
      "военные учения\n",
      "война\n",
      "война в новороссии\n",
      "война в сирии\n",
      "война на украине\n",
      "война украина\n",
      "вокал\n",
      "вокруг света\n",
      "волосы\n",
      "воскресенье\n",
      "восток\n",
      "все\n",
      "все будет хорошо\n",
      "всё\n",
      "всу\n",
      "всяко-разно\n",
      "выборы\n",
      "#выборы\n",
      "выборы 2012\n",
      "выборы 2013\n",
      "выборы 2014\n",
      "#выборы2014\n",
      "выборы мэра москвы\n",
      "выборы на украине\n",
      "выборы президента\n",
      "вязание\n",
      "газ\n",
      "геополитика\n",
      "георгиевская лента\n",
      "гипотезы\n",
      "гитары\n",
      "глаза\n",
      "гламур\n",
      "глум\n",
      "год нисанов\n",
      "голливуд\n",
      "гостиницы\n",
      "готика\n",
      "готовить\n",
      "готы\n",
      "гражданская война\n",
      "гражданская позиция\n",
      "графика\n",
      "графити\n",
      "грустить\n",
      "гулянки\n",
      "гулять\n",
      "гуманитарная помощь\n",
      "дахаб\n",
      "дача\n",
      "девочковое\n",
      "девушки\n",
      "декабрь\n",
      "дела житейские\n",
      "делюсь\n",
      "демоны\n",
      "день города\n",
      "день космонавтики\n",
      "день святого валентина\n",
      "десоветизация\n",
      "детективы\n",
      "детское\n",
      "джен псаки\n",
      "джинсы\n",
      "дискотеки\n",
      "днр\n",
      "днр и лнр\n",
      "доброе утро\n",
      "доброе утро!\n",
      "добрый вечер\n",
      "дождик\n",
      "долг украины\n",
      "донецк\n",
      "донецкая народная республика\n",
      "донецкий аэропорт\n",
      "драки\n",
      "друзья\n",
      "дума\n",
      "думать\n",
      "евро 2012\n",
      "еврозона\n",
      "евромайдан\n",
      "европарламент\n",
      "евросоюз\n",
      "егэ\n",
      "единоборства\n",
      "едро\n",
      "ежедневное\n",
      "ер\n",
      "ес\n",
      "ес 2014\n",
      "ес новости\n",
      "жалобы\n",
      "жара\n",
      "жемчуг\n",
      "жзл\n",
      "животных\n",
      "жизненно\n",
      "жизнь моя\n",
      "жириновский\n",
      "житие мое\n",
      "жить\n",
      "жулики и воры\n",
      "жызненное\n",
      "забайкалье\n",
      "забайкальский край\n",
      "загорать\n",
      "закаты\n",
      "законы\n",
      "западное влияние\n",
      "западные сми\n",
      "зарах илиев\n",
      "зарисовки\n",
      "захарченко\n",
      "заявление путина\n",
      "звёзды\n",
      "здоровый образ жизни\n",
      "зеленый чай\n",
      "зенит\n",
      "зима\n",
      "зимнее\n",
      "знакомства\n",
      "значки\n",
      "иг\n",
      "игил\n",
      "идиоты\n",
      "изба-читальня\n",
      "известные личности\n",
      "и многое другое\n",
      "импортозамещение\n",
      "иностранные языки\n",
      "интервью путина\n",
      "интересное\n",
      "интересно знать\n",
      "интересные люди\n",
      "интересы\n",
      "инфобизнес\n",
      "информационная война\n",
      "информация к размышлению\n",
      "инфраструктура\n",
      "искренность\n",
      "исламское государство\n",
      "история россии\n",
      "и т д\n",
      "их нравы\n",
      "июнь\n",
      "й\n",
      "к-1\n",
      "каждый день\n",
      "как всегда\n",
      "кальян\n",
      "камеди клаб\n",
      "капелло\n",
      "капотня\n",
      "каратели\n",
      "каратэ\n",
      "картинки\n",
      "картиночки\n",
      "картины\n",
      "кататься на коньках\n",
      "квн\n",
      "кгб\n",
      "кеды\n",
      "кино\n",
      "кинопоиск\n",
      "киокушинкай\n",
      "кладбища\n",
      "клипсы\n",
      "кличко\n",
      "клубника\n",
      "клубы\n",
      "книжная полка\n",
      "коллекционное\n",
      "колье\n",
      "комедии\n",
      "комп\n",
      "компы\n",
      "конный спорт\n",
      "конфеты\n",
      "концерты\n",
      "коротко\n",
      "коррупция на украине\n",
      "котик\n",
      "котики\n",
      "коты\n",
      "кража\n",
      "краматорск\n",
      "кремлядь\n",
      "кризис\n",
      "крушение боинга\n",
      "крым\n",
      "крым 2014\n",
      "крым россия\n",
      "кулинарные рецепты\n",
      "кулон\n",
      "купить\n",
      "курс доллара\n",
      "курс рубля\n",
      "курьезы\n",
      "куски\n",
      "лавров\n",
      "ландшафтный дизайн\n",
      "латунь\n",
      "лето\n",
      "лето 2012\n",
      "личностный рост\n",
      "лнр\n",
      "луганск\n",
      "лыжи\n",
      "львов\n",
      "лю\n",
      "любить\n",
      "люблино\n",
      "#люблино\n",
      "люблю гулять\n",
      "люблю музыку\n",
      "люблю рисовать\n",
      "люблю слушать музыку\n",
      "люблю читать\n",
      "любопытное\n",
      "люди\n",
      "люкс\n",
      "ляшко\n",
      "магнитский\n",
      "май\n",
      "малазийский боинг\n",
      "манга\n",
      "маникюр\n",
      "мариуполь\n",
      "март\n",
      "мартини\n",
      "марьино\n",
      "#марьино\n",
      "массовые беспорядки\n",
      "массовые убийства\n",
      "мастерская\n",
      "мвф\n",
      "мгд\n",
      "#мгд\n",
      "меркель\n",
      "месси\n",
      "метал\n",
      "металл\n",
      "мечтать\n",
      "мигранты\n",
      "#мигранты\n",
      "миграционный закон\n",
      "миграционный кризис\n",
      "милан\n",
      "милота\n",
      "министерство обороны\n",
      "министр обороны\n",
      "минобороны\n",
      "минобороны новости\n",
      "минобороны рф\n",
      "минские договоренности\n",
      "минские соглашения\n",
      "мир\n",
      "мировая политика\n",
      "мистрали\n",
      "митинг\n",
      "михаил мишустин\n",
      "мишки\n",
      "млм\n",
      "ммвб\n",
      "ммкф\n",
      "ммм\n",
      "мне интересно\n",
      "мобилизация на украине\n",
      "мода\n",
      "мороженное\n",
      "мосгордума\n",
      "#мосгордума\n",
      "#москва\n",
      "мото\n",
      "мрак\n",
      "музыка\n",
      "музыку\n",
      "мультфильм\n",
      "муниципалитеты\n",
      "мыльные пузыри\n",
      "мэрия\n",
      "мягкие игрушки\n",
      "навальный\n",
      "#навальный\n",
      "на заказ\n",
      "нальчик\n",
      "народный фронт\n",
      "наруто\n",
      "настроение\n",
      "нацгвардия\n",
      "нацгвардия украины\n",
      "нацизм\n",
      "национальная валюта\n",
      "нашисты\n",
      "нг\n",
      "нелегалы\n",
      "немцов\n",
      "неформалы\n",
      "нижневартовск\n",
      "новая газета\n",
      "новогоднее\n",
      "новороссия\n",
      "новости ес\n",
      "новости крыма\n",
      "новости путин\n",
      "новости россии\n",
      "новости рубля\n",
      "новости сочи\n",
      "новости сша\n",
      "новости украина\n",
      "новости украины\n",
      "новость дня\n",
      "новые знакомства\n",
      "новый год\n",
      "нормандская четверка\n",
      "ночные прогулки\n",
      "ноябрь\n",
      "нравится\n",
      "нтв\n",
      "нургалиев\n",
      "оборотни\n",
      "обсе\n",
      "обсуждения украина\n",
      "общаться\n",
      "общаться с друзьями\n",
      "общение\n",
      "общение с друзьями\n",
      "общение с интересными людьми\n",
      "огород\n",
      "одесса\n",
      "однако\n",
      "октябрьск\n",
      "олег шеин\n",
      "олимпиада\n",
      "олимпиада 2014\n",
      "олимпиада в сочи\n",
      "олимпийский огонь\n",
      "о людях\n",
      "омск\n",
      "оон\n",
      "оп\n",
      "операция в сирии\n",
      "ополчение\n",
      "ополчение донбасса\n",
      "ополчение новороссии\n",
      "ополченцы\n",
      "оппозиция в россии\n",
      "оппозиция сирии\n",
      "оружие в сша\n",
      "осеннее\n",
      "осень\n",
      "особняк\n",
      "отдыхаем\n",
      "отдыхать\n",
      "отдых на природе\n",
      "отношения\n",
      "отношения с западом\n",
      "отпуск\n",
      "отчет\n",
      "офис\n",
      "панк\n",
      "панки\n",
      "панк-рок\n",
      "папарацци\n",
      "паркур\n",
      "парни\n",
      "пасха\n",
      "первая мировая война\n",
      "переводы\n",
      "переговоры в минске\n",
      "перепост\n",
      "переславль-залесский\n",
      "петр порошенко\n",
      "петь\n",
      "пжив\n",
      "пират\n",
      "пирсинг\n",
      "писать стихи\n",
      "пицца\n",
      "пишу стихи\n",
      "пишут\n",
      "плаванье\n",
      "плавать\n",
      "плакать\n",
      "планы сша\n",
      "пластик\n",
      "плюшевые мишки\n",
      "пляж\n",
      "победа\n",
      "подвеска\n",
      "подкаст\n",
      "подкасты\n",
      "поездки\n",
      "позиция\n",
      "позиция сша\n",
      "позорище\n",
      "полезные советы\n",
      "политика ес\n",
      "политика запада\n",
      "политика путина\n",
      "политика рф\n",
      "политика сша\n",
      "политика украины\n",
      "политинформация\n",
      "политическая оппозиция\n",
      "политический кризис\n",
      "политота\n",
      "полнолуние\n",
      "помощь россии\n",
      "помощь украине\n",
      "понравилось\n",
      "популярное\n",
      "попы\n",
      "порошенко\n",
      "последние новости\n",
      "последние новости ес\n",
      "последствия санкций\n",
      "поставки\n",
      "поставки газа\n",
      "поцелуи\n",
      "правители\n",
      "право\n",
      "правое дело\n",
      "правопорядок\n",
      "правый сектор\n",
      "праймериз\n",
      "предатели\n",
      "президент рф\n",
      "пресс-релизы\n",
      "приглашение\n",
      "приколы\n",
      "проблемы\n",
      "проблемы ес\n",
      "продано\n",
      "продукты питания\n",
      "происшествия\n",
      "противостояние\n",
      "псаки\n",
      "психи\n",
      "путешествовать\n",
      "путин\n",
      "#путин\n",
      "путин 2014\n",
      "путинизм\n",
      "путин новости\n",
      "путин сегодня\n",
      "путин сейчас\n",
      "путишествия\n",
      "пятая колонна\n",
      "пятигорск\n",
      "работа\n",
      "радость\n",
      "радуга\n",
      "развитие крыма\n",
      "развитие россии\n",
      "размышления\n",
      "ран\n",
      "ранетки\n",
      "рвс\n",
      "рейдерство\n",
      "рейтинг обамы\n",
      "рейтинг путина\n",
      "рекомендую\n",
      "реп\n",
      "репортажи\n",
      "референдум в крыму\n",
      "реформа армии\n",
      "реформа мвд\n",
      "ржунимагу\n",
      "рисовать\n",
      "рождество\n",
      "розовый цвет\n",
      "рок-музыка\n",
      "ролики\n",
      "ромашки\n",
      "российские ученые\n",
      "российское гражданство\n",
      "россия.\n",
      "россия и египет\n",
      "россия и запад\n",
      "россия и китай\n",
      "россия и сша\n",
      "россия и украина\n",
      "россия сегодня\n",
      "россия сша\n",
      "россия украина\n",
      "ртс\n",
      "рубль сегодня\n",
      "руина\n",
      "русская весна\n",
      "русская кухня\n",
      "русский рок\n",
      "рынок садовод\n",
      "саакашвили\n",
      "сакура\n",
      "самомотивация\n",
      "санкции\n",
      "санкции ес\n",
      "санкции против россии\n",
      "санкции против рф\n",
      "сарказм\n",
      "саске\n",
      "сатанизм\n",
      "саудовская аравия\n",
      "сбу\n",
      "свечи\n",
      "свободно\n",
      "с добрым утром\n",
      "севастополь\n",
      "североатлантический альянс\n",
      "селигер\n",
      "сергей собянин\n",
      "серьги\n",
      "сетевой маркетинг\n",
      "сидеть в инете\n",
      "сидеть в интернете\n",
      "сирийский конфликт\n",
      "сирия\n",
      "сирия новости\n",
      "системно-векторная психология\n",
      "ситуации\n",
      "ситуация на украине\n",
      "ска\n",
      "скейт\n",
      "скейты\n",
      "скорая помощь\n",
      "скорость\n",
      "скфо\n",
      "славянск\n",
      "сладкая выпечка\n",
      "сладкое\n",
      "слёзы\n",
      "слушать музыку\n",
      "смерш\n",
      "смешное\n",
      "смеяться\n",
      "смотреть\n",
      "смотреть онлайн\n",
      "с новым годом!\n",
      "сноуборд\n",
      "события на украине\n",
      "собянин\n",
      "собянин мэр\n",
      "современное\n",
      "солнце\n",
      "сопротивление\n",
      "состояние\n",
      "социальные проекты\n",
      "сочи2014\n",
      "сочи-2014\n",
      "#сочи2014\n",
      "спать\n",
      "спортсмены россии\n",
      "с праздником\n",
      "средневековье\n",
      "ссыльное\n",
      "ставропольский край\n",
      "сталь\n",
      "старое фото\n",
      "статья\n",
      "стиль\n",
      "страны запада\n",
      "страсть\n",
      "стратегия\n",
      "стрелков\n",
      "су-24\n",
      "субкультуры\n",
      "суицид\n",
      "сулейман керимов\n",
      "сурков\n",
      "суши\n",
      "сша\n",
      "сша 2014\n",
      "сша и ес\n",
      "сша новости\n",
      "сюрреализм\n",
      "тайвань\n",
      "такие дела\n",
      "танзания\n",
      "танцевать\n",
      "танцы\n",
      "тапки\n",
      "татуировки\n",
      "творец\n",
      "текст\n",
      "телеканал дождь\n",
      "телефон\n",
      "темнота\n",
      "тени для век\n",
      "тетрадь смерти\n",
      "тишина\n",
      "#тксадовод\n",
      "тк садовод\n",
      "то\n",
      "топ\n",
      "трансферы\n",
      "тренировка\n",
      "тусовки\n",
      "#тцмосква\n",
      "тц москва\n",
      "тц садовод\n",
      "тьма\n",
      "тюмень\n",
      "#тякмосква\n",
      "тяк москва\n",
      "убийство немцова\n",
      "убийцы\n",
      "удальцов\n",
      "ужастики\n",
      "ужасы\n",
      "узбеки\n",
      "украина\n",
      "украина война\n",
      "украина выборы\n",
      "украина ес\n",
      "украина новости\n",
      "украина сегодня\n",
      "украинские националисты\n",
      "украинские силовики\n",
      "украинский конфликт\n",
      "украшения\n",
      "укры\n",
      "уличное\n",
      "улыбаться\n",
      "улыбаюсь\n",
      "ульяновск\n",
      "ульяновская область\n",
      "умное\n",
      "у природы нет плохой погоды\n",
      "утреннее\n",
      "утро\n",
      "уход за лицом\n",
      "учёба\n",
      "факт\n",
      "фальсификации\n",
      "фашизм\n",
      "фашизм на украине\n",
      "февраль\n",
      "фентези\n",
      "флирт\n",
      "фондовые рынки\n",
      "фото\n",
      "фотоальбомы\n",
      "фотографировать\n",
      "фотографироваться\n",
      "фотокарточки\n",
      "фраза\n",
      "футбол\n",
      "фэнтази\n",
      "фэнтези\n",
      "харьков\n",
      "хентай\n",
      "хип-хоп\n",
      "хмао-югра\n",
      "ходить в кино\n",
      "ходить по магазинам\n",
      "холодное оружие\n",
      "хорошего дня\n",
      "хумар\n",
      "хумор\n",
      "хунта\n",
      "цао\n",
      "целлюлит\n",
      "целоваться\n",
      "цена нефти\n",
      "цены на нефть\n",
      "челябинск\n",
      "чемпионат европы\n",
      "черновик\n",
      "черный цвет\n",
      "честные выборы\n",
      "чёрный цвет\n",
      "читать книги\n",
      "чм по футболу\n",
      "чтение книг\n",
      "чужое\n",
      "чупа-чупсы\n",
      "шаман кинг\n",
      "шик\n",
      "шмотки\n",
      "шойгу\n",
      "шопинг\n",
      "шпильки\n",
      "штаты\n",
      "эзотерика\n",
      "экономика\n",
      "экономическая ситуация\n",
      "экономический кризис\n",
      "экономический форум\n",
      "экскурсия\n",
      "электроника\n",
      "эльфийская песнь\n",
      "эмбарго\n",
      "эмо\n",
      "эрдоган\n",
      "ювао\n",
      "#ювао\n",
      "ювенальная юстиция\n",
      "югра\n",
      "юревич\n",
      "юри\n",
      "я\n",
      "явления\n",
      "я думаю\n",
      "яой\n",
      "я рисую\n",
      "яркие цвета\n",
      "ярош\n",
      "яценюк\n"
     ]
    }
   ],
   "source": [
    "for tag in s:\n",
    "    if is_temporal_interest(tag):\n",
    "        print(tag[0])"
   ]
  },
  {
   "cell_type": "code",
   "execution_count": 189,
   "metadata": {
    "collapsed": false
   },
   "outputs": [
    {
     "name": "stdout",
     "output_type": "stream",
     "text": [
      "5734\n"
     ]
    },
    {
     "data": {
      "image/png": "[encoded data removed]",
      "text/plain": [
       "<matplotlib.figure.Figure at 0x7f96599f8fd0>"
      ]
     },
     "metadata": {},
     "output_type": "display_data"
    }
   ],
   "source": [
    "k = indexes_of_tags['ромашки']\n",
    "plt.plot(s[k][1:])\n",
    "plt.xlabel(s[k][0])\n",
    "print(k)"
   ]
  },
  {
   "cell_type": "code",
   "execution_count": 187,
   "metadata": {
    "collapsed": false
   },
   "outputs": [
    {
     "name": "stdout",
     "output_type": "stream",
     "text": [
      "2793\n"
     ]
    },
    {
     "data": {
      "image/png": "[encoded data removed]",
      "text/plain": [
       "<matplotlib.figure.Figure at 0x7f96599ec550>"
      ]
     },
     "metadata": {},
     "output_type": "display_data"
    }
   ],
   "source": [
    "k = indexes_of_tags['зеленый чай']\n",
    "plt.plot(s[k][1:])\n",
    "plt.xlabel(s[k][0])\n",
    "print(k)"
   ]
  },
  {
   "cell_type": "code",
   "execution_count": 190,
   "metadata": {
    "collapsed": false
   },
   "outputs": [
    {
     "name": "stdout",
     "output_type": "stream",
     "text": [
      "3680\n"
     ]
    },
    {
     "data": {
      "image/png": "[encoded data removed]",
      "text/plain": [
       "<matplotlib.figure.Figure at 0x7f9659969828>"
      ]
     },
     "metadata": {},
     "output_type": "display_data"
    }
   ],
   "source": [
    "k = indexes_of_tags['люблю музыку']\n",
    "plt.plot(s[k][1:])\n",
    "plt.xlabel(s[k][0])\n",
    "print(k)"
   ]
  },
  {
   "cell_type": "code",
   "execution_count": 181,
   "metadata": {
    "collapsed": false
   },
   "outputs": [
    {
     "data": {
      "text/plain": [
       "[(2, 4, 3), (11, 13, 12), (16, 25, 18), (35, 38, 37), (39, 54, 44)]"
      ]
     },
     "execution_count": 181,
     "metadata": {},
     "output_type": "execute_result"
    }
   ],
   "source": [
    "on(to_int(s[k][1:]))"
   ]
  },
  {
   "cell_type": "code",
   "execution_count": 182,
   "metadata": {
    "collapsed": false
   },
   "outputs": [
    {
     "data": {
      "text/plain": [
       "53.25"
      ]
     },
     "execution_count": 182,
     "metadata": {},
     "output_type": "execute_result"
    }
   ],
   "source": [
    "np.mean(to_int(s[k][1:]))"
   ]
  },
  {
   "cell_type": "code",
   "execution_count": null,
   "metadata": {
    "collapsed": true
   },
   "outputs": [],
   "source": [
    "l = []\n",
    "for a in s:\n",
    "    l.append(to_int(a[1:]))"
   ]
  },
  {
   "cell_type": "code",
   "execution_count": 205,
   "metadata": {
    "collapsed": false
   },
   "outputs": [],
   "source": [
    "p = {}\n",
    "for a in l:\n",
    "    for i in range(len(a)):\n",
    "        if i not in p:\n",
    "            p[i] = [a[i]]\n",
    "        else:\n",
    "            p[i].append(a[i])"
   ]
  },
  {
   "cell_type": "code",
   "execution_count": 207,
   "metadata": {
    "collapsed": false
   },
   "outputs": [],
   "source": [
    "totals = [0] * (len(s[0]) - 1)\n",
    "for key in p:\n",
    "    totals[key] = sum(p[key])"
   ]
  },
  {
   "cell_type": "code",
   "execution_count": 210,
   "metadata": {
    "collapsed": false
   },
   "outputs": [
    {
     "data": {
      "text/plain": [
       "[<matplotlib.lines.Line2D at 0x7f96598ee3c8>]"
      ]
     },
     "execution_count": 210,
     "metadata": {},
     "output_type": "execute_result"
    },
    {
     "data": {
      "image/png": "[encoded data removed]",
      "text/plain": [
       "<matplotlib.figure.Figure at 0x7f96598fccc0>"
      ]
     },
     "metadata": {},
     "output_type": "display_data"
    }
   ],
   "source": [
    "plt.plot(totals)"
   ]
  },
  {
   "cell_type": "code",
   "execution_count": null,
   "metadata": {
    "collapsed": false
   },
   "outputs": [],
   "source": []
  }
 ],
 "metadata": {
  "kernelspec": {
   "display_name": "Python 3",
   "language": "python",
   "name": "python3"
  },
  "language_info": {
   "codemirror_mode": {
    "name": "ipython",
    "version": 3
   },
   "file_extension": ".py",
   "mimetype": "text/x-python",
   "name": "python",
   "nbconvert_exporter": "python",
   "pygments_lexer": "ipython3",
   "version": "3.4.3"
  }
 },
 "nbformat": 4,
 "nbformat_minor": 0
}
