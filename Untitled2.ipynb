{
 "cells": [
  {
   "cell_type": "code",
   "execution_count": 1,
   "metadata": {
    "collapsed": true
   },
   "outputs": [],
   "source": [
    "from gensim.models import Word2Vec\n"
   ]
  },
  {
   "cell_type": "code",
   "execution_count": 2,
   "metadata": {
    "collapsed": true
   },
   "outputs": [],
   "source": [
    "def get_tags(filename='tags.txt'):\n",
    "    tags = set()\n",
    "    handle = open(filename)\n",
    "    for line in handle:\n",
    "        tag = line.strip()\n",
    "        if tag:\n",
    "            tags.add(tag)\n",
    "    return tags\n"
   ]
  },
  {
   "cell_type": "code",
   "execution_count": 3,
   "metadata": {
    "collapsed": false
   },
   "outputs": [],
   "source": [
    "#path = 'tag_vectors.bin'\n",
    "#path = 'tagsdata.bin'\n",
    "path = 'data_50_2.bin'\n",
    "\n",
    "model = Word2Vec.load_word2vec_format(path, binary=True)\n"
   ]
  },
  {
   "cell_type": "code",
   "execution_count": 4,
   "metadata": {
    "collapsed": true
   },
   "outputs": [],
   "source": [
    "#tags_filename = 'tags_v.txt'\n",
    "tags_filename = 'tags_50_2.txt'\n",
    "tags = get_tags(tags_filename)"
   ]
  },
  {
   "cell_type": "code",
   "execution_count": 5,
   "metadata": {
    "collapsed": false
   },
   "outputs": [],
   "source": [
    "tags_in_model = set()\n",
    "for tag in tags:\n",
    "    if tag in model:\n",
    "        tags_in_model.add(tag)"
   ]
  },
  {
   "cell_type": "code",
   "execution_count": 6,
   "metadata": {
    "collapsed": false
   },
   "outputs": [],
   "source": [
    "tags_in_model_lst = list(tags_in_model)"
   ]
  },
  {
   "cell_type": "code",
   "execution_count": 7,
   "metadata": {
    "collapsed": true
   },
   "outputs": [],
   "source": [
    "def empty_matrix(n):\n",
    "    matrix = []\n",
    "    for i in range(0, n):\n",
    "        l = []\n",
    "        for j in range(0,n):\n",
    "            l.append(0)\n",
    "        matrix.append(l)\n",
    "    return matrix\n",
    "\n",
    "def co_table(lst):\n",
    "    global model\n",
    "    n = len(lst)\n",
    "    g = empty_matrix(n)\n",
    "    for i in range(0, n):\n",
    "        for j in range(0, n):\n",
    "            if i != j:\n",
    "                g[i][j] = (1 - model.similarity(lst[i], lst[j]))\n",
    "    return g\n"
   ]
  },
  {
   "cell_type": "code",
   "execution_count": 8,
   "metadata": {
    "collapsed": true
   },
   "outputs": [],
   "source": [
    "import scipy.spatial.distance as ssd\n",
    "from matplotlib import pyplot as plt\n",
    "from scipy.cluster.hierarchy import dendrogram, linkage, fcluster\n",
    "import numpy as np"
   ]
  },
  {
   "cell_type": "code",
   "execution_count": 9,
   "metadata": {
    "collapsed": false
   },
   "outputs": [
    {
     "data": {
      "text/plain": [
       "2872"
      ]
     },
     "execution_count": 9,
     "metadata": {},
     "output_type": "execute_result"
    }
   ],
   "source": [
    "len(tags_in_model_lst)"
   ]
  },
  {
   "cell_type": "code",
   "execution_count": 10,
   "metadata": {
    "collapsed": true
   },
   "outputs": [],
   "source": [
    "co_tabl = co_table(tags_in_model_lst)"
   ]
  },
  {
   "cell_type": "code",
   "execution_count": 11,
   "metadata": {
    "collapsed": true
   },
   "outputs": [],
   "source": [
    "distArray = ssd.squareform(co_tabl)"
   ]
  },
  {
   "cell_type": "code",
   "execution_count": 12,
   "metadata": {
    "collapsed": true
   },
   "outputs": [],
   "source": [
    "Z = linkage(distArray, 'average')"
   ]
  },
  {
   "cell_type": "code",
   "execution_count": 13,
   "metadata": {
    "collapsed": true
   },
   "outputs": [],
   "source": [
    "%matplotlib inline"
   ]
  },
  {
   "cell_type": "code",
   "execution_count": 14,
   "metadata": {
    "collapsed": false
   },
   "outputs": [
    {
     "name": "stderr",
     "output_type": "stream",
     "text": [
      "/usr/lib/python3/dist-packages/matplotlib/collections.py:549: FutureWarning: elementwise comparison failed; returning scalar instead, but in the future will perform elementwise comparison\n",
      "  if self._edgecolors == 'face':\n"
     ]
    },
    {
     "data": {
      "image/png": "[encoded data removed]",
      "text/plain": [
       "<matplotlib.figure.Figure at 0x7fc27e114cc0>"
      ]
     },
     "metadata": {},
     "output_type": "display_data"
    }
   ],
   "source": [
    "plt.title('Hierarchical Clustering Dendrogram (truncated)')\n",
    "plt.xlabel('sample index')\n",
    "plt.ylabel('distance')\n",
    "dendrogram(\n",
    "    Z,\n",
    "    truncate_mode='lastp',\n",
    "    p=12,\n",
    "    show_leaf_counts=False,\n",
    "    leaf_rotation=90.,\n",
    "    leaf_font_size=12.,\n",
    "    show_contracted=True,\n",
    ")\n",
    "plt.show()"
   ]
  },
  {
   "cell_type": "code",
   "execution_count": 15,
   "metadata": {
    "collapsed": true
   },
   "outputs": [],
   "source": [
    "def retrieve_class(i, lst_words, lst_clusters):\n",
    "    cluster_words = set()\n",
    "    for word, cluster in zip(lst_words, lst_clusters):\n",
    "        #print()\n",
    "        if cluster == i:\n",
    "            cluster_words.add(word)\n",
    "    return cluster_words"
   ]
  },
  {
   "cell_type": "code",
   "execution_count": 16,
   "metadata": {
    "collapsed": true
   },
   "outputs": [],
   "source": [
    "def find_class_of_tag(tag, lst_words, lst_clusters):\n",
    "    for word, cluster in zip(lst_words, lst_clusters):\n",
    "        if word == tag:\n",
    "            return cluster\n",
    "    return 0"
   ]
  },
  {
   "cell_type": "code",
   "execution_count": 17,
   "metadata": {
    "collapsed": false
   },
   "outputs": [
    {
     "name": "stdout",
     "output_type": "stream",
     "text": [
      "clusters: 1446\n"
     ]
    }
   ],
   "source": [
    "max_d = 0.6 #525\n",
    "clusters = fcluster(Z, max_d, criterion='distance')\n",
    "number_of_clusters = len(set(clusters))\n",
    "print('clusters:', number_of_clusters)"
   ]
  },
  {
   "cell_type": "code",
   "execution_count": 18,
   "metadata": {
    "collapsed": false
   },
   "outputs": [],
   "source": [
    "p = retrieve_class(1, tags_in_model_lst, list(clusters))"
   ]
  },
  {
   "cell_type": "code",
   "execution_count": 19,
   "metadata": {
    "collapsed": false
   },
   "outputs": [
    {
     "data": {
      "text/plain": [
       "{'пиво'}"
      ]
     },
     "execution_count": 19,
     "metadata": {},
     "output_type": "execute_result"
    }
   ],
   "source": [
    "p"
   ]
  },
  {
   "cell_type": "code",
   "execution_count": 20,
   "metadata": {
    "collapsed": false
   },
   "outputs": [
    {
     "name": "stdout",
     "output_type": "stream",
     "text": [
      "1267\n"
     ]
    },
    {
     "data": {
      "text/plain": [
       "{'власть', 'государство', 'народ', 'политика', 'революция'}"
      ]
     },
     "execution_count": 20,
     "metadata": {},
     "output_type": "execute_result"
    }
   ],
   "source": [
    "class_of = find_class_of_tag('политика', tags_in_model_lst, list(clusters))\n",
    "print(class_of)\n",
    "if class_of:\n",
    "    pp = retrieve_class(class_of, tags_in_model_lst, list(clusters))\n",
    "pp"
   ]
  },
  {
   "cell_type": "code",
   "execution_count": 21,
   "metadata": {
    "collapsed": true
   },
   "outputs": [],
   "source": [
    "def get_class_of_word(word, tags_in_model_lst, clusters):\n",
    "    p = {}\n",
    "    class_of = find_class_of_tag(word, tags_in_model_lst, clusters)\n",
    "    if class_of:\n",
    "        p = retrieve_class(class_of, tags_in_model_lst, clusters)\n",
    "    return p"
   ]
  },
  {
   "cell_type": "code",
   "execution_count": 50,
   "metadata": {
    "collapsed": false
   },
   "outputs": [
    {
     "name": "stdout",
     "output_type": "stream",
     "text": [
      "word: фото\n",
      "cluster: {'фотографии', 'фото', 'фотография'}\n",
      "word: политика\n",
      "cluster: {'власть', 'государство', 'народ', 'политика', 'революция'}\n",
      "word: война\n",
      "cluster: {'сепаратизм', 'война', 'россия', 'гражданская#@###@#война'}\n",
      "word: сирия\n",
      "cluster: {'йемен', 'запад', 'сирия', 'игил', 'пакистан', 'обама', 'саудовская#@###@#аравия', 'внешняя#@###@#политика', 'ядерное#@###@#оружие', 'дипломатия', 'сша', 'холодная#@###@#война', 'геополитика', 'нато', 'мид', 'оон', 'ирак', 'ближний#@###@#восток', 'иран'}\n",
      "word: актер\n",
      "cluster: {'поэт', 'благодарность', 'писатель', 'мать', 'слово', 'галерея', 'актер', 'рай', 'актриса', 'разум', 'костюм', 'спектакль', 'мастерская', 'перестройка', 'скульптура', 'дерево', 'журналист', 'путь', 'оформление', 'ад', 'вднх', 'крест', 'шекспир'}\n",
      "word: зима\n",
      "cluster: {'первый#@###@#снег', 'снегопад', 'лед', 'холодно', 'зима', 'мороз', 'снег', 'холод'}\n",
      "word: новый#@###@#год\n",
      "cluster: {'новый#@###@#год', 'нг'}\n",
      "word: сентябрь\n",
      "cluster: {'август', 'июнь', 'сентябрь', 'июль'}\n",
      "word: фотки\n",
      "cluster: {'фотки'}\n",
      "word: информационная#@###@#война\n",
      "cluster: {'пропаганда', 'информационная#@###@#война', 'сми'}\n"
     ]
    }
   ],
   "source": [
    "# фото\n",
    "# политика\n",
    "# война\n",
    "# сирия\n",
    "# актер\n",
    "# зима\n",
    "# новый#@###@#год\n",
    "# сентябрь\n",
    "test_words = ['фото', 'политика', 'война', 'сирия', 'актер', 'зима',\n",
    "              'новый#@###@#год', 'сентябрь','фотки','информационная#@###@#война']\n",
    "for test_word in test_words:\n",
    "    print('word: {0}\\ncluster: {1}'.format(test_word, get_class_of_word(test_word, tags_in_model_lst, list(clusters))))\n"
   ]
  },
  {
   "cell_type": "markdown",
   "metadata": {},
   "source": [
    "Автоматический выбор количества кластеров"
   ]
  },
  {
   "cell_type": "markdown",
   "metadata": {},
   "source": [
    "Inconsistency Method"
   ]
  },
  {
   "cell_type": "code",
   "execution_count": 47,
   "metadata": {
    "collapsed": false
   },
   "outputs": [
    {
     "name": "stdout",
     "output_type": "stream",
     "text": [
      "clusters: 958\n"
     ]
    }
   ],
   "source": [
    "clusters2 = fcluster(Z, t=1, criterion='inconsistent')\n",
    "number_of_clusters2 = len(set(clusters2))\n",
    "print('clusters:', number_of_clusters2)"
   ]
  },
  {
   "cell_type": "code",
   "execution_count": 49,
   "metadata": {
    "collapsed": false
   },
   "outputs": [
    {
     "name": "stdout",
     "output_type": "stream",
     "text": [
      "word: фото\n",
      "cluster: {'фотографии', 'мои#@###@#фото', 'фото', 'фотография'}\n",
      "word: политика\n",
      "cluster: {'политика', 'революция'}\n",
      "word: война\n",
      "cluster: {'война', 'гражданская#@###@#война'}\n",
      "word: сирия\n",
      "cluster: {'саудовская#@###@#аравия', 'ирак', 'сирия', 'иран'}\n",
      "word: актер\n",
      "cluster: {'актриса', 'костюм', 'поэт', 'актер', 'перестройка', 'писатель', 'крест', 'шекспир', 'мать'}\n",
      "word: зима\n",
      "cluster: {'первый#@###@#снег', 'снегопад', 'лед', 'зима', 'мороз', 'снег'}\n",
      "word: новый#@###@#год\n",
      "cluster: {'новый#@###@#год', 'нг'}\n",
      "word: сентябрь\n",
      "cluster: {'август', 'сентябрь'}\n",
      "word: фотки\n",
      "cluster: {'фотки', 'позитив'}\n",
      "word: информационная#@###@#война\n",
      "cluster: {'пропаганда', 'информационная#@###@#война', 'сми'}\n"
     ]
    }
   ],
   "source": [
    "test_words = ['фото', 'политика', 'война', 'сирия', 'актер', 'зима', 'новый#@###@#год',\n",
    "              'сентябрь','фотки','информационная#@###@#война']\n",
    "for test_word in test_words:\n",
    "    print('word: {0}\\ncluster: {1}'.format(test_word, get_class_of_word(test_word, tags_in_model_lst, list(clusters2))))\n"
   ]
  },
  {
   "cell_type": "markdown",
   "metadata": {},
   "source": [
    "Elbow Method"
   ]
  },
  {
   "cell_type": "code",
   "execution_count": 35,
   "metadata": {
    "collapsed": false
   },
   "outputs": [
    {
     "data": {
      "image/png": "[encoded data removed]",
      "text/plain": [
       "<matplotlib.figure.Figure at 0x7fc27d552278>"
      ]
     },
     "metadata": {},
     "output_type": "display_data"
    },
    {
     "name": "stdout",
     "output_type": "stream",
     "text": [
      "clusters: 2866\n"
     ]
    }
   ],
   "source": [
    "clust_distances = Z[:,2]\n",
    "clust_distances_rev = Z[::-1]\n",
    "idxs = np.arange(1, len(clust_distances) + 1)\n",
    "plt.plot(idxs, clust_distances)\n",
    "\n",
    "acceleration = np.diff(clust_distances, 2) # типа производной\n",
    "acceleration_rev = acceleration[::-1]\n",
    "plt.plot(idxs[:-2] + 1, acceleration_rev)\n",
    "plt.show()\n",
    "k = acceleration.argmax()\n",
    "print(\"clusters:\", k)"
   ]
  },
  {
   "cell_type": "code",
   "execution_count": 36,
   "metadata": {
    "collapsed": false
   },
   "outputs": [],
   "source": [
    "clusters_elbow = fcluster(Z, k, criterion='maxclust')"
   ]
  },
  {
   "cell_type": "code",
   "execution_count": 38,
   "metadata": {
    "collapsed": false
   },
   "outputs": [
    {
     "name": "stdout",
     "output_type": "stream",
     "text": [
      "word: фото\n",
      "cluster: {'фото'}\n",
      "word: политика\n",
      "cluster: {'политика'}\n",
      "word: война\n",
      "cluster: {'война'}\n",
      "word: сирия\n",
      "cluster: {'сирия'}\n",
      "word: актер\n",
      "cluster: {'актер'}\n",
      "word: зима\n",
      "cluster: {'зима'}\n",
      "word: новый#@###@#год\n",
      "cluster: {'новый#@###@#год'}\n",
      "word: сентябрь\n",
      "cluster: {'сентябрь'}\n",
      "word: фотки\n",
      "cluster: {'фотки'}\n"
     ]
    }
   ],
   "source": [
    "test_words = ['фото', 'политика', 'война', 'сирия', 'актер', 'зима', 'новый#@###@#год', 'сентябрь','фотки']\n",
    "for test_word in test_words:\n",
    "    print('word: {0}\\ncluster: {1}'.format(test_word, get_class_of_word(test_word, tags_in_model_lst, list(clusters_elbow))))\n"
   ]
  },
  {
   "cell_type": "markdown",
   "metadata": {},
   "source": [
    "Конец, дальше ничего интересного"
   ]
  },
  {
   "cell_type": "code",
   "execution_count": 28,
   "metadata": {
    "collapsed": false
   },
   "outputs": [
    {
     "data": {
      "text/plain": [
       "<gensim.models.word2vec.Word2Vec at 0x7f4e89860f60>"
      ]
     },
     "execution_count": 28,
     "metadata": {},
     "output_type": "execute_result"
    }
   ],
   "source": [
    "model"
   ]
  },
  {
   "cell_type": "code",
   "execution_count": 11,
   "metadata": {
    "collapsed": false
   },
   "outputs": [
    {
     "data": {
      "text/plain": [
       "2872"
      ]
     },
     "execution_count": 11,
     "metadata": {},
     "output_type": "execute_result"
    }
   ],
   "source": [
    "len(tags_in_model_lst)"
   ]
  },
  {
   "cell_type": "code",
   "execution_count": 17,
   "metadata": {
    "collapsed": false
   },
   "outputs": [
    {
     "data": {
      "text/plain": [
       "2872"
      ]
     },
     "execution_count": 17,
     "metadata": {},
     "output_type": "execute_result"
    }
   ],
   "source": [
    "len(co_tabl)"
   ]
  },
  {
   "cell_type": "code",
   "execution_count": 20,
   "metadata": {
    "collapsed": false
   },
   "outputs": [
    {
     "data": {
      "text/plain": [
       "array([[  2.10700000e+03,   2.33800000e+03,   1.48283082e-01,\n",
       "          2.00000000e+00],\n",
       "       [  7.00000000e+01,   1.00600000e+03,   1.66346556e-01,\n",
       "          2.00000000e+00],\n",
       "       [  1.73000000e+02,   2.61200000e+03,   1.94727165e-01,\n",
       "          2.00000000e+00],\n",
       "       ..., \n",
       "       [  5.73800000e+03,   5.73900000e+03,   1.00093145e+00,\n",
       "          1.64600000e+03],\n",
       "       [  5.72400000e+03,   5.73100000e+03,   1.00847308e+00,\n",
       "          1.22600000e+03],\n",
       "       [  5.74000000e+03,   5.74100000e+03,   1.01987516e+00,\n",
       "          2.87200000e+03]])"
      ]
     },
     "execution_count": 20,
     "metadata": {},
     "output_type": "execute_result"
    }
   ],
   "source": [
    "Z"
   ]
  },
  {
   "cell_type": "code",
   "execution_count": 21,
   "metadata": {
    "collapsed": false
   },
   "outputs": [
    {
     "data": {
      "text/plain": [
       "array([  2.10700000e+03,   2.33800000e+03,   1.48283082e-01,\n",
       "         2.00000000e+00])"
      ]
     },
     "execution_count": 21,
     "metadata": {},
     "output_type": "execute_result"
    }
   ],
   "source": [
    "Z[0]"
   ]
  },
  {
   "cell_type": "code",
   "execution_count": 22,
   "metadata": {
    "collapsed": false
   },
   "outputs": [
    {
     "data": {
      "text/plain": [
       "array([  7.00000000e+01,   1.00600000e+03,   1.66346556e-01,\n",
       "         2.00000000e+00])"
      ]
     },
     "execution_count": 22,
     "metadata": {},
     "output_type": "execute_result"
    }
   ],
   "source": [
    "Z[1]"
   ]
  },
  {
   "cell_type": "code",
   "execution_count": 23,
   "metadata": {
    "collapsed": false
   },
   "outputs": [
    {
     "data": {
      "text/plain": [
       "2871"
      ]
     },
     "execution_count": 23,
     "metadata": {},
     "output_type": "execute_result"
    }
   ],
   "source": [
    "len(Z)"
   ]
  },
  {
   "cell_type": "code",
   "execution_count": 26,
   "metadata": {
    "collapsed": false
   },
   "outputs": [
    {
     "data": {
      "text/plain": [
       "array([  5.72400000e+03,   5.73100000e+03,   1.00847308e+00,\n",
       "         1.22600000e+03])"
      ]
     },
     "execution_count": 26,
     "metadata": {},
     "output_type": "execute_result"
    }
   ],
   "source": [
    "Z[2869]"
   ]
  },
  {
   "cell_type": "code",
   "execution_count": 27,
   "metadata": {
    "collapsed": false
   },
   "outputs": [
    {
     "data": {
      "text/plain": [
       "array([  5.45100000e+03,   5.72800000e+03,   9.68023947e-01,\n",
       "         2.57000000e+02])"
      ]
     },
     "execution_count": 27,
     "metadata": {},
     "output_type": "execute_result"
    }
   ],
   "source": [
    "Z[2860]"
   ]
  },
  {
   "cell_type": "code",
   "execution_count": 49,
   "metadata": {
    "collapsed": true
   },
   "outputs": [],
   "source": [
    "def write_tree(Z, filename='tree.txt'):\n",
    "    handle = open(filename, 'w')\n",
    "    for step in Z:\n",
    "        handle.write('{0[0]}\\t{0[1]}\\t{0[2]}\\t{0[3]}\\n'.format(list(step)))\n",
    "    handle.close()"
   ]
  },
  {
   "cell_type": "code",
   "execution_count": 48,
   "metadata": {
    "collapsed": false
   },
   "outputs": [
    {
     "data": {
      "text/plain": [
       "'2107.0\\t2338.0\\t0.14828308196383833\\t2.0\\n'"
      ]
     },
     "execution_count": 48,
     "metadata": {},
     "output_type": "execute_result"
    }
   ],
   "source": [
    "'{0[0]}\\t{0[1]}\\t{0[2]}\\t{0[3]}\\n'.format(list(Z[0]))"
   ]
  },
  {
   "cell_type": "code",
   "execution_count": 37,
   "metadata": {
    "collapsed": false
   },
   "outputs": [
    {
     "data": {
      "text/plain": [
       "[2107.0, 2338.0, 0.14828308196383833, 2.0]"
      ]
     },
     "execution_count": 37,
     "metadata": {},
     "output_type": "execute_result"
    }
   ],
   "source": [
    "list(Z[0])"
   ]
  },
  {
   "cell_type": "code",
   "execution_count": 50,
   "metadata": {
    "collapsed": true
   },
   "outputs": [],
   "source": [
    "write_tree(Z)"
   ]
  },
  {
   "cell_type": "code",
   "execution_count": 51,
   "metadata": {
    "collapsed": false
   },
   "outputs": [
    {
     "data": {
      "text/plain": [
       "2871"
      ]
     },
     "execution_count": 51,
     "metadata": {},
     "output_type": "execute_result"
    }
   ],
   "source": [
    "len(Z)"
   ]
  },
  {
   "cell_type": "code",
   "execution_count": 73,
   "metadata": {
    "collapsed": false
   },
   "outputs": [
    {
     "data": {
      "text/plain": [
       "array([[  2.10700000e+03,   2.33800000e+03,   1.48283082e-01,\n",
       "          2.00000000e+00],\n",
       "       [  7.00000000e+01,   1.00600000e+03,   1.66346556e-01,\n",
       "          2.00000000e+00],\n",
       "       [  1.73000000e+02,   2.61200000e+03,   1.94727165e-01,\n",
       "          2.00000000e+00],\n",
       "       ..., \n",
       "       [  5.73800000e+03,   5.73900000e+03,   1.00093145e+00,\n",
       "          1.64600000e+03],\n",
       "       [  5.72400000e+03,   5.73100000e+03,   1.00847308e+00,\n",
       "          1.22600000e+03],\n",
       "       [  5.74000000e+03,   5.74100000e+03,   1.01987516e+00,\n",
       "          2.87200000e+03]])"
      ]
     },
     "execution_count": 73,
     "metadata": {},
     "output_type": "execute_result"
    }
   ],
   "source": [
    "Z"
   ]
  },
  {
   "cell_type": "code",
   "execution_count": 161,
   "metadata": {
    "collapsed": false
   },
   "outputs": [
    {
     "data": {
      "text/plain": [
       "4122756"
      ]
     },
     "execution_count": 161,
     "metadata": {},
     "output_type": "execute_result"
    }
   ],
   "source": [
    "len(distArray)"
   ]
  },
  {
   "cell_type": "code",
   "execution_count": 46,
   "metadata": {
    "collapsed": false
   },
   "outputs": [
    {
     "data": {
      "text/plain": [
       "(2872, 2872)"
      ]
     },
     "execution_count": 46,
     "metadata": {},
     "output_type": "execute_result"
    }
   ],
   "source": [
    "len(list(clusters)), len(tags_in_model_lst)"
   ]
  },
  {
   "cell_type": "code",
   "execution_count": 42,
   "metadata": {
    "collapsed": true
   },
   "outputs": [],
   "source": [
    "def write_list(filename, lst):\n",
    "    handle = open(filename, 'w')\n",
    "    for item in lst:\n",
    "        handle.write('{0}\\n'.format(item))\n",
    "    handle.close()\n"
   ]
  },
  {
   "cell_type": "code",
   "execution_count": 134,
   "metadata": {
    "collapsed": true
   },
   "outputs": [],
   "source": [
    "def write_lists(filename, lst1, lst2):\n",
    "    handle = open(filename, 'w')\n",
    "    for item1, item2 in zip(lst1, lst2):\n",
    "        handle.write('{0}\\t{1}\\n'.format(item1, item2))\n",
    "    handle.close()"
   ]
  },
  {
   "cell_type": "code",
   "execution_count": 135,
   "metadata": {
    "collapsed": true
   },
   "outputs": [],
   "source": [
    "write_lists('clust_tags_50_2.txt', clusters2, tags_in_model_lst)"
   ]
  },
  {
   "cell_type": "code",
   "execution_count": 51,
   "metadata": {
    "collapsed": true
   },
   "outputs": [],
   "source": [
    "write_list('cluster.txt', clusters2)"
   ]
  },
  {
   "cell_type": "code",
   "execution_count": 44,
   "metadata": {
    "collapsed": true
   },
   "outputs": [],
   "source": [
    "write_list('tags_50_2_in_model.txt', tags_in_model_lst)"
   ]
  },
  {
   "cell_type": "code",
   "execution_count": 91,
   "metadata": {
    "collapsed": false
   },
   "outputs": [
    {
     "name": "stdout",
     "output_type": "stream",
     "text": [
      "clusters: 1073\n"
     ]
    }
   ],
   "source": [
    "max_d3 = 0.65 #525\n",
    "clusters3 = fcluster(Z, max_d3, criterion='distance')\n",
    "number_of_clusters3 = len(set(clusters3))\n",
    "print('clusters:', number_of_clusters3)"
   ]
  },
  {
   "cell_type": "code",
   "execution_count": 60,
   "metadata": {
    "collapsed": true
   },
   "outputs": [],
   "source": [
    "def get_main_item(all_cluster, model):\n",
    "    #1 - model.similarity(lst[i], lst[j])\n",
    "    dist = {}\n",
    "    for item1 in all_cluster:\n",
    "        dist[item1] = 0\n",
    "        #sum_dist = 0\n",
    "        for item2 in all_cluster:\n",
    "            if item1 != item2:\n",
    "                dist[item1] += 1 - model.similarity(item1, item2)\n",
    "        #print(item1, dist[item1])\n",
    "    #print(dist)\n",
    "    return min(dist, key=dist.get)"
   ]
  },
  {
   "cell_type": "code",
   "execution_count": 105,
   "metadata": {
    "collapsed": false
   },
   "outputs": [
    {
     "name": "stdout",
     "output_type": "stream",
     "text": [
      "\n",
      "word: фото\n",
      "cluster: {'фотографии', 'фото', 'фотография'}\n",
      "most close to everybody: фото\n",
      "sum of everybody ('пейзаж', 0.5347439646720886)\n",
      "\n",
      "word: политика\n",
      "cluster: {'власть', 'государство', 'народ', 'политика', 'революция'}\n",
      "most close to everybody: власть\n",
      "sum of everybody ('русские', 0.5908567905426025)\n",
      "\n",
      "word: война\n",
      "cluster: {'сепаратизм', 'война', 'россия', 'гражданская#@###@#война'}\n",
      "most close to everybody: сепаратизм\n",
      "sum of everybody ('украина', 0.6151228547096252)\n",
      "\n",
      "word: сирия\n",
      "cluster: {'йемен', 'запад', 'сирия', 'игил', 'пакистан', 'обама', 'саудовская#@###@#аравия', 'внешняя#@###@#политика', 'ядерное#@###@#оружие', 'дипломатия', 'сша', 'холодная#@###@#война', 'геополитика', 'нато', 'мид', 'оон', 'ирак', 'ближний#@###@#восток', 'иран'}\n",
      "most close to everybody: ирак\n",
      "sum of everybody ('афганистан', 0.6523701548576355)\n",
      "\n",
      "word: актер\n",
      "cluster: {'поэт', 'благодарность', 'писатель', 'мать', 'слово', 'галерея', 'актер', 'рай', 'актриса', 'разум', 'костюм', 'спектакль', 'мастерская', 'перестройка', 'скульптура', 'дерево', 'журналист', 'путь', 'оформление', 'ад', 'вднх', 'крест', 'шекспир'}\n",
      "most close to everybody: костюм\n",
      "sum of everybody ('современное#@###@#искусство', 0.6063865423202515)\n",
      "\n",
      "word: зима\n",
      "cluster: {'первый#@###@#снег', 'снегопад', 'лед', 'холодно', 'зима', 'мороз', 'снег', 'холод'}\n",
      "most close to everybody: мороз\n",
      "sum of everybody ('январь', 0.5953232049942017)\n",
      "\n",
      "word: новый#@###@#год\n",
      "cluster: {'новый#@###@#год', 'нг'}\n",
      "most close to everybody: новый#@###@#год\n",
      "sum of everybody ('с#@###@#новым#@###@#годом', 0.5099891424179077)\n",
      "\n",
      "word: сентябрь\n",
      "cluster: {'август', 'июнь', 'сентябрь', 'июль'}\n",
      "most close to everybody: июль\n",
      "sum of everybody ('октябрь', 0.6033533215522766)\n",
      "\n",
      "word: фотки\n",
      "cluster: {'фотки'}\n",
      "most close to everybody: фотки\n",
      "sum of everybody ('путешествия', 0.3320278823375702)\n",
      "\n",
      "word: информационная#@###@#война\n",
      "cluster: {'пропаганда', 'информационная#@###@#война', 'сми'}\n",
      "most close to everybody: информационная#@###@#война\n",
      "sum of everybody ('фашизм', 0.5336402654647827)\n",
      "\n",
      "word: с#@###@#новым#@###@#годом\n",
      "cluster: {'елка', 'дед#@###@#мороз', 'ёлка', 'пожелания', 'с#@###@#новым#@###@#годом'}\n",
      "most close to everybody: дед#@###@#мороз\n",
      "sum of everybody ('новый#@###@#год', 0.5237280130386353)\n",
      "\n",
      "word: счастье\n",
      "cluster: {'любовь', 'одиночество', 'счастье', 'чувства'}\n",
      "most close to everybody: любовь\n",
      "sum of everybody ('ты', 0.5192523002624512)\n",
      "\n",
      "word: работа\n",
      "cluster: {'работа'}\n",
      "most close to everybody: работа\n",
      "sum of everybody ('копирайтинг', 0.34697332978248596)\n",
      "\n",
      "word: отдых\n",
      "cluster: {'отдых', 'путешествия', 'отпуск', 'путешествие', 'поездки'}\n",
      "most close to everybody: путешествия\n",
      "sum of everybody ('острова', 0.5094718933105469)\n",
      "\n",
      "word: праздник\n",
      "cluster: {'праздники', 'праздник'}\n",
      "most close to everybody: праздники\n",
      "sum of everybody ('поздравления', 0.3936629295349121)\n",
      "\n",
      "word: путешествие\n",
      "cluster: {'отдых', 'путешествия', 'отпуск', 'путешествие', 'поездки'}\n",
      "most close to everybody: путешествия\n",
      "sum of everybody ('острова', 0.5094718933105469)\n",
      "\n",
      "word: банк\n",
      "cluster: {'сбербанк', 'банк'}\n",
      "most close to everybody: сбербанк\n",
      "sum of everybody ('цб', 0.5156802535057068)\n",
      "\n",
      "word: экономика\n",
      "cluster: {'финансы', 'экономика', 'банки'}\n",
      "most close to everybody: финансы\n",
      "sum of everybody ('цб', 0.6203089952468872)\n"
     ]
    }
   ],
   "source": [
    "test_words = ['фото', 'политика', 'война', 'сирия', 'актер', 'зима', 'новый#@###@#год',\n",
    "              'сентябрь','фотки','информационная#@###@#война','с#@###@#новым#@###@#годом',\n",
    "             'счастье','работа','отдых','праздник','путешествие','банк','экономика']\n",
    "#test_words = ['зима']\n",
    "for test_word in test_words:\n",
    "    all_cluster = get_class_of_word(test_word, tags_in_model_lst, list(clusters))\n",
    "    print('\\nword: {0}\\ncluster: {1}'.format(test_word, all_cluster))\n",
    "    #1 - model.similarity(lst[i], lst[j])\n",
    "    print('most close to everybody: {0}'.format(get_main_item(all_cluster, model)))\n",
    "    #print(model.most_similar(positive=['новый#@###@#год', 'лето'], negative=['январь']))\n",
    "    print('sum of everybody',model.most_similar(positive=all_cluster)[0])"
   ]
  },
  {
   "cell_type": "code",
   "execution_count": 80,
   "metadata": {
    "collapsed": false
   },
   "outputs": [
    {
     "data": {
      "text/plain": [
       "0.48586093670498437"
      ]
     },
     "execution_count": 80,
     "metadata": {},
     "output_type": "execute_result"
    }
   ],
   "source": [
    "model.similarity('новый#@###@#год', 'с#@###@#новым#@###@#годом')"
   ]
  },
  {
   "cell_type": "code",
   "execution_count": 132,
   "metadata": {
    "collapsed": false,
    "scrolled": true
   },
   "outputs": [
    {
     "data": {
      "text/plain": [
       "['книга',\n",
       " 'книги',\n",
       " 'стругацкие',\n",
       " 'литература',\n",
       " 'роман',\n",
       " 'толстой',\n",
       " 'чехов',\n",
       " 'гоголь',\n",
       " 'достоевский',\n",
       " 'пелевин',\n",
       " 'акунин',\n",
       " 'быков',\n",
       " 'солженицын',\n",
       " 'есенин',\n",
       " 'булгаков',\n",
       " 'бродский',\n",
       " 'маяковский',\n",
       " 'лермонтов',\n",
       " 'поэт',\n",
       " 'соловьев',\n",
       " 'писатель',\n",
       " 'шекспир',\n",
       " 'пушкин',\n",
       " 'писатели',\n",
       " 'жзл',\n",
       " 'перестройка',\n",
       " 'актриса',\n",
       " 'актер',\n",
       " 'эссе',\n",
       " 'гайдар',\n",
       " 'поэзия',\n",
       " 'высоцкий',\n",
       " 'стихи',\n",
       " 'гений',\n",
       " 'цитата',\n",
       " 'интеллигенция',\n",
       " 'познер',\n",
       " 'шендерович',\n",
       " 'масс-медиа',\n",
       " 'лимонов',\n",
       " 'михалков',\n",
       " 'горбачев',\n",
       " 'каспаров',\n",
       " 'ельцин',\n",
       " 'макаревич',\n",
       " 'собчак',\n",
       " 'кашин',\n",
       " 'березовский',\n",
       " 'удальцов',\n",
       " 'миронов',\n",
       " 'чубайс']"
      ]
     },
     "execution_count": 132,
     "metadata": {},
     "output_type": "execute_result"
    }
   ],
   "source": [
    "start_word = 'книга'\n",
    "cluster = [start_word]\n",
    "n = 50\n",
    "dist = []\n",
    "for i in range(0, n):\n",
    "    most_close = model.most_similar(positive=cluster)[0]\n",
    "    cluster.append(most_close[0])\n",
    "    dist.append(most_close[1])\n",
    "cluster"
   ]
  },
  {
   "cell_type": "code",
   "execution_count": 133,
   "metadata": {
    "collapsed": false
   },
   "outputs": [
    {
     "data": {
      "text/plain": [
       "[<matplotlib.lines.Line2D at 0x7fc27d5bf080>]"
      ]
     },
     "execution_count": 133,
     "metadata": {},
     "output_type": "execute_result"
    },
    {
     "data": {
      "image/png": "[encoded data removed]",
      "text/plain": [
       "<matplotlib.figure.Figure at 0x7fc27d611fd0>"
      ]
     },
     "metadata": {},
     "output_type": "display_data"
    }
   ],
   "source": [
    "plt.plot(dist)"
   ]
  },
  {
   "cell_type": "code",
   "execution_count": null,
   "metadata": {
    "collapsed": true
   },
   "outputs": [],
   "source": []
  }
 ],
 "metadata": {
  "kernelspec": {
   "display_name": "Python 3",
   "language": "python",
   "name": "python3"
  },
  "language_info": {
   "codemirror_mode": {
    "name": "ipython",
    "version": 3
   },
   "file_extension": ".py",
   "mimetype": "text/x-python",
   "name": "python",
   "nbconvert_exporter": "python",
   "pygments_lexer": "ipython3",
   "version": "3.4.3"
  }
 },
 "nbformat": 4,
 "nbformat_minor": 0
}
