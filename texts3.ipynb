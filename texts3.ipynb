{
 "metadata": {
  "name": "",
  "signature": "sha256:a85f25470bc71d395104c6583764b4092aeda4593f99f239dfd7fd298c88ea93"
 },
 "nbformat": 3,
 "nbformat_minor": 0,
 "worksheets": [
  {
   "cells": [
    {
     "cell_type": "code",
     "collapsed": false,
     "input": [
      "import pymorphy2\n",
      "pm=pymorphy2.MorphAnalyzer()\n",
      "\n",
      "import re\n",
      "def c(x):\n",
      "    r = re.compile(ur'\\\\u([0-9a-f]{4})')\n",
      "    print r.sub(lambda t: unichr(int(t.group(1), base=16)), unicode(x)).replace(\"u'\", \"'\")\n",
      " \n",
      "def f(lst):\n",
      "    for x in lst:\n",
      "        print '%s\\t\\%s' % (x.normal_form, x.tag) "
     ],
     "language": "python",
     "metadata": {},
     "outputs": [],
     "prompt_number": 1
    },
    {
     "cell_type": "code",
     "collapsed": false,
     "input": [
      "def iter_documents(file):\n",
      "    from zipfile import ZipFile\n",
      "    with ZipFile(file, 'r') as z:\n",
      "        with z.open('texts.txt', 'r') as f:\n",
      "            for line in f:\n",
      "                line = line.decode('utf-8')\n",
      "                splitted = line.split('\\t')\n",
      "                doc_id = int(splitted[0])\n",
      "                text = '\\t'.join(splitted[1:])\n",
      "                yield (doc_id, text)\n"
     ],
     "language": "python",
     "metadata": {},
     "outputs": [],
     "prompt_number": 2
    },
    {
     "cell_type": "code",
     "collapsed": false,
     "input": [
      "def parse_document(text):\n",
      "    import re\n",
      "    return re.findall(r'\\w+', text, re.U)\n"
     ],
     "language": "python",
     "metadata": {},
     "outputs": [],
     "prompt_number": 3
    },
    {
     "cell_type": "code",
     "collapsed": false,
     "input": [
      "from nltk.stem.snowball import RussianStemmer\n",
      "stem = RussianStemmer()\n",
      "\n",
      "\n",
      "def normalize(word):\n",
      "    return stem.stem(word.lower())\n"
     ],
     "language": "python",
     "metadata": {},
     "outputs": [],
     "prompt_number": 4
    },
    {
     "cell_type": "code",
     "collapsed": false,
     "input": [
      "from collections import defaultdict\n",
      "\n",
      "\n",
      "def index(texts):\n",
      "    total_index = defaultdict(list)\n",
      "    for doc_id, text in texts:\n",
      "        if doc_id < 50:\n",
      "            list_of_positions_for_word = defaultdict(list)\n",
      "            list_of_words = parse_document(text)\n",
      "            for i in range(len(list_of_words)):\n",
      "                word = normalize(list_of_words[i])\n",
      "                list_of_positions_for_word[word].append(i)\n",
      "            for key in list_of_positions_for_word.keys():\n",
      "                total_index[key].append((doc_id,\n",
      "                                         list_of_positions_for_word[key]))\n",
      "    return total_index\n"
     ],
     "language": "python",
     "metadata": {},
     "outputs": [],
     "prompt_number": 6
    },
    {
     "cell_type": "code",
     "collapsed": false,
     "input": [
      "this = index(iter_documents('/home/jamsic/python2/texts.zip'))"
     ],
     "language": "python",
     "metadata": {},
     "outputs": [],
     "prompt_number": 7
    },
    {
     "cell_type": "code",
     "collapsed": false,
     "input": [
      "expressions = ['AND', 'OR', 'NOT', ')', '(']\n",
      "\n",
      "\n",
      "def bool_parse(bool_expr, this_index):\n",
      "    import re\n",
      "    parsed_bool_expr = re.findall(r'\\w+|[()]', bool_expr, re.U)\n",
      "    parsed_modified_bool_expr = list()\n",
      "    for token in parsed_bool_expr:\n",
      "        if token in expressions:\n",
      "            parsed_modified_bool_expr.append(token)\n",
      "        else:\n",
      "            set_of_doc_id_for_token = set()\n",
      "            for position in this_index[normalize(token)]:\n",
      "                set_of_doc_id_for_token.add(position[0])\n",
      "            parsed_modified_bool_expr.append(set_of_doc_id_for_token)\n",
      "    return parsed_modified_bool_expr\n",
      "\n",
      "\n",
      "class Expression:\n",
      "    def __init__(self, *context):\n",
      "        self.expr = context\n",
      "\n",
      "    def eval(self, this_index):\n",
      "        if len(self.expr) == 1:\n",
      "            return self.expr[0]\n",
      "        for k in range(len(self.expr)):\n",
      "            if self.expr[k] == 'OR':\n",
      "                left = Expression(*self.expr[:k]).eval(this_index)\n",
      "                right = Expression(*self.expr[k+1:]).eval(this_index)\n",
      "                return OR(left, right).eval()\n",
      "        for k in range(len(self.expr)):\n",
      "            if self.expr[k] == 'AND':\n",
      "                left = Expression(*self.expr[:k]).eval(this_index)\n",
      "                right = Expression(*self.expr[k+1:]).eval(this_index)\n",
      "                return AND(left, right).eval()\n",
      "        for k in range(len(self.expr)):\n",
      "            if self.expr[k] == 'NOT':\n",
      "                right = Expression(*self.expr[k+1:]).eval(this_index)\n",
      "                return NOT(None, right).eval(this_index)\n",
      "\n",
      "\n",
      "class Operation():\n",
      "    def __init__(self, left_operand, right_operand):\n",
      "        self.left_operand, self.right_operand = left_operand, right_operand\n",
      "\n",
      "\n",
      "class AND(Operation):\n",
      "    def eval(self):\n",
      "        total = set()\n",
      "        total = self.left_operand & self.right_operand\n",
      "        return total\n",
      "\n",
      "\n",
      "class NOT(Operation):\n",
      "    def eval(self, this_index):\n",
      "        total = set()\n",
      "        for list_of_positions in this_index.values():\n",
      "            for position in list_of_positions:\n",
      "                if position[0] not in self.right_operand:\n",
      "                    total.add(position[0])\n",
      "        return total\n",
      "\n",
      "\n",
      "class OR(Operation):\n",
      "    def eval(self):\n",
      "        total = set()\n",
      "        total = self.left_operand | self.right_operand\n",
      "        return total\n",
      "\n",
      "\n",
      "def evaluate(bool_expr, this_index):\n",
      "    bool_expr = '(' + bool_expr + ')'\n",
      "    print bool_expr\n",
      "    bool_expr = bool_parse(bool_expr, this_index)\n",
      "    print bool_expr\n",
      "    from collections import deque\n",
      "    stack_of_brackets = deque()\n",
      "    i = 0\n",
      "    while i < len(bool_expr):\n",
      "        if bool_expr[i] == '(':\n",
      "            stack_of_brackets.appendleft((i, '('))\n",
      "        if bool_expr[i] == ')':\n",
      "            assert stack_of_brackets, 'there is no ( to begin, :('\n",
      "            previous_bracket = stack_of_brackets.popleft()\n",
      "            assert previous_bracket[1] == '(', 'it`s not (, :('\n",
      "            # eval brackets\n",
      "            expr = Expression(*bool_expr[previous_bracket[0] +\n",
      "                                         1:i]).eval(this_index)\n",
      "            del bool_expr[previous_bracket[0]:i + 1]\n",
      "            bool_expr = bool_expr[0:previous_bracket[0]] + [expr] + \\\n",
      "                bool_expr[previous_bracket[0]:]\n",
      "            i = previous_bracket[0]\n",
      "        i += 1\n",
      "    return expr\n"
     ],
     "language": "python",
     "metadata": {},
     "outputs": [],
     "prompt_number": 143
    },
    {
     "cell_type": "code",
     "collapsed": false,
     "input": [
      "#bool_expr = u'(\u043f\u0440\u0438\u0432\u0435\u0442 OR \u044f) AND NOT (\u0432\u044b OR \u043c\u044b)'\n",
      "#bool_expr = u'\u043f\u043e\u0441\u043b\u0435 AND \u043b\u0435\u0442\u043d\u0438\u0445 AND \u043a\u0430\u043d\u0438\u043a\u0443\u043b'  # 0\n",
      "bool_expr = u'NOT NOT \u043f\u0440\u0438\u0432\u0435\u0442'\n",
      "\n",
      "(evaluate(bool_expr, this))"
     ],
     "language": "python",
     "metadata": {},
     "outputs": [
      {
       "output_type": "stream",
       "stream": "stdout",
       "text": [
        "(NOT NOT \u043f\u0440\u0438\u0432\u0435\u0442)\n",
        "[u'(', u'NOT', u'NOT', set([14]), u')']\n"
       ]
      },
      {
       "metadata": {},
       "output_type": "pyout",
       "prompt_number": 147,
       "text": [
        "{14}"
       ]
      }
     ],
     "prompt_number": 147
    },
    {
     "cell_type": "code",
     "collapsed": false,
     "input": [],
     "language": "python",
     "metadata": {},
     "outputs": []
    }
   ],
   "metadata": {}
  }
 ]
}