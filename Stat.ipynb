{
 "cells": [
  {
   "cell_type": "code",
   "execution_count": 1,
   "metadata": {
    "collapsed": true
   },
   "outputs": [],
   "source": [
    "filename = 'weekly-tag-statistic_20.txt'"
   ]
  },
  {
   "cell_type": "code",
   "execution_count": 2,
   "metadata": {
    "collapsed": true
   },
   "outputs": [],
   "source": [
    "def read(filename):\n",
    "    handle = open(filename)\n",
    "    header = handle.readline().strip().split('\\t')\n",
    "    data = []\n",
    "    header\n",
    "    for line in handle:\n",
    "        data.append([a for a in line.split('\\t') if a != '\\n'])\n",
    "    return header, data"
   ]
  },
  {
   "cell_type": "code",
   "execution_count": 3,
   "metadata": {
    "collapsed": true
   },
   "outputs": [],
   "source": [
    "def get_data_indexes_of_tags(all_data):\n",
    "    data_indexes = {}\n",
    "    for i in range(len(all_data)):\n",
    "        data_indexes[all_data[i][0]] = i\n",
    "    return data_indexes"
   ]
  },
  {
   "cell_type": "code",
   "execution_count": 4,
   "metadata": {
    "collapsed": true
   },
   "outputs": [],
   "source": [
    "header, stat = read(filename)"
   ]
  },
  {
   "cell_type": "code",
   "execution_count": 6,
   "metadata": {
    "collapsed": false
   },
   "outputs": [],
   "source": [
    "indexes_of_tags = get_data_indexes_of_tags(stat)"
   ]
  },
  {
   "cell_type": "code",
   "execution_count": 7,
   "metadata": {
    "collapsed": true
   },
   "outputs": [],
   "source": [
    "import numpy as np\n",
    "import matplotlib.pyplot as plt\n",
    "%matplotlib inline"
   ]
  },
  {
   "cell_type": "code",
   "execution_count": 8,
   "metadata": {
    "collapsed": false
   },
   "outputs": [
    {
     "data": {
      "image/png": "[encoded data removed]",
      "text/plain": [
       "<matplotlib.figure.Figure at 0x7f44be4ce358>"
      ]
     },
     "metadata": {},
     "output_type": "display_data"
    }
   ],
   "source": [
    "k = 0\n",
    "plt.plot(stat[k][1:])\n",
    "plt.xlabel(stat[k][0])\n",
    "ss = stat[k][1:]"
   ]
  },
  {
   "cell_type": "code",
   "execution_count": 9,
   "metadata": {
    "collapsed": true
   },
   "outputs": [],
   "source": [
    "to_int = lambda x: list(map(int, x))"
   ]
  },
  {
   "cell_type": "code",
   "execution_count": 12,
   "metadata": {
    "collapsed": false
   },
   "outputs": [],
   "source": [
    "stat_rows_only = []\n",
    "tag_names = []\n",
    "for row in stat:\n",
    "    stat_rows_only.append(to_int(row[1:]))\n",
    "    tag_names.append(row[0])"
   ]
  },
  {
   "cell_type": "code",
   "execution_count": 14,
   "metadata": {
    "collapsed": false
   },
   "outputs": [],
   "source": [
    "def argmax(row):\n",
    "    max_ = max(row)\n",
    "    argmaxes = [i for i in range(len(row)) if row[i] == max_]\n",
    "    return int(sum(argmaxes) / len(argmaxes))"
   ]
  },
  {
   "cell_type": "code",
   "execution_count": 15,
   "metadata": {
    "collapsed": true
   },
   "outputs": [],
   "source": [
    "def get_waves(row):\n",
    "    waves = []\n",
    "    mean_interest_level = sum(row) / len(row)\n",
    "    #print('mean int level {0}'.format(mean_interest_level))\n",
    "    opened = False\n",
    "    for i in range(len(row)):\n",
    "        if row[i] >= mean_interest_level:\n",
    "            #print('{0} > {1}'.format(row[i], mean_interest_level))\n",
    "            if not opened:\n",
    "                opened = True\n",
    "                start = i - 1\n",
    "                if start < 0:\n",
    "                    start = 0\n",
    "        if row[i] < mean_interest_level:\n",
    "            if opened:\n",
    "                opened = False\n",
    "                if start < i:\n",
    "                    argmax_ = start + argmax(row[start:i+1])\n",
    "                    if argmax_ > start:\n",
    "                        waves.append((start, i, argmax_),)\n",
    "    return waves"
   ]
  },
  {
   "cell_type": "code",
   "execution_count": 16,
   "metadata": {
    "collapsed": true
   },
   "outputs": [],
   "source": [
    "def to_tan_n_width(jumps, row):\n",
    "    a = []\n",
    "    #print(jumps)\n",
    "    for left, right, argmax_ in jumps:\n",
    "        max_ = row[argmax_]\n",
    "        vert = max_ - row[left]\n",
    "        hor = argmax_ - left\n",
    "        tan = vert / hor\n",
    "        width = right - left\n",
    "        a.append((tan, width),)\n",
    "    return a"
   ]
  },
  {
   "cell_type": "code",
   "execution_count": 17,
   "metadata": {
    "collapsed": true
   },
   "outputs": [],
   "source": [
    "def get_tan_n_width(row):\n",
    "    return to_tan_n_width(get_waves(row), row)"
   ]
  },
  {
   "cell_type": "code",
   "execution_count": 20,
   "metadata": {
    "collapsed": true
   },
   "outputs": [],
   "source": [
    "all_waves = []\n",
    "for stat_row in stat_rows_only:\n",
    "    all_waves.extend(get_waves(stat_row))"
   ]
  },
  {
   "cell_type": "code",
   "execution_count": 29,
   "metadata": {
    "collapsed": true
   },
   "outputs": [],
   "source": [
    "wave_per_date_count = {}\n",
    "for left, right, center in all_waves:\n",
    "    i = left\n",
    "    while i <= right:\n",
    "        if not i in wave_per_date_count:\n",
    "            wave_per_date_count[i] = 1\n",
    "        else:\n",
    "            wave_per_date_count[i] += 1\n",
    "        i += 1"
   ]
  },
  {
   "cell_type": "code",
   "execution_count": 33,
   "metadata": {
    "collapsed": true
   },
   "outputs": [],
   "source": [
    "wave_per_date_count_list = [0] * len(stat_rows_only[0])\n",
    "for date in wave_per_date_count:\n",
    "    wave_per_date_count_list[date] = wave_per_date_count[date]"
   ]
  },
  {
   "cell_type": "code",
   "execution_count": 35,
   "metadata": {
    "collapsed": false
   },
   "outputs": [
    {
     "data": {
      "text/plain": [
       "[<matplotlib.lines.Line2D at 0x7f44bd8fc860>]"
      ]
     },
     "execution_count": 35,
     "metadata": {},
     "output_type": "execute_result"
    },
    {
     "data": {
      "image/png": "[encoded data removed]",
      "text/plain": [
       "<matplotlib.figure.Figure at 0x7f44bdfadc50>"
      ]
     },
     "metadata": {},
     "output_type": "display_data"
    }
   ],
   "source": [
    "plt.plot(wave_per_date_count_list)"
   ]
  },
  {
   "cell_type": "code",
   "execution_count": null,
   "metadata": {
    "collapsed": true
   },
   "outputs": [],
   "source": []
  }
 ],
 "metadata": {
  "kernelspec": {
   "display_name": "Python 3",
   "language": "python",
   "name": "python3"
  },
  "language_info": {
   "codemirror_mode": {
    "name": "ipython",
    "version": 3
   },
   "file_extension": ".py",
   "mimetype": "text/x-python",
   "name": "python",
   "nbconvert_exporter": "python",
   "pygments_lexer": "ipython3",
   "version": "3.4.3"
  }
 },
 "nbformat": 4,
 "nbformat_minor": 0
}
