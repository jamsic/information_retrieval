{
 "metadata": {
  "name": "",
  "signature": "sha256:6357d8fbaabfbceabbb5039f0905a0b1709ed20d0d00d8665975c62e595b3f09"
 },
 "nbformat": 3,
 "nbformat_minor": 0,
 "worksheets": [
  {
   "cells": [
    {
     "cell_type": "code",
     "collapsed": false,
     "input": [
      "from sklearn import svm\n",
      "\n",
      "\n",
      "def svm_train(training_objects, answers):\n",
      "    clf = svm.SVC()\n",
      "    clf.fit(training_objects, answers)\n",
      "    return clf\n"
     ],
     "language": "python",
     "metadata": {},
     "outputs": [],
     "prompt_number": 36
    },
    {
     "cell_type": "code",
     "collapsed": false,
     "input": [
      "def get_set(filename, with_answers=False):\n",
      "    handle = open(filename, 'r')\n",
      "    objects = []\n",
      "    answers = []\n",
      "    for line in handle:\n",
      "        vector = [float(num) for num in line.split(',')]\n",
      "        # print(vector)\n",
      "        if with_answers:\n",
      "            obj, ans = vector[:-1], vector[-1]\n",
      "            objects.append(obj)\n",
      "            answers.append(ans)\n",
      "        else:\n",
      "            objects.append(vector)\n",
      "    if answers:\n",
      "        return objects, answers\n",
      "    else:\n",
      "        return objects\n"
     ],
     "language": "python",
     "metadata": {},
     "outputs": [],
     "prompt_number": 74
    },
    {
     "cell_type": "code",
     "collapsed": false,
     "input": [
      "filename = '/home/jamsic/python2/data/train.csv'\n",
      "filename2 = '/home/jamsic/python2/data/test.csv'"
     ],
     "language": "python",
     "metadata": {},
     "outputs": [],
     "prompt_number": 75
    },
    {
     "cell_type": "code",
     "collapsed": false,
     "input": [
      "a, b = get_set(filename, with_answers = True)\n",
      "clf = svm_train(a, b)\n",
      "test = get_set(filename2)\n",
      "pred = clf.predict(test)"
     ],
     "language": "python",
     "metadata": {},
     "outputs": [],
     "prompt_number": 76
    },
    {
     "cell_type": "code",
     "collapsed": false,
     "input": [
      "pred"
     ],
     "language": "python",
     "metadata": {},
     "outputs": [
      {
       "metadata": {},
       "output_type": "pyout",
       "prompt_number": 79,
       "text": [
        "array([ 0.,  0.,  1.,  1.,  1.,  1.,  1.,  0.,  0.,  1.,  0.,  0.,  0.,\n",
        "        0.,  0.,  1.,  1.,  0.,  0.,  0.,  1.,  0.,  1.,  0.,  0.,  0.,\n",
        "        0.,  1.,  0.,  0.,  0.,  0.,  1.,  0.,  1.,  0.,  0.,  0.,  1.,\n",
        "        0.,  0.,  1.,  0.,  1.,  0.,  0.,  1.,  1.,  0.,  0.,  0.,  0.,\n",
        "        0.,  1.,  1.,  0.,  0.,  0.,  1.,  1.,  0.,  1.,  0.,  1.,  1.,\n",
        "        1.,  1.,  1.,  1.,  0.,  0.,  0.,  1.,  1.,  0.,  0.,  0.,  0.,\n",
        "        1.,  0.,  1.,  1.,  1.,  0.,  0.,  0.,  1.,  1.,  1.,  1.,  1.,\n",
        "        1.,  1.,  1.,  1.,  0.,  0.,  0.,  1.,  1.,  0.,  1.,  0.,  0.,\n",
        "        0.,  0.,  0.,  1.,  0.,  0.,  1.,  1.,  1.,  0.,  1.,  0.,  1.,\n",
        "        1.,  0.,  1.,  1.,  1.,  1.,  1.,  0.,  1.,  0.,  1.,  1.,  1.,\n",
        "        0.,  1.,  0.,  1.,  1.,  1.,  0.,  0.,  1.,  1.,  0.,  0.,  0.,\n",
        "        1.,  0.,  0.,  1.,  0.,  0.,  0.])"
       ]
      }
     ],
     "prompt_number": 79
    },
    {
     "cell_type": "code",
     "collapsed": false,
     "input": [],
     "language": "python",
     "metadata": {},
     "outputs": [],
     "prompt_number": 86
    },
    {
     "cell_type": "code",
     "collapsed": false,
     "input": [],
     "language": "python",
     "metadata": {},
     "outputs": [],
     "prompt_number": 86
    },
    {
     "cell_type": "code",
     "collapsed": false,
     "input": [],
     "language": "python",
     "metadata": {},
     "outputs": [],
     "prompt_number": 85
    },
    {
     "cell_type": "code",
     "collapsed": false,
     "input": [],
     "language": "python",
     "metadata": {},
     "outputs": [],
     "prompt_number": 86
    },
    {
     "cell_type": "code",
     "collapsed": false,
     "input": [],
     "language": "python",
     "metadata": {},
     "outputs": []
    }
   ],
   "metadata": {}
  }
 ]
}