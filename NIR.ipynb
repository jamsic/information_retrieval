{
 "metadata": {
  "name": "",
  "signature": "sha256:988c28967c07f7d644df89b4f4c00a46e378240f6ac01e741e61710fdc3a82bf"
 },
 "nbformat": 3,
 "nbformat_minor": 0,
 "worksheets": [
  {
   "cells": [
    {
     "cell_type": "code",
     "collapsed": true,
     "input": [
      "import pymorphy2\n",
      "pm=pymorphy2.MorphAnalyzer()\n",
      "\n",
      "import re\n",
      "def c(x):\n",
      "    r = re.compile(ur'\\\\u([0-9a-f]{4})')\n",
      "    print r.sub(lambda t: unichr(int(t.group(1), base=16)), unicode(x)).replace(\"u'\", \"'\")\n",
      " \n",
      "def f(lst):\n",
      "    for x in lst:\n",
      "        print '%s\\t\\%s' % (x.normal_form, x.tag)"
     ],
     "language": "python",
     "metadata": {},
     "outputs": [],
     "prompt_number": 39
    },
    {
     "cell_type": "code",
     "collapsed": true,
     "input": [
      "import re\n",
      "\n",
      "\n",
      "def parse_document(text):\n",
      "    \"\"\"\n",
      "    \u0440\u0430\u0437\u0431\u0438\u0432\u0430\u0442\u044c \u0442\u0435\u043a\u0441\u0442 \u043d\u0430 \u043f\u0440\u0435\u0434\u043b\u043e\u0436\u0435\u043d\u0438\u044f.\n",
      "    \"\"\"\n",
      "    splitters = re.compile(r'[.?!]+|[.]{3}')\n",
      "    return [a for a in splitters.split(text) if a]\n",
      "\n",
      "\n",
      "def parse_sent(sent):\n",
      "    \"\"\"\n",
      "    \u0440\u0430\u0437\u0431\u0438\u0432\u0430\u0442\u044c \u043f\u0440\u0435\u0434\u043b\u043e\u0436\u0435\u043d\u0438\u0435 \u043d\u0430 \u0441\u043b\u043e\u0432\u0430.\n",
      "    \"\"\"\n",
      "    splitters = re.compile(r'[. ,]')\n",
      "    return [a for a in splitters.split(sent) if a]"
     ],
     "language": "python",
     "metadata": {},
     "outputs": [],
     "prompt_number": 32
    },
    {
     "cell_type": "code",
     "collapsed": true,
     "input": [
      "class TokenTypes(object):\n",
      "     WORD = 0\n",
      "     NUM = 1\n",
      "     ACR = 2\n",
      "\n",
      "\n",
      "def parse_sentence(sentence):\n",
      "    import re\n",
      "    scanner = re.Scanner([(r'([A-Z][.]){2,}', lambda s, t: (t, TokenTypes.ACR)),\n",
      "                      (r'[1-9]+',lambda s, t: (t, TokenTypes.NUM)),\n",
      "                      (r'\\s+', lambda s, t: None),\n",
      "                      (r'\\w+', lambda s, t: (t, TokenTypes.WORD)),\n",
      "                      (r'([.]{3}|\\W)', lambda s, t: None),\n",
      "                      ])\n",
      "    return [a for a in scanner.scan(sentence) if a]"
     ],
     "language": "python",
     "metadata": {},
     "outputs": [],
     "prompt_number": 33
    },
    {
     "cell_type": "code",
     "collapsed": true,
     "input": [
      "def analyse_word(word):\n",
      "    import pymorphy2\n",
      "    morph=pymorphy2.MorphAnalyzer()\n",
      "    return morph.parse(word)"
     ],
     "language": "python",
     "metadata": {},
     "outputs": [],
     "prompt_number": 34
    },
    {
     "cell_type": "code",
     "collapsed": true,
     "input": [
      "a = parse_document('Hi! How are you doing, Jones? Well, pretty good... I bought 1 new jacket.')"
     ],
     "language": "python",
     "metadata": {},
     "outputs": [],
     "prompt_number": 35
    },
    {
     "cell_type": "code",
     "collapsed": false,
     "input": [
      "b = [parse_sentence(k) for k in a]\n",
      "print a"
     ],
     "language": "python",
     "metadata": {},
     "outputs": [
      {
       "output_type": "stream",
       "stream": "stdout",
       "text": [
        "['Hi', ' How are you doing, Jones', ' Well, pretty good', ' I bought 1 new jacket']\n"
       ]
      }
     ],
     "prompt_number": 36
    },
    {
     "cell_type": "code",
     "collapsed": false,
     "input": [
      "b"
     ],
     "language": "python",
     "metadata": {},
     "outputs": [
      {
       "metadata": {},
       "output_type": "pyout",
       "prompt_number": 37,
       "text": [
        "[[[('Hi', 0)]],\n",
        " [[('How', 0), ('are', 0), ('you', 0), ('doing', 0), ('Jones', 0)]],\n",
        " [[('Well', 0), ('pretty', 0), ('good', 0)]],\n",
        " [[('I', 0), ('bought', 0), ('1', 1), ('new', 0), ('jacket', 0)]]]"
       ]
      }
     ],
     "prompt_number": 37
    },
    {
     "cell_type": "code",
     "collapsed": false,
     "input": [
      "import pymorphy2\n",
      "from collections import defaultdict\n",
      "\n",
      "\n",
      "def get_stat(text):\n",
      "    morph = pymorphy2.MorphAnalyzer()\n",
      "    total_dct = defaultdict(lambda: 0)\n",
      "    ps_dct = defaultdict(lambda: 0)\n",
      "    for sent in parse_document(text):\n",
      "        for word in parse_sent(sent):\n",
      "            #print word\n",
      "            p = morph.parse(word)[0]\n",
      "            #print p.normal_form\n",
      "            total_dct[p.normal_form] += 1\n",
      "            #print str(p.tag)[:4]\n",
      "            ps_dct[str(p.tag)[:4]] += 1\n",
      "    return total_dct, ps_dct"
     ],
     "language": "python",
     "metadata": {},
     "outputs": [],
     "prompt_number": 69
    },
    {
     "cell_type": "code",
     "collapsed": false,
     "input": [
      "text = u'\u0414\u0430 \u043b\u0430\u0434\u043d\u043e, \u0447\u0442\u043e, \u043d\u0435 \u0437\u043d\u0430\u0435\u0448\u044c? \u041a\u0430\u043a \u0442\u0430\u043a? \u041f\u043e \u043d\u0435\u0431\u0443 \u043f\u043b\u044b\u0432\u0443\u0442 \u043e\u0431\u043b\u0430\u043a\u0430. \u0412\u0437\u0433\u043b\u044f\u043d\u0438 \u043d\u0430 \u043d\u0435\u0431\u043e!'\n",
      "\n",
      "total, parts_of_speech = get_stat(text)"
     ],
     "language": "python",
     "metadata": {},
     "outputs": [],
     "prompt_number": 75
    },
    {
     "cell_type": "code",
     "collapsed": true,
     "input": [
      "c(total)"
     ],
     "language": "python",
     "metadata": {},
     "outputs": [
      {
       "output_type": "stream",
       "stream": "stdout",
       "text": [
        "defaultdict(<function <lambda> at 0xb6b79b0>, {'\u043d\u0435': 1, '\u043f\u043e': 1, '\u043a\u0430\u043a': 1, '\u043d\u0430': 1, '\u0434\u0430': 1, '\u043e\u0431\u043b\u0430\u043a\u043e': 1, '\u043f\u043b\u044b\u0442\u044c': 1, '\u0432\u0437\u0433\u043b\u044f\u043d\u0443\u0442\u044c': 1, '\u043b\u0430\u0434\u043d\u044b\u0439': 1, '\u0437\u043d\u0430\u0435\u0448\u044c': 1, '\u0447\u0442\u043e': 1, '\u0442\u0430\u043a': 1, '\u043d\u0435\u0431\u043e': 2})\n"
       ]
      }
     ],
     "prompt_number": 76
    },
    {
     "cell_type": "code",
     "collapsed": false,
     "input": [
      "c(parts_of_speech)"
     ],
     "language": "python",
     "metadata": {},
     "outputs": [
      {
       "output_type": "stream",
       "stream": "stdout",
       "text": [
        "defaultdict(<function <lambda> at 0x7be3938>, {'NOUN': 3, 'PRCL': 2, 'ADJS': 1, 'VERB': 2, 'CONJ': 4, 'PREP': 2})\n"
       ]
      }
     ],
     "prompt_number": 77
    },
    {
     "cell_type": "code",
     "collapsed": false,
     "input": [],
     "language": "python",
     "metadata": {},
     "outputs": []
    }
   ],
   "metadata": {}
  }
 ]
}